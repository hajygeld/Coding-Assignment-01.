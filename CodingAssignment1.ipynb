{
  "nbformat": 4,
  "nbformat_minor": 0,
  "metadata": {
    "colab": {
      "provenance": []
    },
    "kernelspec": {
      "name": "python3",
      "display_name": "Python 3"
    },
    "language_info": {
      "name": "python"
    },
    "accelerator": "GPU",
    "gpuClass": "standard"
  },
  "cells": [
    {
      "cell_type": "code",
      "execution_count": 1,
      "metadata": {
        "id": "4sy-J5IKgHO6"
      },
      "outputs": [],
      "source": [
        "import numpy as np\n",
        "import matplotlib.pyplot as plt\n",
        "import pandas as pd\n",
        "#import geopandas as gpd"
      ]
    },
    {
      "cell_type": "code",
      "source": [
        "%pip install geopandas"
      ],
      "metadata": {
        "colab": {
          "base_uri": "https://localhost:8080/"
        },
        "id": "MlunGffTKF7-",
        "outputId": "23a6c6f5-dea5-41fd-88d2-95e485de9c1d"
      },
      "execution_count": 6,
      "outputs": [
        {
          "output_type": "stream",
          "name": "stdout",
          "text": [
            "Looking in indexes: https://pypi.org/simple, https://us-python.pkg.dev/colab-wheels/public/simple/\n",
            "Collecting geopandas\n",
            "  Downloading geopandas-0.12.2-py3-none-any.whl (1.1 MB)\n",
            "\u001b[2K     \u001b[90m━━━━━━━━━━━━━━━━━━━━━━━━━━━━━━━━━━━━━━━━\u001b[0m \u001b[32m1.1/1.1 MB\u001b[0m \u001b[31m34.9 MB/s\u001b[0m eta \u001b[36m0:00:00\u001b[0m\n",
            "\u001b[?25hRequirement already satisfied: shapely>=1.7 in /usr/local/lib/python3.8/dist-packages (from geopandas) (2.0.1)\n",
            "Collecting pyproj>=2.6.1.post1\n",
            "  Downloading pyproj-3.4.1-cp38-cp38-manylinux_2_17_x86_64.manylinux2014_x86_64.whl (7.8 MB)\n",
            "\u001b[2K     \u001b[90m━━━━━━━━━━━━━━━━━━━━━━━━━━━━━━━━━━━━━━━━\u001b[0m \u001b[32m7.8/7.8 MB\u001b[0m \u001b[31m75.7 MB/s\u001b[0m eta \u001b[36m0:00:00\u001b[0m\n",
            "\u001b[?25hRequirement already satisfied: pandas>=1.0.0 in /usr/local/lib/python3.8/dist-packages (from geopandas) (1.3.5)\n",
            "Collecting fiona>=1.8\n",
            "  Downloading Fiona-1.9.1-cp38-cp38-manylinux_2_17_x86_64.manylinux2014_x86_64.whl (16.0 MB)\n",
            "\u001b[2K     \u001b[90m━━━━━━━━━━━━━━━━━━━━━━━━━━━━━━━━━━━━━━━━\u001b[0m \u001b[32m16.0/16.0 MB\u001b[0m \u001b[31m85.3 MB/s\u001b[0m eta \u001b[36m0:00:00\u001b[0m\n",
            "\u001b[?25hRequirement already satisfied: packaging in /usr/local/lib/python3.8/dist-packages (from geopandas) (23.0)\n",
            "Requirement already satisfied: certifi in /usr/local/lib/python3.8/dist-packages (from fiona>=1.8->geopandas) (2022.12.7)\n",
            "Collecting munch>=2.3.2\n",
            "  Downloading munch-2.5.0-py2.py3-none-any.whl (10 kB)\n",
            "Collecting click~=8.0\n",
            "  Downloading click-8.1.3-py3-none-any.whl (96 kB)\n",
            "\u001b[2K     \u001b[90m━━━━━━━━━━━━━━━━━━━━━━━━━━━━━━━━━━━━━━━━\u001b[0m \u001b[32m96.6/96.6 KB\u001b[0m \u001b[31m14.8 MB/s\u001b[0m eta \u001b[36m0:00:00\u001b[0m\n",
            "\u001b[?25hCollecting click-plugins>=1.0\n",
            "  Downloading click_plugins-1.1.1-py2.py3-none-any.whl (7.5 kB)\n",
            "Requirement already satisfied: setuptools in /usr/local/lib/python3.8/dist-packages (from fiona>=1.8->geopandas) (57.4.0)\n",
            "Requirement already satisfied: attrs>=19.2.0 in /usr/local/lib/python3.8/dist-packages (from fiona>=1.8->geopandas) (22.2.0)\n",
            "Collecting cligj>=0.5\n",
            "  Downloading cligj-0.7.2-py3-none-any.whl (7.1 kB)\n",
            "Requirement already satisfied: numpy>=1.17.3 in /usr/local/lib/python3.8/dist-packages (from pandas>=1.0.0->geopandas) (1.21.6)\n",
            "Requirement already satisfied: python-dateutil>=2.7.3 in /usr/local/lib/python3.8/dist-packages (from pandas>=1.0.0->geopandas) (2.8.2)\n",
            "Requirement already satisfied: pytz>=2017.3 in /usr/local/lib/python3.8/dist-packages (from pandas>=1.0.0->geopandas) (2022.7.1)\n",
            "Requirement already satisfied: six in /usr/local/lib/python3.8/dist-packages (from munch>=2.3.2->fiona>=1.8->geopandas) (1.15.0)\n",
            "Installing collected packages: pyproj, munch, click, cligj, click-plugins, fiona, geopandas\n",
            "  Attempting uninstall: click\n",
            "    Found existing installation: click 7.1.2\n",
            "    Uninstalling click-7.1.2:\n",
            "      Successfully uninstalled click-7.1.2\n",
            "\u001b[31mERROR: pip's dependency resolver does not currently take into account all the packages that are installed. This behaviour is the source of the following dependency conflicts.\n",
            "flask 1.1.4 requires click<8.0,>=5.1, but you have click 8.1.3 which is incompatible.\u001b[0m\u001b[31m\n",
            "\u001b[0mSuccessfully installed click-8.1.3 click-plugins-1.1.1 cligj-0.7.2 fiona-1.9.1 geopandas-0.12.2 munch-2.5.0 pyproj-3.4.1\n"
          ]
        }
      ]
    },
    {
      "cell_type": "code",
      "source": [
        "article_info = pd.read_csv(\"./sample_data/articleInfo.csv\")"
      ],
      "metadata": {
        "id": "tudkIBY3gbZ8"
      },
      "execution_count": 2,
      "outputs": []
    },
    {
      "cell_type": "code",
      "source": [
        "article_info"
      ],
      "metadata": {
        "colab": {
          "base_uri": "https://localhost:8080/",
          "height": 849
        },
        "id": "nQfRCyROm3sl",
        "outputId": "930a39fd-b233-49ff-a81b-8945b4029408"
      },
      "execution_count": 3,
      "outputs": [
        {
          "output_type": "execute_result",
          "data": {
            "text/plain": [
              "     Article No.                                              Title  Year  \\\n",
              "0              1  Study of Virtual Reality Immersive Technology ...  2022   \n",
              "1              2  Factors Influencing Nursing Students' Immersiv...  2021   \n",
              "2              3  A Novel Immersive Anatomy Education System (An...  2022   \n",
              "3              4  Digital Learning Across Boundaries (DLAB): Imm...  2021   \n",
              "4              5  Connecting Macroscopic, Molecular, and Symboli...  2022   \n",
              "..           ...                                                ...   ...   \n",
              "159          160  Virtual reality enhances safety training in th...  2022   \n",
              "160          161  Virtual reality for developing intercultural c...  2022   \n",
              "161          162  Virtual reality in problem-based learning cont...  2021   \n",
              "162          163  Virtual reality is more efficient in learning ...  2020   \n",
              "163          164  VR and MR technology for safety management edu...  2022   \n",
              "\n",
              "     Author Number                                          Key Words  \\\n",
              "0              3.0  virtual reality technologies, mathematics lear...   \n",
              "1              2.0  virtual reality; learning; immersive media tec...   \n",
              "2             17.0  immersive technology; augmented reality; anato...   \n",
              "3              4.0  Digital literacy; Changing society; Social dyn...   \n",
              "4              3.0  high school/introductory chemistry; laboratory...   \n",
              "..             ...                                                ...   \n",
              "159            2.0  non-WEIRD sample; safety training; simulation;...   \n",
              "160            3.0  Affective domain; Cultural competence; Instruc...   \n",
              "161            3.0  English learning; motivation; problem-based le...   \n",
              "162            8.0    Virtual reality; Education; Human heart anatomy   \n",
              "163            2.0  Authentic learning; Construction safety; Virtu...   \n",
              "\n",
              "     Citation                                             Source  \\\n",
              "0         7.0                            FRONTIERS IN PSYCHOLOGY   \n",
              "1         3.0                                            SENSORS   \n",
              "2         2.0                             APPLIED SCIENCES-BASEL   \n",
              "3         3.0  RESEARCH IN EDUCATION AND LEARNING INNOVATION ...   \n",
              "4         0.0                                 EDUCATION SCIENCES   \n",
              "..        ...                                                ...   \n",
              "159       3.0              Journal of Computer Assisted Learning   \n",
              "160       1.0      Educational Technology Research & Development   \n",
              "161      27.0              Journal of Computer Assisted Learning   \n",
              "162      36.0                            New Ideas in Psychology   \n",
              "163      15.0                                     Safety Science   \n",
              "\n",
              "                                              Abstract     Type  \n",
              "0    Mathematics is an important foundation for the...  Journal  \n",
              "1    Background/objectives: This study aims to iden...  Journal  \n",
              "2    Immersive technologies are redefining ways of ...  Journal  \n",
              "3    The Digital Learning Across Boundaries: Develo...  Journal  \n",
              "4    Redox reaction is a difficult concept to teach...  Journal  \n",
              "..                                                 ...      ...  \n",
              "159  Objective: Many industries struggle with train...  Journal  \n",
              "160  Intercultural communicative competence (ICC) i...  Journal  \n",
              "161  Learning a foreign language requires interacti...  Journal  \n",
              "162  New technologies make their way into education...  Journal  \n",
              "163  ‚Ä¢ VR and MR are successful in operationalisi...  Journal  \n",
              "\n",
              "[164 rows x 9 columns]"
            ],
            "text/html": [
              "\n",
              "  <div id=\"df-dad5df6f-28e5-4309-98f6-8069337ddf83\">\n",
              "    <div class=\"colab-df-container\">\n",
              "      <div>\n",
              "<style scoped>\n",
              "    .dataframe tbody tr th:only-of-type {\n",
              "        vertical-align: middle;\n",
              "    }\n",
              "\n",
              "    .dataframe tbody tr th {\n",
              "        vertical-align: top;\n",
              "    }\n",
              "\n",
              "    .dataframe thead th {\n",
              "        text-align: right;\n",
              "    }\n",
              "</style>\n",
              "<table border=\"1\" class=\"dataframe\">\n",
              "  <thead>\n",
              "    <tr style=\"text-align: right;\">\n",
              "      <th></th>\n",
              "      <th>Article No.</th>\n",
              "      <th>Title</th>\n",
              "      <th>Year</th>\n",
              "      <th>Author Number</th>\n",
              "      <th>Key Words</th>\n",
              "      <th>Citation</th>\n",
              "      <th>Source</th>\n",
              "      <th>Abstract</th>\n",
              "      <th>Type</th>\n",
              "    </tr>\n",
              "  </thead>\n",
              "  <tbody>\n",
              "    <tr>\n",
              "      <th>0</th>\n",
              "      <td>1</td>\n",
              "      <td>Study of Virtual Reality Immersive Technology ...</td>\n",
              "      <td>2022</td>\n",
              "      <td>3.0</td>\n",
              "      <td>virtual reality technologies, mathematics lear...</td>\n",
              "      <td>7.0</td>\n",
              "      <td>FRONTIERS IN PSYCHOLOGY</td>\n",
              "      <td>Mathematics is an important foundation for the...</td>\n",
              "      <td>Journal</td>\n",
              "    </tr>\n",
              "    <tr>\n",
              "      <th>1</th>\n",
              "      <td>2</td>\n",
              "      <td>Factors Influencing Nursing Students' Immersiv...</td>\n",
              "      <td>2021</td>\n",
              "      <td>2.0</td>\n",
              "      <td>virtual reality; learning; immersive media tec...</td>\n",
              "      <td>3.0</td>\n",
              "      <td>SENSORS</td>\n",
              "      <td>Background/objectives: This study aims to iden...</td>\n",
              "      <td>Journal</td>\n",
              "    </tr>\n",
              "    <tr>\n",
              "      <th>2</th>\n",
              "      <td>3</td>\n",
              "      <td>A Novel Immersive Anatomy Education System (An...</td>\n",
              "      <td>2022</td>\n",
              "      <td>17.0</td>\n",
              "      <td>immersive technology; augmented reality; anato...</td>\n",
              "      <td>2.0</td>\n",
              "      <td>APPLIED SCIENCES-BASEL</td>\n",
              "      <td>Immersive technologies are redefining ways of ...</td>\n",
              "      <td>Journal</td>\n",
              "    </tr>\n",
              "    <tr>\n",
              "      <th>3</th>\n",
              "      <td>4</td>\n",
              "      <td>Digital Learning Across Boundaries (DLAB): Imm...</td>\n",
              "      <td>2021</td>\n",
              "      <td>4.0</td>\n",
              "      <td>Digital literacy; Changing society; Social dyn...</td>\n",
              "      <td>3.0</td>\n",
              "      <td>RESEARCH IN EDUCATION AND LEARNING INNOVATION ...</td>\n",
              "      <td>The Digital Learning Across Boundaries: Develo...</td>\n",
              "      <td>Journal</td>\n",
              "    </tr>\n",
              "    <tr>\n",
              "      <th>4</th>\n",
              "      <td>5</td>\n",
              "      <td>Connecting Macroscopic, Molecular, and Symboli...</td>\n",
              "      <td>2022</td>\n",
              "      <td>3.0</td>\n",
              "      <td>high school/introductory chemistry; laboratory...</td>\n",
              "      <td>0.0</td>\n",
              "      <td>EDUCATION SCIENCES</td>\n",
              "      <td>Redox reaction is a difficult concept to teach...</td>\n",
              "      <td>Journal</td>\n",
              "    </tr>\n",
              "    <tr>\n",
              "      <th>...</th>\n",
              "      <td>...</td>\n",
              "      <td>...</td>\n",
              "      <td>...</td>\n",
              "      <td>...</td>\n",
              "      <td>...</td>\n",
              "      <td>...</td>\n",
              "      <td>...</td>\n",
              "      <td>...</td>\n",
              "      <td>...</td>\n",
              "    </tr>\n",
              "    <tr>\n",
              "      <th>159</th>\n",
              "      <td>160</td>\n",
              "      <td>Virtual reality enhances safety training in th...</td>\n",
              "      <td>2022</td>\n",
              "      <td>2.0</td>\n",
              "      <td>non-WEIRD sample; safety training; simulation;...</td>\n",
              "      <td>3.0</td>\n",
              "      <td>Journal of Computer Assisted Learning</td>\n",
              "      <td>Objective: Many industries struggle with train...</td>\n",
              "      <td>Journal</td>\n",
              "    </tr>\n",
              "    <tr>\n",
              "      <th>160</th>\n",
              "      <td>161</td>\n",
              "      <td>Virtual reality for developing intercultural c...</td>\n",
              "      <td>2022</td>\n",
              "      <td>3.0</td>\n",
              "      <td>Affective domain; Cultural competence; Instruc...</td>\n",
              "      <td>1.0</td>\n",
              "      <td>Educational Technology Research &amp; Development</td>\n",
              "      <td>Intercultural communicative competence (ICC) i...</td>\n",
              "      <td>Journal</td>\n",
              "    </tr>\n",
              "    <tr>\n",
              "      <th>161</th>\n",
              "      <td>162</td>\n",
              "      <td>Virtual reality in problem-based learning cont...</td>\n",
              "      <td>2021</td>\n",
              "      <td>3.0</td>\n",
              "      <td>English learning; motivation; problem-based le...</td>\n",
              "      <td>27.0</td>\n",
              "      <td>Journal of Computer Assisted Learning</td>\n",
              "      <td>Learning a foreign language requires interacti...</td>\n",
              "      <td>Journal</td>\n",
              "    </tr>\n",
              "    <tr>\n",
              "      <th>162</th>\n",
              "      <td>163</td>\n",
              "      <td>Virtual reality is more efficient in learning ...</td>\n",
              "      <td>2020</td>\n",
              "      <td>8.0</td>\n",
              "      <td>Virtual reality; Education; Human heart anatomy</td>\n",
              "      <td>36.0</td>\n",
              "      <td>New Ideas in Psychology</td>\n",
              "      <td>New technologies make their way into education...</td>\n",
              "      <td>Journal</td>\n",
              "    </tr>\n",
              "    <tr>\n",
              "      <th>163</th>\n",
              "      <td>164</td>\n",
              "      <td>VR and MR technology for safety management edu...</td>\n",
              "      <td>2022</td>\n",
              "      <td>2.0</td>\n",
              "      <td>Authentic learning; Construction safety; Virtu...</td>\n",
              "      <td>15.0</td>\n",
              "      <td>Safety Science</td>\n",
              "      <td>‚Ä¢ VR and MR are successful in operationalisi...</td>\n",
              "      <td>Journal</td>\n",
              "    </tr>\n",
              "  </tbody>\n",
              "</table>\n",
              "<p>164 rows × 9 columns</p>\n",
              "</div>\n",
              "      <button class=\"colab-df-convert\" onclick=\"convertToInteractive('df-dad5df6f-28e5-4309-98f6-8069337ddf83')\"\n",
              "              title=\"Convert this dataframe to an interactive table.\"\n",
              "              style=\"display:none;\">\n",
              "        \n",
              "  <svg xmlns=\"http://www.w3.org/2000/svg\" height=\"24px\"viewBox=\"0 0 24 24\"\n",
              "       width=\"24px\">\n",
              "    <path d=\"M0 0h24v24H0V0z\" fill=\"none\"/>\n",
              "    <path d=\"M18.56 5.44l.94 2.06.94-2.06 2.06-.94-2.06-.94-.94-2.06-.94 2.06-2.06.94zm-11 1L8.5 8.5l.94-2.06 2.06-.94-2.06-.94L8.5 2.5l-.94 2.06-2.06.94zm10 10l.94 2.06.94-2.06 2.06-.94-2.06-.94-.94-2.06-.94 2.06-2.06.94z\"/><path d=\"M17.41 7.96l-1.37-1.37c-.4-.4-.92-.59-1.43-.59-.52 0-1.04.2-1.43.59L10.3 9.45l-7.72 7.72c-.78.78-.78 2.05 0 2.83L4 21.41c.39.39.9.59 1.41.59.51 0 1.02-.2 1.41-.59l7.78-7.78 2.81-2.81c.8-.78.8-2.07 0-2.86zM5.41 20L4 18.59l7.72-7.72 1.47 1.35L5.41 20z\"/>\n",
              "  </svg>\n",
              "      </button>\n",
              "      \n",
              "  <style>\n",
              "    .colab-df-container {\n",
              "      display:flex;\n",
              "      flex-wrap:wrap;\n",
              "      gap: 12px;\n",
              "    }\n",
              "\n",
              "    .colab-df-convert {\n",
              "      background-color: #E8F0FE;\n",
              "      border: none;\n",
              "      border-radius: 50%;\n",
              "      cursor: pointer;\n",
              "      display: none;\n",
              "      fill: #1967D2;\n",
              "      height: 32px;\n",
              "      padding: 0 0 0 0;\n",
              "      width: 32px;\n",
              "    }\n",
              "\n",
              "    .colab-df-convert:hover {\n",
              "      background-color: #E2EBFA;\n",
              "      box-shadow: 0px 1px 2px rgba(60, 64, 67, 0.3), 0px 1px 3px 1px rgba(60, 64, 67, 0.15);\n",
              "      fill: #174EA6;\n",
              "    }\n",
              "\n",
              "    [theme=dark] .colab-df-convert {\n",
              "      background-color: #3B4455;\n",
              "      fill: #D2E3FC;\n",
              "    }\n",
              "\n",
              "    [theme=dark] .colab-df-convert:hover {\n",
              "      background-color: #434B5C;\n",
              "      box-shadow: 0px 1px 3px 1px rgba(0, 0, 0, 0.15);\n",
              "      filter: drop-shadow(0px 1px 2px rgba(0, 0, 0, 0.3));\n",
              "      fill: #FFFFFF;\n",
              "    }\n",
              "  </style>\n",
              "\n",
              "      <script>\n",
              "        const buttonEl =\n",
              "          document.querySelector('#df-dad5df6f-28e5-4309-98f6-8069337ddf83 button.colab-df-convert');\n",
              "        buttonEl.style.display =\n",
              "          google.colab.kernel.accessAllowed ? 'block' : 'none';\n",
              "\n",
              "        async function convertToInteractive(key) {\n",
              "          const element = document.querySelector('#df-dad5df6f-28e5-4309-98f6-8069337ddf83');\n",
              "          const dataTable =\n",
              "            await google.colab.kernel.invokeFunction('convertToInteractive',\n",
              "                                                     [key], {});\n",
              "          if (!dataTable) return;\n",
              "\n",
              "          const docLinkHtml = 'Like what you see? Visit the ' +\n",
              "            '<a target=\"_blank\" href=https://colab.research.google.com/notebooks/data_table.ipynb>data table notebook</a>'\n",
              "            + ' to learn more about interactive tables.';\n",
              "          element.innerHTML = '';\n",
              "          dataTable['output_type'] = 'display_data';\n",
              "          await google.colab.output.renderOutput(dataTable, element);\n",
              "          const docLink = document.createElement('div');\n",
              "          docLink.innerHTML = docLinkHtml;\n",
              "          element.appendChild(docLink);\n",
              "        }\n",
              "      </script>\n",
              "    </div>\n",
              "  </div>\n",
              "  "
            ]
          },
          "metadata": {},
          "execution_count": 3
        }
      ]
    },
    {
      "cell_type": "code",
      "source": [
        "author_info = pd.read_csv(\"./sample_data/authorInfo.csv\")"
      ],
      "metadata": {
        "id": "JcJAhUr3nRqo"
      },
      "execution_count": 5,
      "outputs": []
    },
    {
      "cell_type": "code",
      "source": [
        "author_info"
      ],
      "metadata": {
        "colab": {
          "base_uri": "https://localhost:8080/",
          "height": 423
        },
        "id": "DkY1TcM9npl4",
        "outputId": "f36346ce-e579-4b10-c321-7f6e0f6128b7"
      },
      "execution_count": 6,
      "outputs": [
        {
          "output_type": "execute_result",
          "data": {
            "text/plain": [
              "              Author Name                       Author Affiliation Country  \\\n",
              "0             Yu-Sheng Su         National Taiwan Ocean University  Taiwan   \n",
              "1          Hung-Wei Cheng         National Taiwan Ocean University  Taiwan   \n",
              "2           Chin-Feng Lai           National Cheng Kung University  Taiwan   \n",
              "3             Youngju Kim   Daejeon Health Institute of Technology   Korea   \n",
              "4            Sung Yun Ahn                      Pai Chai University   Korea   \n",
              "..                    ...                                      ...     ...   \n",
              "383          Kenny Miller                  Boise State University      USA   \n",
              "384  Shalini Ramachandran                       Chapman University     USA   \n",
              "385             Sheree Fu  California State University Los Angeles     USA   \n",
              "386          Karen Howell        University of Southern California     USA   \n",
              "387        Steven Cutchin                  Boise State University      USA   \n",
              "\n",
              "     Article No.  h-index  \n",
              "0              1      NaN  \n",
              "1              1      NaN  \n",
              "2              1      NaN  \n",
              "3              2      NaN  \n",
              "4              2      NaN  \n",
              "..           ...      ...  \n",
              "383           81      NaN  \n",
              "384           81      2.0  \n",
              "385           81      NaN  \n",
              "386           81      NaN  \n",
              "387           81      NaN  \n",
              "\n",
              "[388 rows x 5 columns]"
            ],
            "text/html": [
              "\n",
              "  <div id=\"df-e66ac627-a208-4eb8-953e-8353688ff8e2\">\n",
              "    <div class=\"colab-df-container\">\n",
              "      <div>\n",
              "<style scoped>\n",
              "    .dataframe tbody tr th:only-of-type {\n",
              "        vertical-align: middle;\n",
              "    }\n",
              "\n",
              "    .dataframe tbody tr th {\n",
              "        vertical-align: top;\n",
              "    }\n",
              "\n",
              "    .dataframe thead th {\n",
              "        text-align: right;\n",
              "    }\n",
              "</style>\n",
              "<table border=\"1\" class=\"dataframe\">\n",
              "  <thead>\n",
              "    <tr style=\"text-align: right;\">\n",
              "      <th></th>\n",
              "      <th>Author Name</th>\n",
              "      <th>Author Affiliation</th>\n",
              "      <th>Country</th>\n",
              "      <th>Article No.</th>\n",
              "      <th>h-index</th>\n",
              "    </tr>\n",
              "  </thead>\n",
              "  <tbody>\n",
              "    <tr>\n",
              "      <th>0</th>\n",
              "      <td>Yu-Sheng Su</td>\n",
              "      <td>National Taiwan Ocean University</td>\n",
              "      <td>Taiwan</td>\n",
              "      <td>1</td>\n",
              "      <td>NaN</td>\n",
              "    </tr>\n",
              "    <tr>\n",
              "      <th>1</th>\n",
              "      <td>Hung-Wei Cheng</td>\n",
              "      <td>National Taiwan Ocean University</td>\n",
              "      <td>Taiwan</td>\n",
              "      <td>1</td>\n",
              "      <td>NaN</td>\n",
              "    </tr>\n",
              "    <tr>\n",
              "      <th>2</th>\n",
              "      <td>Chin-Feng Lai</td>\n",
              "      <td>National Cheng Kung University</td>\n",
              "      <td>Taiwan</td>\n",
              "      <td>1</td>\n",
              "      <td>NaN</td>\n",
              "    </tr>\n",
              "    <tr>\n",
              "      <th>3</th>\n",
              "      <td>Youngju Kim</td>\n",
              "      <td>Daejeon Health Institute of Technology</td>\n",
              "      <td>Korea</td>\n",
              "      <td>2</td>\n",
              "      <td>NaN</td>\n",
              "    </tr>\n",
              "    <tr>\n",
              "      <th>4</th>\n",
              "      <td>Sung Yun Ahn</td>\n",
              "      <td>Pai Chai University</td>\n",
              "      <td>Korea</td>\n",
              "      <td>2</td>\n",
              "      <td>NaN</td>\n",
              "    </tr>\n",
              "    <tr>\n",
              "      <th>...</th>\n",
              "      <td>...</td>\n",
              "      <td>...</td>\n",
              "      <td>...</td>\n",
              "      <td>...</td>\n",
              "      <td>...</td>\n",
              "    </tr>\n",
              "    <tr>\n",
              "      <th>383</th>\n",
              "      <td>Kenny Miller</td>\n",
              "      <td>Boise State University</td>\n",
              "      <td>USA</td>\n",
              "      <td>81</td>\n",
              "      <td>NaN</td>\n",
              "    </tr>\n",
              "    <tr>\n",
              "      <th>384</th>\n",
              "      <td>Shalini Ramachandran</td>\n",
              "      <td>Chapman University</td>\n",
              "      <td>USA</td>\n",
              "      <td>81</td>\n",
              "      <td>2.0</td>\n",
              "    </tr>\n",
              "    <tr>\n",
              "      <th>385</th>\n",
              "      <td>Sheree Fu</td>\n",
              "      <td>California State University Los Angeles</td>\n",
              "      <td>USA</td>\n",
              "      <td>81</td>\n",
              "      <td>NaN</td>\n",
              "    </tr>\n",
              "    <tr>\n",
              "      <th>386</th>\n",
              "      <td>Karen Howell</td>\n",
              "      <td>University of Southern California</td>\n",
              "      <td>USA</td>\n",
              "      <td>81</td>\n",
              "      <td>NaN</td>\n",
              "    </tr>\n",
              "    <tr>\n",
              "      <th>387</th>\n",
              "      <td>Steven Cutchin</td>\n",
              "      <td>Boise State University</td>\n",
              "      <td>USA</td>\n",
              "      <td>81</td>\n",
              "      <td>NaN</td>\n",
              "    </tr>\n",
              "  </tbody>\n",
              "</table>\n",
              "<p>388 rows × 5 columns</p>\n",
              "</div>\n",
              "      <button class=\"colab-df-convert\" onclick=\"convertToInteractive('df-e66ac627-a208-4eb8-953e-8353688ff8e2')\"\n",
              "              title=\"Convert this dataframe to an interactive table.\"\n",
              "              style=\"display:none;\">\n",
              "        \n",
              "  <svg xmlns=\"http://www.w3.org/2000/svg\" height=\"24px\"viewBox=\"0 0 24 24\"\n",
              "       width=\"24px\">\n",
              "    <path d=\"M0 0h24v24H0V0z\" fill=\"none\"/>\n",
              "    <path d=\"M18.56 5.44l.94 2.06.94-2.06 2.06-.94-2.06-.94-.94-2.06-.94 2.06-2.06.94zm-11 1L8.5 8.5l.94-2.06 2.06-.94-2.06-.94L8.5 2.5l-.94 2.06-2.06.94zm10 10l.94 2.06.94-2.06 2.06-.94-2.06-.94-.94-2.06-.94 2.06-2.06.94z\"/><path d=\"M17.41 7.96l-1.37-1.37c-.4-.4-.92-.59-1.43-.59-.52 0-1.04.2-1.43.59L10.3 9.45l-7.72 7.72c-.78.78-.78 2.05 0 2.83L4 21.41c.39.39.9.59 1.41.59.51 0 1.02-.2 1.41-.59l7.78-7.78 2.81-2.81c.8-.78.8-2.07 0-2.86zM5.41 20L4 18.59l7.72-7.72 1.47 1.35L5.41 20z\"/>\n",
              "  </svg>\n",
              "      </button>\n",
              "      \n",
              "  <style>\n",
              "    .colab-df-container {\n",
              "      display:flex;\n",
              "      flex-wrap:wrap;\n",
              "      gap: 12px;\n",
              "    }\n",
              "\n",
              "    .colab-df-convert {\n",
              "      background-color: #E8F0FE;\n",
              "      border: none;\n",
              "      border-radius: 50%;\n",
              "      cursor: pointer;\n",
              "      display: none;\n",
              "      fill: #1967D2;\n",
              "      height: 32px;\n",
              "      padding: 0 0 0 0;\n",
              "      width: 32px;\n",
              "    }\n",
              "\n",
              "    .colab-df-convert:hover {\n",
              "      background-color: #E2EBFA;\n",
              "      box-shadow: 0px 1px 2px rgba(60, 64, 67, 0.3), 0px 1px 3px 1px rgba(60, 64, 67, 0.15);\n",
              "      fill: #174EA6;\n",
              "    }\n",
              "\n",
              "    [theme=dark] .colab-df-convert {\n",
              "      background-color: #3B4455;\n",
              "      fill: #D2E3FC;\n",
              "    }\n",
              "\n",
              "    [theme=dark] .colab-df-convert:hover {\n",
              "      background-color: #434B5C;\n",
              "      box-shadow: 0px 1px 3px 1px rgba(0, 0, 0, 0.15);\n",
              "      filter: drop-shadow(0px 1px 2px rgba(0, 0, 0, 0.3));\n",
              "      fill: #FFFFFF;\n",
              "    }\n",
              "  </style>\n",
              "\n",
              "      <script>\n",
              "        const buttonEl =\n",
              "          document.querySelector('#df-e66ac627-a208-4eb8-953e-8353688ff8e2 button.colab-df-convert');\n",
              "        buttonEl.style.display =\n",
              "          google.colab.kernel.accessAllowed ? 'block' : 'none';\n",
              "\n",
              "        async function convertToInteractive(key) {\n",
              "          const element = document.querySelector('#df-e66ac627-a208-4eb8-953e-8353688ff8e2');\n",
              "          const dataTable =\n",
              "            await google.colab.kernel.invokeFunction('convertToInteractive',\n",
              "                                                     [key], {});\n",
              "          if (!dataTable) return;\n",
              "\n",
              "          const docLinkHtml = 'Like what you see? Visit the ' +\n",
              "            '<a target=\"_blank\" href=https://colab.research.google.com/notebooks/data_table.ipynb>data table notebook</a>'\n",
              "            + ' to learn more about interactive tables.';\n",
              "          element.innerHTML = '';\n",
              "          dataTable['output_type'] = 'display_data';\n",
              "          await google.colab.output.renderOutput(dataTable, element);\n",
              "          const docLink = document.createElement('div');\n",
              "          docLink.innerHTML = docLinkHtml;\n",
              "          element.appendChild(docLink);\n",
              "        }\n",
              "      </script>\n",
              "    </div>\n",
              "  </div>\n",
              "  "
            ]
          },
          "metadata": {},
          "execution_count": 6
        }
      ]
    },
    {
      "cell_type": "code",
      "source": [
        "merged = pd.merge(article_info, author_info, how = 'outer', on = \"Article No.\")"
      ],
      "metadata": {
        "id": "jcBilE9unzs5"
      },
      "execution_count": 9,
      "outputs": []
    },
    {
      "cell_type": "code",
      "source": [
        "merged"
      ],
      "metadata": {
        "colab": {
          "base_uri": "https://localhost:8080/",
          "height": 1000
        },
        "id": "EUipIO5vqLtz",
        "outputId": "95313ec2-939c-4ec4-fcbf-3a8ccd11e2ff"
      },
      "execution_count": 10,
      "outputs": [
        {
          "output_type": "execute_result",
          "data": {
            "text/plain": [
              "     Article No.                                              Title  Year  \\\n",
              "0              1  Study of Virtual Reality Immersive Technology ...  2022   \n",
              "1              1  Study of Virtual Reality Immersive Technology ...  2022   \n",
              "2              1  Study of Virtual Reality Immersive Technology ...  2022   \n",
              "3              2  Factors Influencing Nursing Students' Immersiv...  2021   \n",
              "4              2  Factors Influencing Nursing Students' Immersiv...  2021   \n",
              "..           ...                                                ...   ...   \n",
              "466          160  Virtual reality enhances safety training in th...  2022   \n",
              "467          161  Virtual reality for developing intercultural c...  2022   \n",
              "468          162  Virtual reality in problem-based learning cont...  2021   \n",
              "469          163  Virtual reality is more efficient in learning ...  2020   \n",
              "470          164  VR and MR technology for safety management edu...  2022   \n",
              "\n",
              "     Author Number                                          Key Words  \\\n",
              "0              3.0  virtual reality technologies, mathematics lear...   \n",
              "1              3.0  virtual reality technologies, mathematics lear...   \n",
              "2              3.0  virtual reality technologies, mathematics lear...   \n",
              "3              2.0  virtual reality; learning; immersive media tec...   \n",
              "4              2.0  virtual reality; learning; immersive media tec...   \n",
              "..             ...                                                ...   \n",
              "466            2.0  non-WEIRD sample; safety training; simulation;...   \n",
              "467            3.0  Affective domain; Cultural competence; Instruc...   \n",
              "468            3.0  English learning; motivation; problem-based le...   \n",
              "469            8.0    Virtual reality; Education; Human heart anatomy   \n",
              "470            2.0  Authentic learning; Construction safety; Virtu...   \n",
              "\n",
              "     Citation                                         Source  \\\n",
              "0         7.0                        FRONTIERS IN PSYCHOLOGY   \n",
              "1         7.0                        FRONTIERS IN PSYCHOLOGY   \n",
              "2         7.0                        FRONTIERS IN PSYCHOLOGY   \n",
              "3         3.0                                        SENSORS   \n",
              "4         3.0                                        SENSORS   \n",
              "..        ...                                            ...   \n",
              "466       3.0          Journal of Computer Assisted Learning   \n",
              "467       1.0  Educational Technology Research & Development   \n",
              "468      27.0          Journal of Computer Assisted Learning   \n",
              "469      36.0                        New Ideas in Psychology   \n",
              "470      15.0                                 Safety Science   \n",
              "\n",
              "                                              Abstract     Type  \\\n",
              "0    Mathematics is an important foundation for the...  Journal   \n",
              "1    Mathematics is an important foundation for the...  Journal   \n",
              "2    Mathematics is an important foundation for the...  Journal   \n",
              "3    Background/objectives: This study aims to iden...  Journal   \n",
              "4    Background/objectives: This study aims to iden...  Journal   \n",
              "..                                                 ...      ...   \n",
              "466  Objective: Many industries struggle with train...  Journal   \n",
              "467  Intercultural communicative competence (ICC) i...  Journal   \n",
              "468  Learning a foreign language requires interacti...  Journal   \n",
              "469  New technologies make their way into education...  Journal   \n",
              "470  ‚Ä¢ VR and MR are successful in operationalisi...  Journal   \n",
              "\n",
              "        Author Name                      Author Affiliation Country  h-index  \n",
              "0       Yu-Sheng Su        National Taiwan Ocean University  Taiwan      NaN  \n",
              "1    Hung-Wei Cheng        National Taiwan Ocean University  Taiwan      NaN  \n",
              "2     Chin-Feng Lai          National Cheng Kung University  Taiwan      NaN  \n",
              "3       Youngju Kim  Daejeon Health Institute of Technology   Korea      NaN  \n",
              "4      Sung Yun Ahn                     Pai Chai University   Korea      NaN  \n",
              "..              ...                                     ...     ...      ...  \n",
              "466             NaN                                     NaN     NaN      NaN  \n",
              "467             NaN                                     NaN     NaN      NaN  \n",
              "468             NaN                                     NaN     NaN      NaN  \n",
              "469             NaN                                     NaN     NaN      NaN  \n",
              "470             NaN                                     NaN     NaN      NaN  \n",
              "\n",
              "[471 rows x 13 columns]"
            ],
            "text/html": [
              "\n",
              "  <div id=\"df-49184f24-5cea-4b56-984f-8363e97de40b\">\n",
              "    <div class=\"colab-df-container\">\n",
              "      <div>\n",
              "<style scoped>\n",
              "    .dataframe tbody tr th:only-of-type {\n",
              "        vertical-align: middle;\n",
              "    }\n",
              "\n",
              "    .dataframe tbody tr th {\n",
              "        vertical-align: top;\n",
              "    }\n",
              "\n",
              "    .dataframe thead th {\n",
              "        text-align: right;\n",
              "    }\n",
              "</style>\n",
              "<table border=\"1\" class=\"dataframe\">\n",
              "  <thead>\n",
              "    <tr style=\"text-align: right;\">\n",
              "      <th></th>\n",
              "      <th>Article No.</th>\n",
              "      <th>Title</th>\n",
              "      <th>Year</th>\n",
              "      <th>Author Number</th>\n",
              "      <th>Key Words</th>\n",
              "      <th>Citation</th>\n",
              "      <th>Source</th>\n",
              "      <th>Abstract</th>\n",
              "      <th>Type</th>\n",
              "      <th>Author Name</th>\n",
              "      <th>Author Affiliation</th>\n",
              "      <th>Country</th>\n",
              "      <th>h-index</th>\n",
              "    </tr>\n",
              "  </thead>\n",
              "  <tbody>\n",
              "    <tr>\n",
              "      <th>0</th>\n",
              "      <td>1</td>\n",
              "      <td>Study of Virtual Reality Immersive Technology ...</td>\n",
              "      <td>2022</td>\n",
              "      <td>3.0</td>\n",
              "      <td>virtual reality technologies, mathematics lear...</td>\n",
              "      <td>7.0</td>\n",
              "      <td>FRONTIERS IN PSYCHOLOGY</td>\n",
              "      <td>Mathematics is an important foundation for the...</td>\n",
              "      <td>Journal</td>\n",
              "      <td>Yu-Sheng Su</td>\n",
              "      <td>National Taiwan Ocean University</td>\n",
              "      <td>Taiwan</td>\n",
              "      <td>NaN</td>\n",
              "    </tr>\n",
              "    <tr>\n",
              "      <th>1</th>\n",
              "      <td>1</td>\n",
              "      <td>Study of Virtual Reality Immersive Technology ...</td>\n",
              "      <td>2022</td>\n",
              "      <td>3.0</td>\n",
              "      <td>virtual reality technologies, mathematics lear...</td>\n",
              "      <td>7.0</td>\n",
              "      <td>FRONTIERS IN PSYCHOLOGY</td>\n",
              "      <td>Mathematics is an important foundation for the...</td>\n",
              "      <td>Journal</td>\n",
              "      <td>Hung-Wei Cheng</td>\n",
              "      <td>National Taiwan Ocean University</td>\n",
              "      <td>Taiwan</td>\n",
              "      <td>NaN</td>\n",
              "    </tr>\n",
              "    <tr>\n",
              "      <th>2</th>\n",
              "      <td>1</td>\n",
              "      <td>Study of Virtual Reality Immersive Technology ...</td>\n",
              "      <td>2022</td>\n",
              "      <td>3.0</td>\n",
              "      <td>virtual reality technologies, mathematics lear...</td>\n",
              "      <td>7.0</td>\n",
              "      <td>FRONTIERS IN PSYCHOLOGY</td>\n",
              "      <td>Mathematics is an important foundation for the...</td>\n",
              "      <td>Journal</td>\n",
              "      <td>Chin-Feng Lai</td>\n",
              "      <td>National Cheng Kung University</td>\n",
              "      <td>Taiwan</td>\n",
              "      <td>NaN</td>\n",
              "    </tr>\n",
              "    <tr>\n",
              "      <th>3</th>\n",
              "      <td>2</td>\n",
              "      <td>Factors Influencing Nursing Students' Immersiv...</td>\n",
              "      <td>2021</td>\n",
              "      <td>2.0</td>\n",
              "      <td>virtual reality; learning; immersive media tec...</td>\n",
              "      <td>3.0</td>\n",
              "      <td>SENSORS</td>\n",
              "      <td>Background/objectives: This study aims to iden...</td>\n",
              "      <td>Journal</td>\n",
              "      <td>Youngju Kim</td>\n",
              "      <td>Daejeon Health Institute of Technology</td>\n",
              "      <td>Korea</td>\n",
              "      <td>NaN</td>\n",
              "    </tr>\n",
              "    <tr>\n",
              "      <th>4</th>\n",
              "      <td>2</td>\n",
              "      <td>Factors Influencing Nursing Students' Immersiv...</td>\n",
              "      <td>2021</td>\n",
              "      <td>2.0</td>\n",
              "      <td>virtual reality; learning; immersive media tec...</td>\n",
              "      <td>3.0</td>\n",
              "      <td>SENSORS</td>\n",
              "      <td>Background/objectives: This study aims to iden...</td>\n",
              "      <td>Journal</td>\n",
              "      <td>Sung Yun Ahn</td>\n",
              "      <td>Pai Chai University</td>\n",
              "      <td>Korea</td>\n",
              "      <td>NaN</td>\n",
              "    </tr>\n",
              "    <tr>\n",
              "      <th>...</th>\n",
              "      <td>...</td>\n",
              "      <td>...</td>\n",
              "      <td>...</td>\n",
              "      <td>...</td>\n",
              "      <td>...</td>\n",
              "      <td>...</td>\n",
              "      <td>...</td>\n",
              "      <td>...</td>\n",
              "      <td>...</td>\n",
              "      <td>...</td>\n",
              "      <td>...</td>\n",
              "      <td>...</td>\n",
              "      <td>...</td>\n",
              "    </tr>\n",
              "    <tr>\n",
              "      <th>466</th>\n",
              "      <td>160</td>\n",
              "      <td>Virtual reality enhances safety training in th...</td>\n",
              "      <td>2022</td>\n",
              "      <td>2.0</td>\n",
              "      <td>non-WEIRD sample; safety training; simulation;...</td>\n",
              "      <td>3.0</td>\n",
              "      <td>Journal of Computer Assisted Learning</td>\n",
              "      <td>Objective: Many industries struggle with train...</td>\n",
              "      <td>Journal</td>\n",
              "      <td>NaN</td>\n",
              "      <td>NaN</td>\n",
              "      <td>NaN</td>\n",
              "      <td>NaN</td>\n",
              "    </tr>\n",
              "    <tr>\n",
              "      <th>467</th>\n",
              "      <td>161</td>\n",
              "      <td>Virtual reality for developing intercultural c...</td>\n",
              "      <td>2022</td>\n",
              "      <td>3.0</td>\n",
              "      <td>Affective domain; Cultural competence; Instruc...</td>\n",
              "      <td>1.0</td>\n",
              "      <td>Educational Technology Research &amp; Development</td>\n",
              "      <td>Intercultural communicative competence (ICC) i...</td>\n",
              "      <td>Journal</td>\n",
              "      <td>NaN</td>\n",
              "      <td>NaN</td>\n",
              "      <td>NaN</td>\n",
              "      <td>NaN</td>\n",
              "    </tr>\n",
              "    <tr>\n",
              "      <th>468</th>\n",
              "      <td>162</td>\n",
              "      <td>Virtual reality in problem-based learning cont...</td>\n",
              "      <td>2021</td>\n",
              "      <td>3.0</td>\n",
              "      <td>English learning; motivation; problem-based le...</td>\n",
              "      <td>27.0</td>\n",
              "      <td>Journal of Computer Assisted Learning</td>\n",
              "      <td>Learning a foreign language requires interacti...</td>\n",
              "      <td>Journal</td>\n",
              "      <td>NaN</td>\n",
              "      <td>NaN</td>\n",
              "      <td>NaN</td>\n",
              "      <td>NaN</td>\n",
              "    </tr>\n",
              "    <tr>\n",
              "      <th>469</th>\n",
              "      <td>163</td>\n",
              "      <td>Virtual reality is more efficient in learning ...</td>\n",
              "      <td>2020</td>\n",
              "      <td>8.0</td>\n",
              "      <td>Virtual reality; Education; Human heart anatomy</td>\n",
              "      <td>36.0</td>\n",
              "      <td>New Ideas in Psychology</td>\n",
              "      <td>New technologies make their way into education...</td>\n",
              "      <td>Journal</td>\n",
              "      <td>NaN</td>\n",
              "      <td>NaN</td>\n",
              "      <td>NaN</td>\n",
              "      <td>NaN</td>\n",
              "    </tr>\n",
              "    <tr>\n",
              "      <th>470</th>\n",
              "      <td>164</td>\n",
              "      <td>VR and MR technology for safety management edu...</td>\n",
              "      <td>2022</td>\n",
              "      <td>2.0</td>\n",
              "      <td>Authentic learning; Construction safety; Virtu...</td>\n",
              "      <td>15.0</td>\n",
              "      <td>Safety Science</td>\n",
              "      <td>‚Ä¢ VR and MR are successful in operationalisi...</td>\n",
              "      <td>Journal</td>\n",
              "      <td>NaN</td>\n",
              "      <td>NaN</td>\n",
              "      <td>NaN</td>\n",
              "      <td>NaN</td>\n",
              "    </tr>\n",
              "  </tbody>\n",
              "</table>\n",
              "<p>471 rows × 13 columns</p>\n",
              "</div>\n",
              "      <button class=\"colab-df-convert\" onclick=\"convertToInteractive('df-49184f24-5cea-4b56-984f-8363e97de40b')\"\n",
              "              title=\"Convert this dataframe to an interactive table.\"\n",
              "              style=\"display:none;\">\n",
              "        \n",
              "  <svg xmlns=\"http://www.w3.org/2000/svg\" height=\"24px\"viewBox=\"0 0 24 24\"\n",
              "       width=\"24px\">\n",
              "    <path d=\"M0 0h24v24H0V0z\" fill=\"none\"/>\n",
              "    <path d=\"M18.56 5.44l.94 2.06.94-2.06 2.06-.94-2.06-.94-.94-2.06-.94 2.06-2.06.94zm-11 1L8.5 8.5l.94-2.06 2.06-.94-2.06-.94L8.5 2.5l-.94 2.06-2.06.94zm10 10l.94 2.06.94-2.06 2.06-.94-2.06-.94-.94-2.06-.94 2.06-2.06.94z\"/><path d=\"M17.41 7.96l-1.37-1.37c-.4-.4-.92-.59-1.43-.59-.52 0-1.04.2-1.43.59L10.3 9.45l-7.72 7.72c-.78.78-.78 2.05 0 2.83L4 21.41c.39.39.9.59 1.41.59.51 0 1.02-.2 1.41-.59l7.78-7.78 2.81-2.81c.8-.78.8-2.07 0-2.86zM5.41 20L4 18.59l7.72-7.72 1.47 1.35L5.41 20z\"/>\n",
              "  </svg>\n",
              "      </button>\n",
              "      \n",
              "  <style>\n",
              "    .colab-df-container {\n",
              "      display:flex;\n",
              "      flex-wrap:wrap;\n",
              "      gap: 12px;\n",
              "    }\n",
              "\n",
              "    .colab-df-convert {\n",
              "      background-color: #E8F0FE;\n",
              "      border: none;\n",
              "      border-radius: 50%;\n",
              "      cursor: pointer;\n",
              "      display: none;\n",
              "      fill: #1967D2;\n",
              "      height: 32px;\n",
              "      padding: 0 0 0 0;\n",
              "      width: 32px;\n",
              "    }\n",
              "\n",
              "    .colab-df-convert:hover {\n",
              "      background-color: #E2EBFA;\n",
              "      box-shadow: 0px 1px 2px rgba(60, 64, 67, 0.3), 0px 1px 3px 1px rgba(60, 64, 67, 0.15);\n",
              "      fill: #174EA6;\n",
              "    }\n",
              "\n",
              "    [theme=dark] .colab-df-convert {\n",
              "      background-color: #3B4455;\n",
              "      fill: #D2E3FC;\n",
              "    }\n",
              "\n",
              "    [theme=dark] .colab-df-convert:hover {\n",
              "      background-color: #434B5C;\n",
              "      box-shadow: 0px 1px 3px 1px rgba(0, 0, 0, 0.15);\n",
              "      filter: drop-shadow(0px 1px 2px rgba(0, 0, 0, 0.3));\n",
              "      fill: #FFFFFF;\n",
              "    }\n",
              "  </style>\n",
              "\n",
              "      <script>\n",
              "        const buttonEl =\n",
              "          document.querySelector('#df-49184f24-5cea-4b56-984f-8363e97de40b button.colab-df-convert');\n",
              "        buttonEl.style.display =\n",
              "          google.colab.kernel.accessAllowed ? 'block' : 'none';\n",
              "\n",
              "        async function convertToInteractive(key) {\n",
              "          const element = document.querySelector('#df-49184f24-5cea-4b56-984f-8363e97de40b');\n",
              "          const dataTable =\n",
              "            await google.colab.kernel.invokeFunction('convertToInteractive',\n",
              "                                                     [key], {});\n",
              "          if (!dataTable) return;\n",
              "\n",
              "          const docLinkHtml = 'Like what you see? Visit the ' +\n",
              "            '<a target=\"_blank\" href=https://colab.research.google.com/notebooks/data_table.ipynb>data table notebook</a>'\n",
              "            + ' to learn more about interactive tables.';\n",
              "          element.innerHTML = '';\n",
              "          dataTable['output_type'] = 'display_data';\n",
              "          await google.colab.output.renderOutput(dataTable, element);\n",
              "          const docLink = document.createElement('div');\n",
              "          docLink.innerHTML = docLinkHtml;\n",
              "          element.appendChild(docLink);\n",
              "        }\n",
              "      </script>\n",
              "    </div>\n",
              "  </div>\n",
              "  "
            ]
          },
          "metadata": {},
          "execution_count": 10
        }
      ]
    },
    {
      "cell_type": "code",
      "source": [
        "merged.size"
      ],
      "metadata": {
        "colab": {
          "base_uri": "https://localhost:8080/"
        },
        "id": "tM10ETspqMJQ",
        "outputId": "6c7eff9f-9438-42ae-f8df-e0f321a11132"
      },
      "execution_count": null,
      "outputs": [
        {
          "output_type": "execute_result",
          "data": {
            "text/plain": [
              "5044"
            ]
          },
          "metadata": {},
          "execution_count": 10
        }
      ]
    },
    {
      "cell_type": "code",
      "source": [
        "author_info.size"
      ],
      "metadata": {
        "colab": {
          "base_uri": "https://localhost:8080/"
        },
        "id": "C2MUdSZSqRSK",
        "outputId": "04a44a43-5642-4544-cee4-285a5295ec27"
      },
      "execution_count": null,
      "outputs": [
        {
          "output_type": "execute_result",
          "data": {
            "text/plain": [
              "1940"
            ]
          },
          "metadata": {},
          "execution_count": 11
        }
      ]
    },
    {
      "cell_type": "code",
      "source": [
        "article_info.size"
      ],
      "metadata": {
        "colab": {
          "base_uri": "https://localhost:8080/"
        },
        "id": "TfpfeI00qS6N",
        "outputId": "33be7587-b18b-46e3-8759-b67d6eec4eed"
      },
      "execution_count": null,
      "outputs": [
        {
          "output_type": "execute_result",
          "data": {
            "text/plain": [
              "1476"
            ]
          },
          "metadata": {},
          "execution_count": 12
        }
      ]
    },
    {
      "cell_type": "code",
      "source": [
        "merged.fillna(value = 0, inplace = True)"
      ],
      "metadata": {
        "id": "UoGxwFH7qVe7"
      },
      "execution_count": null,
      "outputs": []
    },
    {
      "cell_type": "code",
      "source": [
        "merged"
      ],
      "metadata": {
        "colab": {
          "base_uri": "https://localhost:8080/",
          "height": 1000
        },
        "id": "lkqfgA_9qmPp",
        "outputId": "26ab85c9-f551-4c63-f355-c4e2e6aacd29"
      },
      "execution_count": null,
      "outputs": [
        {
          "output_type": "execute_result",
          "data": {
            "text/plain": [
              "     Article No.                                              Title  Year  \\\n",
              "0              1  Study of Virtual Reality Immersive Technology ...  2022   \n",
              "1              1  Study of Virtual Reality Immersive Technology ...  2022   \n",
              "2              1  Study of Virtual Reality Immersive Technology ...  2022   \n",
              "3              2  Factors Influencing Nursing Students' Immersiv...  2021   \n",
              "4              2  Factors Influencing Nursing Students' Immersiv...  2021   \n",
              "..           ...                                                ...   ...   \n",
              "383           81  Teaching Enzyme Catalysis Using Interactive Mo...  2019   \n",
              "384           81  Teaching Enzyme Catalysis Using Interactive Mo...  2019   \n",
              "385           81  Teaching Enzyme Catalysis Using Interactive Mo...  2019   \n",
              "386           81  Teaching Enzyme Catalysis Using Interactive Mo...  2019   \n",
              "387           81  Teaching Enzyme Catalysis Using Interactive Mo...  2019   \n",
              "\n",
              "     Author Number                                          Key Words  \\\n",
              "0              3.0  virtual reality technologies, mathematics lear...   \n",
              "1              3.0  virtual reality technologies, mathematics lear...   \n",
              "2              3.0  virtual reality technologies, mathematics lear...   \n",
              "3              2.0  virtual reality; learning; immersive media tec...   \n",
              "4              2.0  virtual reality; learning; immersive media tec...   \n",
              "..             ...                                                ...   \n",
              "383            7.0  Graduate Education/Research, Biochemistry, Com...   \n",
              "384            7.0  Graduate Education/Research, Biochemistry, Com...   \n",
              "385            7.0  Graduate Education/Research, Biochemistry, Com...   \n",
              "386            7.0  Graduate Education/Research, Biochemistry, Com...   \n",
              "387            7.0  Graduate Education/Research, Biochemistry, Com...   \n",
              "\n",
              "     Citation                         Source  \\\n",
              "0         7.0        FRONTIERS IN PSYCHOLOGY   \n",
              "1         7.0        FRONTIERS IN PSYCHOLOGY   \n",
              "2         7.0        FRONTIERS IN PSYCHOLOGY   \n",
              "3         3.0                        SENSORS   \n",
              "4         3.0                        SENSORS   \n",
              "..        ...                            ...   \n",
              "383      85.0  JOURNAL OF CHEMICAL EDUCATION   \n",
              "384      85.0  JOURNAL OF CHEMICAL EDUCATION   \n",
              "385      85.0  JOURNAL OF CHEMICAL EDUCATION   \n",
              "386      85.0  JOURNAL OF CHEMICAL EDUCATION   \n",
              "387      85.0  JOURNAL OF CHEMICAL EDUCATION   \n",
              "\n",
              "                                              Abstract     Type  \\\n",
              "0    Mathematics is an important foundation for the...  Journal   \n",
              "1    Mathematics is an important foundation for the...  Journal   \n",
              "2    Mathematics is an important foundation for the...  Journal   \n",
              "3    Background/objectives: This study aims to iden...  Journal   \n",
              "4    Background/objectives: This study aims to iden...  Journal   \n",
              "..                                                 ...      ...   \n",
              "383  The reemergence of virtual reality (VR) in the...  Journal   \n",
              "384  The reemergence of virtual reality (VR) in the...  Journal   \n",
              "385  The reemergence of virtual reality (VR) in the...  Journal   \n",
              "386  The reemergence of virtual reality (VR) in the...  Journal   \n",
              "387  The reemergence of virtual reality (VR) in the...  Journal   \n",
              "\n",
              "              Author Name                       Author Affiliation Country  \\\n",
              "0             Yu-Sheng Su         National Taiwan Ocean University  Taiwan   \n",
              "1          Hung-Wei Cheng         National Taiwan Ocean University  Taiwan   \n",
              "2           Chin-Feng Lai           National Cheng Kung University  Taiwan   \n",
              "3             Youngju Kim   Daejeon Health Institute of Technology   Korea   \n",
              "4            Sung Yun Ahn                      Pai Chai University   Korea   \n",
              "..                    ...                                      ...     ...   \n",
              "383          Kenny Miller                  Boise State University      USA   \n",
              "384  Shalini Ramachandran                       Chapman University     USA   \n",
              "385             Sheree Fu  California State University Los Angeles     USA   \n",
              "386          Karen Howell        University of Southern California     USA   \n",
              "387        Steven Cutchin                  Boise State University      USA   \n",
              "\n",
              "     h-index  \n",
              "0        0.0  \n",
              "1        0.0  \n",
              "2        0.0  \n",
              "3        0.0  \n",
              "4        0.0  \n",
              "..       ...  \n",
              "383      0.0  \n",
              "384      2.0  \n",
              "385      0.0  \n",
              "386      0.0  \n",
              "387      0.0  \n",
              "\n",
              "[388 rows x 13 columns]"
            ],
            "text/html": [
              "\n",
              "  <div id=\"df-a325b100-6ace-4a0d-a1a7-52693e4fea74\">\n",
              "    <div class=\"colab-df-container\">\n",
              "      <div>\n",
              "<style scoped>\n",
              "    .dataframe tbody tr th:only-of-type {\n",
              "        vertical-align: middle;\n",
              "    }\n",
              "\n",
              "    .dataframe tbody tr th {\n",
              "        vertical-align: top;\n",
              "    }\n",
              "\n",
              "    .dataframe thead th {\n",
              "        text-align: right;\n",
              "    }\n",
              "</style>\n",
              "<table border=\"1\" class=\"dataframe\">\n",
              "  <thead>\n",
              "    <tr style=\"text-align: right;\">\n",
              "      <th></th>\n",
              "      <th>Article No.</th>\n",
              "      <th>Title</th>\n",
              "      <th>Year</th>\n",
              "      <th>Author Number</th>\n",
              "      <th>Key Words</th>\n",
              "      <th>Citation</th>\n",
              "      <th>Source</th>\n",
              "      <th>Abstract</th>\n",
              "      <th>Type</th>\n",
              "      <th>Author Name</th>\n",
              "      <th>Author Affiliation</th>\n",
              "      <th>Country</th>\n",
              "      <th>h-index</th>\n",
              "    </tr>\n",
              "  </thead>\n",
              "  <tbody>\n",
              "    <tr>\n",
              "      <th>0</th>\n",
              "      <td>1</td>\n",
              "      <td>Study of Virtual Reality Immersive Technology ...</td>\n",
              "      <td>2022</td>\n",
              "      <td>3.0</td>\n",
              "      <td>virtual reality technologies, mathematics lear...</td>\n",
              "      <td>7.0</td>\n",
              "      <td>FRONTIERS IN PSYCHOLOGY</td>\n",
              "      <td>Mathematics is an important foundation for the...</td>\n",
              "      <td>Journal</td>\n",
              "      <td>Yu-Sheng Su</td>\n",
              "      <td>National Taiwan Ocean University</td>\n",
              "      <td>Taiwan</td>\n",
              "      <td>0.0</td>\n",
              "    </tr>\n",
              "    <tr>\n",
              "      <th>1</th>\n",
              "      <td>1</td>\n",
              "      <td>Study of Virtual Reality Immersive Technology ...</td>\n",
              "      <td>2022</td>\n",
              "      <td>3.0</td>\n",
              "      <td>virtual reality technologies, mathematics lear...</td>\n",
              "      <td>7.0</td>\n",
              "      <td>FRONTIERS IN PSYCHOLOGY</td>\n",
              "      <td>Mathematics is an important foundation for the...</td>\n",
              "      <td>Journal</td>\n",
              "      <td>Hung-Wei Cheng</td>\n",
              "      <td>National Taiwan Ocean University</td>\n",
              "      <td>Taiwan</td>\n",
              "      <td>0.0</td>\n",
              "    </tr>\n",
              "    <tr>\n",
              "      <th>2</th>\n",
              "      <td>1</td>\n",
              "      <td>Study of Virtual Reality Immersive Technology ...</td>\n",
              "      <td>2022</td>\n",
              "      <td>3.0</td>\n",
              "      <td>virtual reality technologies, mathematics lear...</td>\n",
              "      <td>7.0</td>\n",
              "      <td>FRONTIERS IN PSYCHOLOGY</td>\n",
              "      <td>Mathematics is an important foundation for the...</td>\n",
              "      <td>Journal</td>\n",
              "      <td>Chin-Feng Lai</td>\n",
              "      <td>National Cheng Kung University</td>\n",
              "      <td>Taiwan</td>\n",
              "      <td>0.0</td>\n",
              "    </tr>\n",
              "    <tr>\n",
              "      <th>3</th>\n",
              "      <td>2</td>\n",
              "      <td>Factors Influencing Nursing Students' Immersiv...</td>\n",
              "      <td>2021</td>\n",
              "      <td>2.0</td>\n",
              "      <td>virtual reality; learning; immersive media tec...</td>\n",
              "      <td>3.0</td>\n",
              "      <td>SENSORS</td>\n",
              "      <td>Background/objectives: This study aims to iden...</td>\n",
              "      <td>Journal</td>\n",
              "      <td>Youngju Kim</td>\n",
              "      <td>Daejeon Health Institute of Technology</td>\n",
              "      <td>Korea</td>\n",
              "      <td>0.0</td>\n",
              "    </tr>\n",
              "    <tr>\n",
              "      <th>4</th>\n",
              "      <td>2</td>\n",
              "      <td>Factors Influencing Nursing Students' Immersiv...</td>\n",
              "      <td>2021</td>\n",
              "      <td>2.0</td>\n",
              "      <td>virtual reality; learning; immersive media tec...</td>\n",
              "      <td>3.0</td>\n",
              "      <td>SENSORS</td>\n",
              "      <td>Background/objectives: This study aims to iden...</td>\n",
              "      <td>Journal</td>\n",
              "      <td>Sung Yun Ahn</td>\n",
              "      <td>Pai Chai University</td>\n",
              "      <td>Korea</td>\n",
              "      <td>0.0</td>\n",
              "    </tr>\n",
              "    <tr>\n",
              "      <th>...</th>\n",
              "      <td>...</td>\n",
              "      <td>...</td>\n",
              "      <td>...</td>\n",
              "      <td>...</td>\n",
              "      <td>...</td>\n",
              "      <td>...</td>\n",
              "      <td>...</td>\n",
              "      <td>...</td>\n",
              "      <td>...</td>\n",
              "      <td>...</td>\n",
              "      <td>...</td>\n",
              "      <td>...</td>\n",
              "      <td>...</td>\n",
              "    </tr>\n",
              "    <tr>\n",
              "      <th>383</th>\n",
              "      <td>81</td>\n",
              "      <td>Teaching Enzyme Catalysis Using Interactive Mo...</td>\n",
              "      <td>2019</td>\n",
              "      <td>7.0</td>\n",
              "      <td>Graduate Education/Research, Biochemistry, Com...</td>\n",
              "      <td>85.0</td>\n",
              "      <td>JOURNAL OF CHEMICAL EDUCATION</td>\n",
              "      <td>The reemergence of virtual reality (VR) in the...</td>\n",
              "      <td>Journal</td>\n",
              "      <td>Kenny Miller</td>\n",
              "      <td>Boise State University</td>\n",
              "      <td>USA</td>\n",
              "      <td>0.0</td>\n",
              "    </tr>\n",
              "    <tr>\n",
              "      <th>384</th>\n",
              "      <td>81</td>\n",
              "      <td>Teaching Enzyme Catalysis Using Interactive Mo...</td>\n",
              "      <td>2019</td>\n",
              "      <td>7.0</td>\n",
              "      <td>Graduate Education/Research, Biochemistry, Com...</td>\n",
              "      <td>85.0</td>\n",
              "      <td>JOURNAL OF CHEMICAL EDUCATION</td>\n",
              "      <td>The reemergence of virtual reality (VR) in the...</td>\n",
              "      <td>Journal</td>\n",
              "      <td>Shalini Ramachandran</td>\n",
              "      <td>Chapman University</td>\n",
              "      <td>USA</td>\n",
              "      <td>2.0</td>\n",
              "    </tr>\n",
              "    <tr>\n",
              "      <th>385</th>\n",
              "      <td>81</td>\n",
              "      <td>Teaching Enzyme Catalysis Using Interactive Mo...</td>\n",
              "      <td>2019</td>\n",
              "      <td>7.0</td>\n",
              "      <td>Graduate Education/Research, Biochemistry, Com...</td>\n",
              "      <td>85.0</td>\n",
              "      <td>JOURNAL OF CHEMICAL EDUCATION</td>\n",
              "      <td>The reemergence of virtual reality (VR) in the...</td>\n",
              "      <td>Journal</td>\n",
              "      <td>Sheree Fu</td>\n",
              "      <td>California State University Los Angeles</td>\n",
              "      <td>USA</td>\n",
              "      <td>0.0</td>\n",
              "    </tr>\n",
              "    <tr>\n",
              "      <th>386</th>\n",
              "      <td>81</td>\n",
              "      <td>Teaching Enzyme Catalysis Using Interactive Mo...</td>\n",
              "      <td>2019</td>\n",
              "      <td>7.0</td>\n",
              "      <td>Graduate Education/Research, Biochemistry, Com...</td>\n",
              "      <td>85.0</td>\n",
              "      <td>JOURNAL OF CHEMICAL EDUCATION</td>\n",
              "      <td>The reemergence of virtual reality (VR) in the...</td>\n",
              "      <td>Journal</td>\n",
              "      <td>Karen Howell</td>\n",
              "      <td>University of Southern California</td>\n",
              "      <td>USA</td>\n",
              "      <td>0.0</td>\n",
              "    </tr>\n",
              "    <tr>\n",
              "      <th>387</th>\n",
              "      <td>81</td>\n",
              "      <td>Teaching Enzyme Catalysis Using Interactive Mo...</td>\n",
              "      <td>2019</td>\n",
              "      <td>7.0</td>\n",
              "      <td>Graduate Education/Research, Biochemistry, Com...</td>\n",
              "      <td>85.0</td>\n",
              "      <td>JOURNAL OF CHEMICAL EDUCATION</td>\n",
              "      <td>The reemergence of virtual reality (VR) in the...</td>\n",
              "      <td>Journal</td>\n",
              "      <td>Steven Cutchin</td>\n",
              "      <td>Boise State University</td>\n",
              "      <td>USA</td>\n",
              "      <td>0.0</td>\n",
              "    </tr>\n",
              "  </tbody>\n",
              "</table>\n",
              "<p>388 rows × 13 columns</p>\n",
              "</div>\n",
              "      <button class=\"colab-df-convert\" onclick=\"convertToInteractive('df-a325b100-6ace-4a0d-a1a7-52693e4fea74')\"\n",
              "              title=\"Convert this dataframe to an interactive table.\"\n",
              "              style=\"display:none;\">\n",
              "        \n",
              "  <svg xmlns=\"http://www.w3.org/2000/svg\" height=\"24px\"viewBox=\"0 0 24 24\"\n",
              "       width=\"24px\">\n",
              "    <path d=\"M0 0h24v24H0V0z\" fill=\"none\"/>\n",
              "    <path d=\"M18.56 5.44l.94 2.06.94-2.06 2.06-.94-2.06-.94-.94-2.06-.94 2.06-2.06.94zm-11 1L8.5 8.5l.94-2.06 2.06-.94-2.06-.94L8.5 2.5l-.94 2.06-2.06.94zm10 10l.94 2.06.94-2.06 2.06-.94-2.06-.94-.94-2.06-.94 2.06-2.06.94z\"/><path d=\"M17.41 7.96l-1.37-1.37c-.4-.4-.92-.59-1.43-.59-.52 0-1.04.2-1.43.59L10.3 9.45l-7.72 7.72c-.78.78-.78 2.05 0 2.83L4 21.41c.39.39.9.59 1.41.59.51 0 1.02-.2 1.41-.59l7.78-7.78 2.81-2.81c.8-.78.8-2.07 0-2.86zM5.41 20L4 18.59l7.72-7.72 1.47 1.35L5.41 20z\"/>\n",
              "  </svg>\n",
              "      </button>\n",
              "      \n",
              "  <style>\n",
              "    .colab-df-container {\n",
              "      display:flex;\n",
              "      flex-wrap:wrap;\n",
              "      gap: 12px;\n",
              "    }\n",
              "\n",
              "    .colab-df-convert {\n",
              "      background-color: #E8F0FE;\n",
              "      border: none;\n",
              "      border-radius: 50%;\n",
              "      cursor: pointer;\n",
              "      display: none;\n",
              "      fill: #1967D2;\n",
              "      height: 32px;\n",
              "      padding: 0 0 0 0;\n",
              "      width: 32px;\n",
              "    }\n",
              "\n",
              "    .colab-df-convert:hover {\n",
              "      background-color: #E2EBFA;\n",
              "      box-shadow: 0px 1px 2px rgba(60, 64, 67, 0.3), 0px 1px 3px 1px rgba(60, 64, 67, 0.15);\n",
              "      fill: #174EA6;\n",
              "    }\n",
              "\n",
              "    [theme=dark] .colab-df-convert {\n",
              "      background-color: #3B4455;\n",
              "      fill: #D2E3FC;\n",
              "    }\n",
              "\n",
              "    [theme=dark] .colab-df-convert:hover {\n",
              "      background-color: #434B5C;\n",
              "      box-shadow: 0px 1px 3px 1px rgba(0, 0, 0, 0.15);\n",
              "      filter: drop-shadow(0px 1px 2px rgba(0, 0, 0, 0.3));\n",
              "      fill: #FFFFFF;\n",
              "    }\n",
              "  </style>\n",
              "\n",
              "      <script>\n",
              "        const buttonEl =\n",
              "          document.querySelector('#df-a325b100-6ace-4a0d-a1a7-52693e4fea74 button.colab-df-convert');\n",
              "        buttonEl.style.display =\n",
              "          google.colab.kernel.accessAllowed ? 'block' : 'none';\n",
              "\n",
              "        async function convertToInteractive(key) {\n",
              "          const element = document.querySelector('#df-a325b100-6ace-4a0d-a1a7-52693e4fea74');\n",
              "          const dataTable =\n",
              "            await google.colab.kernel.invokeFunction('convertToInteractive',\n",
              "                                                     [key], {});\n",
              "          if (!dataTable) return;\n",
              "\n",
              "          const docLinkHtml = 'Like what you see? Visit the ' +\n",
              "            '<a target=\"_blank\" href=https://colab.research.google.com/notebooks/data_table.ipynb>data table notebook</a>'\n",
              "            + ' to learn more about interactive tables.';\n",
              "          element.innerHTML = '';\n",
              "          dataTable['output_type'] = 'display_data';\n",
              "          await google.colab.output.renderOutput(dataTable, element);\n",
              "          const docLink = document.createElement('div');\n",
              "          docLink.innerHTML = docLinkHtml;\n",
              "          element.appendChild(docLink);\n",
              "        }\n",
              "      </script>\n",
              "    </div>\n",
              "  </div>\n",
              "  "
            ]
          },
          "metadata": {},
          "execution_count": 14
        }
      ]
    },
    {
      "cell_type": "code",
      "source": [
        "merged = merged.drop_duplicates(subset = \"Title\")\n",
        "merged =merged.reset_index(drop = True)\n",
        "grouped = merged.groupby('Year').count()\n",
        "plt.bar(grouped.index, grouped['Article No.'])"
      ],
      "metadata": {
        "colab": {
          "base_uri": "https://localhost:8080/",
          "height": 283
        },
        "id": "xgPgGafCqrKy",
        "outputId": "ede6eb39-29af-4324-9905-45c70240cbf9"
      },
      "execution_count": 12,
      "outputs": [
        {
          "output_type": "execute_result",
          "data": {
            "text/plain": [
              "<BarContainer object of 6 artists>"
            ]
          },
          "metadata": {},
          "execution_count": 12
        },
        {
          "output_type": "display_data",
          "data": {
            "text/plain": [
              "<Figure size 432x288 with 1 Axes>"
            ],
            "image/png": "[encoded data removed]"
          },
          "metadata": {
            "needs_background": "light"
          }
        }
      ]
    },
    {
      "cell_type": "code",
      "source": [
        "grouped = merged.groupby('Year').sum()\n",
        "plt.bar(grouped.index, grouped['Citation'])\n",
        "# Supposed to be five bars. "
      ],
      "metadata": {
        "colab": {
          "base_uri": "https://localhost:8080/",
          "height": 283
        },
        "id": "m5joZ1CTtEyF",
        "outputId": "a78e0eba-6621-4228-c380-bf404e346e0e"
      },
      "execution_count": 13,
      "outputs": [
        {
          "output_type": "execute_result",
          "data": {
            "text/plain": [
              "<BarContainer object of 6 artists>"
            ]
          },
          "metadata": {},
          "execution_count": 13
        },
        {
          "output_type": "display_data",
          "data": {
            "text/plain": [
              "<Figure size 432x288 with 1 Axes>"
            ],
            "image/png": "[encoded data removed]"
          },
          "metadata": {
            "needs_background": "light"
          }
        }
      ]
    },
    {
      "cell_type": "code",
      "source": [
        "test = merged.sort_values('Year')\n",
        "test"
      ],
      "metadata": {
        "colab": {
          "base_uri": "https://localhost:8080/",
          "height": 1000
        },
        "id": "zNTgw8IStZPT",
        "outputId": "cd8e8599-bfb2-42ac-eb43-97f1e955599b"
      },
      "execution_count": null,
      "outputs": [
        {
          "output_type": "execute_result",
          "data": {
            "text/plain": [
              "     Article No.                                              Title  Year  \\\n",
              "370           79  The Effectiveness of Virtual and Augmented Rea...  2017   \n",
              "371           79  The Effectiveness of Virtual and Augmented Rea...  2017   \n",
              "372           79  The Effectiveness of Virtual and Augmented Rea...  2017   \n",
              "175           36  Spatial Learning and Wayfinding in an Immersiv...  2017   \n",
              "176           36  Spatial Learning and Wayfinding in an Immersiv...  2017   \n",
              "..           ...                                                ...   ...   \n",
              "263           56  Influence of Learning Engagement on Learning E...  2022   \n",
              "264           56  Influence of Learning Engagement on Learning E...  2022   \n",
              "265           56  Influence of Learning Engagement on Learning E...  2022   \n",
              "251           53  IoT Networks and Digital Twin Technology-Based...  2022   \n",
              "0              1  Study of Virtual Reality Immersive Technology ...  2022   \n",
              "\n",
              "     Author Number                                          Key Words  \\\n",
              "370            4.0  gross anatomy education, health sciences educa...   \n",
              "371            4.0  gross anatomy education, health sciences educa...   \n",
              "372            4.0  gross anatomy education, health sciences educa...   \n",
              "175            3.0                                                  0   \n",
              "176            3.0                                                  0   \n",
              "..             ...                                                ...   \n",
              "263            1.0  virtual reality (VR), learning engagement, lea...   \n",
              "264            1.0  virtual reality (VR), learning engagement, lea...   \n",
              "265            1.0  virtual reality (VR), learning engagement, lea...   \n",
              "251            2.0                                                  0   \n",
              "0              3.0  virtual reality technologies, mathematics lear...   \n",
              "\n",
              "     Citation                                             Source  \\\n",
              "370     662.0                      ANATOMICAL SCIENCES EDUCATION   \n",
              "371     662.0                      ANATOMICAL SCIENCES EDUCATION   \n",
              "372     662.0                      ANATOMICAL SCIENCES EDUCATION   \n",
              "175      10.0     CYBERPSYCHOLOGY BEHAVIOR AND SOCIAL NETWORKING   \n",
              "176      10.0     CYBERPSYCHOLOGY BEHAVIOR AND SOCIAL NETWORKING   \n",
              "..        ...                                                ...   \n",
              "263       1.0  INTERNATIONAL JOURNAL OF EMERGING TECHNOLOGIES...   \n",
              "264       1.0  INTERNATIONAL JOURNAL OF EMERGING TECHNOLOGIES...   \n",
              "265       1.0  INTERNATIONAL JOURNAL OF EMERGING TECHNOLOGIES...   \n",
              "251       0.0                SECURITY AND COMMUNICATION NETWORKS   \n",
              "0         7.0                            FRONTIERS IN PSYCHOLOGY   \n",
              "\n",
              "                                              Abstract     Type  \\\n",
              "370  Although cadavers constitute the gold standard...  Journal   \n",
              "371  Although cadavers constitute the gold standard...  Journal   \n",
              "372  Although cadavers constitute the gold standard...  Journal   \n",
              "175  Previous work has examined whether immersive t...  Journal   \n",
              "176  Previous work has examined whether immersive t...  Journal   \n",
              "..                                                 ...      ...   \n",
              "263  In this study, the differences generated by th...  Journal   \n",
              "264  In this study, the differences generated by th...  Journal   \n",
              "265  In this study, the differences generated by th...  Journal   \n",
              "251  In order to improve the effect of English clas...  Journal   \n",
              "0    Mathematics is an important foundation for the...  Journal   \n",
              "\n",
              "                   Author Name                Author Affiliation  \\\n",
              "370        Christos Kyrlitsias   Cyprus University of Technology   \n",
              "371            Maria Christofi   Cyprus University of Technology   \n",
              "372  Despina Michael-Grigoriou   Cyprus University of Technology   \n",
              "175            Simone Schnall            University of Cambridge   \n",
              "176               Ruth Weaver                Plymouth University   \n",
              "..                         ...                               ...   \n",
              "263          Lenitra M. Durham                 Intel Corporation   \n",
              "264      Ramesh Manuvinakurike                 Intel Corporation   \n",
              "265                   Eda Okur                 Intel Corporation   \n",
              "251                Bernd Zinn            University of Stuttgart   \n",
              "0                  Yu-Sheng Su  National Taiwan Ocean University   \n",
              "\n",
              "            Country  h-index  \n",
              "370          Cyprus      5.0  \n",
              "371          Cyprus      8.0  \n",
              "372          Cyprus     15.0  \n",
              "175  United Kingdom      0.0  \n",
              "176  United Kingdom      0.0  \n",
              "..              ...      ...  \n",
              "263             USA      0.0  \n",
              "264             USA      0.0  \n",
              "265             USA      0.0  \n",
              "251         Germany     14.0  \n",
              "0            Taiwan      0.0  \n",
              "\n",
              "[388 rows x 13 columns]"
            ],
            "text/html": [
              "\n",
              "  <div id=\"df-ac66a19a-7164-47fe-b4c1-c0490b793eb0\">\n",
              "    <div class=\"colab-df-container\">\n",
              "      <div>\n",
              "<style scoped>\n",
              "    .dataframe tbody tr th:only-of-type {\n",
              "        vertical-align: middle;\n",
              "    }\n",
              "\n",
              "    .dataframe tbody tr th {\n",
              "        vertical-align: top;\n",
              "    }\n",
              "\n",
              "    .dataframe thead th {\n",
              "        text-align: right;\n",
              "    }\n",
              "</style>\n",
              "<table border=\"1\" class=\"dataframe\">\n",
              "  <thead>\n",
              "    <tr style=\"text-align: right;\">\n",
              "      <th></th>\n",
              "      <th>Article No.</th>\n",
              "      <th>Title</th>\n",
              "      <th>Year</th>\n",
              "      <th>Author Number</th>\n",
              "      <th>Key Words</th>\n",
              "      <th>Citation</th>\n",
              "      <th>Source</th>\n",
              "      <th>Abstract</th>\n",
              "      <th>Type</th>\n",
              "      <th>Author Name</th>\n",
              "      <th>Author Affiliation</th>\n",
              "      <th>Country</th>\n",
              "      <th>h-index</th>\n",
              "    </tr>\n",
              "  </thead>\n",
              "  <tbody>\n",
              "    <tr>\n",
              "      <th>370</th>\n",
              "      <td>79</td>\n",
              "      <td>The Effectiveness of Virtual and Augmented Rea...</td>\n",
              "      <td>2017</td>\n",
              "      <td>4.0</td>\n",
              "      <td>gross anatomy education, health sciences educa...</td>\n",
              "      <td>662.0</td>\n",
              "      <td>ANATOMICAL SCIENCES EDUCATION</td>\n",
              "      <td>Although cadavers constitute the gold standard...</td>\n",
              "      <td>Journal</td>\n",
              "      <td>Christos Kyrlitsias</td>\n",
              "      <td>Cyprus University of Technology</td>\n",
              "      <td>Cyprus</td>\n",
              "      <td>5.0</td>\n",
              "    </tr>\n",
              "    <tr>\n",
              "      <th>371</th>\n",
              "      <td>79</td>\n",
              "      <td>The Effectiveness of Virtual and Augmented Rea...</td>\n",
              "      <td>2017</td>\n",
              "      <td>4.0</td>\n",
              "      <td>gross anatomy education, health sciences educa...</td>\n",
              "      <td>662.0</td>\n",
              "      <td>ANATOMICAL SCIENCES EDUCATION</td>\n",
              "      <td>Although cadavers constitute the gold standard...</td>\n",
              "      <td>Journal</td>\n",
              "      <td>Maria Christofi</td>\n",
              "      <td>Cyprus University of Technology</td>\n",
              "      <td>Cyprus</td>\n",
              "      <td>8.0</td>\n",
              "    </tr>\n",
              "    <tr>\n",
              "      <th>372</th>\n",
              "      <td>79</td>\n",
              "      <td>The Effectiveness of Virtual and Augmented Rea...</td>\n",
              "      <td>2017</td>\n",
              "      <td>4.0</td>\n",
              "      <td>gross anatomy education, health sciences educa...</td>\n",
              "      <td>662.0</td>\n",
              "      <td>ANATOMICAL SCIENCES EDUCATION</td>\n",
              "      <td>Although cadavers constitute the gold standard...</td>\n",
              "      <td>Journal</td>\n",
              "      <td>Despina Michael-Grigoriou</td>\n",
              "      <td>Cyprus University of Technology</td>\n",
              "      <td>Cyprus</td>\n",
              "      <td>15.0</td>\n",
              "    </tr>\n",
              "    <tr>\n",
              "      <th>175</th>\n",
              "      <td>36</td>\n",
              "      <td>Spatial Learning and Wayfinding in an Immersiv...</td>\n",
              "      <td>2017</td>\n",
              "      <td>3.0</td>\n",
              "      <td>0</td>\n",
              "      <td>10.0</td>\n",
              "      <td>CYBERPSYCHOLOGY BEHAVIOR AND SOCIAL NETWORKING</td>\n",
              "      <td>Previous work has examined whether immersive t...</td>\n",
              "      <td>Journal</td>\n",
              "      <td>Simone Schnall</td>\n",
              "      <td>University of Cambridge</td>\n",
              "      <td>United Kingdom</td>\n",
              "      <td>0.0</td>\n",
              "    </tr>\n",
              "    <tr>\n",
              "      <th>176</th>\n",
              "      <td>36</td>\n",
              "      <td>Spatial Learning and Wayfinding in an Immersiv...</td>\n",
              "      <td>2017</td>\n",
              "      <td>3.0</td>\n",
              "      <td>0</td>\n",
              "      <td>10.0</td>\n",
              "      <td>CYBERPSYCHOLOGY BEHAVIOR AND SOCIAL NETWORKING</td>\n",
              "      <td>Previous work has examined whether immersive t...</td>\n",
              "      <td>Journal</td>\n",
              "      <td>Ruth Weaver</td>\n",
              "      <td>Plymouth University</td>\n",
              "      <td>United Kingdom</td>\n",
              "      <td>0.0</td>\n",
              "    </tr>\n",
              "    <tr>\n",
              "      <th>...</th>\n",
              "      <td>...</td>\n",
              "      <td>...</td>\n",
              "      <td>...</td>\n",
              "      <td>...</td>\n",
              "      <td>...</td>\n",
              "      <td>...</td>\n",
              "      <td>...</td>\n",
              "      <td>...</td>\n",
              "      <td>...</td>\n",
              "      <td>...</td>\n",
              "      <td>...</td>\n",
              "      <td>...</td>\n",
              "      <td>...</td>\n",
              "    </tr>\n",
              "    <tr>\n",
              "      <th>263</th>\n",
              "      <td>56</td>\n",
              "      <td>Influence of Learning Engagement on Learning E...</td>\n",
              "      <td>2022</td>\n",
              "      <td>1.0</td>\n",
              "      <td>virtual reality (VR), learning engagement, lea...</td>\n",
              "      <td>1.0</td>\n",
              "      <td>INTERNATIONAL JOURNAL OF EMERGING TECHNOLOGIES...</td>\n",
              "      <td>In this study, the differences generated by th...</td>\n",
              "      <td>Journal</td>\n",
              "      <td>Lenitra M. Durham</td>\n",
              "      <td>Intel Corporation</td>\n",
              "      <td>USA</td>\n",
              "      <td>0.0</td>\n",
              "    </tr>\n",
              "    <tr>\n",
              "      <th>264</th>\n",
              "      <td>56</td>\n",
              "      <td>Influence of Learning Engagement on Learning E...</td>\n",
              "      <td>2022</td>\n",
              "      <td>1.0</td>\n",
              "      <td>virtual reality (VR), learning engagement, lea...</td>\n",
              "      <td>1.0</td>\n",
              "      <td>INTERNATIONAL JOURNAL OF EMERGING TECHNOLOGIES...</td>\n",
              "      <td>In this study, the differences generated by th...</td>\n",
              "      <td>Journal</td>\n",
              "      <td>Ramesh Manuvinakurike</td>\n",
              "      <td>Intel Corporation</td>\n",
              "      <td>USA</td>\n",
              "      <td>0.0</td>\n",
              "    </tr>\n",
              "    <tr>\n",
              "      <th>265</th>\n",
              "      <td>56</td>\n",
              "      <td>Influence of Learning Engagement on Learning E...</td>\n",
              "      <td>2022</td>\n",
              "      <td>1.0</td>\n",
              "      <td>virtual reality (VR), learning engagement, lea...</td>\n",
              "      <td>1.0</td>\n",
              "      <td>INTERNATIONAL JOURNAL OF EMERGING TECHNOLOGIES...</td>\n",
              "      <td>In this study, the differences generated by th...</td>\n",
              "      <td>Journal</td>\n",
              "      <td>Eda Okur</td>\n",
              "      <td>Intel Corporation</td>\n",
              "      <td>USA</td>\n",
              "      <td>0.0</td>\n",
              "    </tr>\n",
              "    <tr>\n",
              "      <th>251</th>\n",
              "      <td>53</td>\n",
              "      <td>IoT Networks and Digital Twin Technology-Based...</td>\n",
              "      <td>2022</td>\n",
              "      <td>2.0</td>\n",
              "      <td>0</td>\n",
              "      <td>0.0</td>\n",
              "      <td>SECURITY AND COMMUNICATION NETWORKS</td>\n",
              "      <td>In order to improve the effect of English clas...</td>\n",
              "      <td>Journal</td>\n",
              "      <td>Bernd Zinn</td>\n",
              "      <td>University of Stuttgart</td>\n",
              "      <td>Germany</td>\n",
              "      <td>14.0</td>\n",
              "    </tr>\n",
              "    <tr>\n",
              "      <th>0</th>\n",
              "      <td>1</td>\n",
              "      <td>Study of Virtual Reality Immersive Technology ...</td>\n",
              "      <td>2022</td>\n",
              "      <td>3.0</td>\n",
              "      <td>virtual reality technologies, mathematics lear...</td>\n",
              "      <td>7.0</td>\n",
              "      <td>FRONTIERS IN PSYCHOLOGY</td>\n",
              "      <td>Mathematics is an important foundation for the...</td>\n",
              "      <td>Journal</td>\n",
              "      <td>Yu-Sheng Su</td>\n",
              "      <td>National Taiwan Ocean University</td>\n",
              "      <td>Taiwan</td>\n",
              "      <td>0.0</td>\n",
              "    </tr>\n",
              "  </tbody>\n",
              "</table>\n",
              "<p>388 rows × 13 columns</p>\n",
              "</div>\n",
              "      <button class=\"colab-df-convert\" onclick=\"convertToInteractive('df-ac66a19a-7164-47fe-b4c1-c0490b793eb0')\"\n",
              "              title=\"Convert this dataframe to an interactive table.\"\n",
              "              style=\"display:none;\">\n",
              "        \n",
              "  <svg xmlns=\"http://www.w3.org/2000/svg\" height=\"24px\"viewBox=\"0 0 24 24\"\n",
              "       width=\"24px\">\n",
              "    <path d=\"M0 0h24v24H0V0z\" fill=\"none\"/>\n",
              "    <path d=\"M18.56 5.44l.94 2.06.94-2.06 2.06-.94-2.06-.94-.94-2.06-.94 2.06-2.06.94zm-11 1L8.5 8.5l.94-2.06 2.06-.94-2.06-.94L8.5 2.5l-.94 2.06-2.06.94zm10 10l.94 2.06.94-2.06 2.06-.94-2.06-.94-.94-2.06-.94 2.06-2.06.94z\"/><path d=\"M17.41 7.96l-1.37-1.37c-.4-.4-.92-.59-1.43-.59-.52 0-1.04.2-1.43.59L10.3 9.45l-7.72 7.72c-.78.78-.78 2.05 0 2.83L4 21.41c.39.39.9.59 1.41.59.51 0 1.02-.2 1.41-.59l7.78-7.78 2.81-2.81c.8-.78.8-2.07 0-2.86zM5.41 20L4 18.59l7.72-7.72 1.47 1.35L5.41 20z\"/>\n",
              "  </svg>\n",
              "      </button>\n",
              "      \n",
              "  <style>\n",
              "    .colab-df-container {\n",
              "      display:flex;\n",
              "      flex-wrap:wrap;\n",
              "      gap: 12px;\n",
              "    }\n",
              "\n",
              "    .colab-df-convert {\n",
              "      background-color: #E8F0FE;\n",
              "      border: none;\n",
              "      border-radius: 50%;\n",
              "      cursor: pointer;\n",
              "      display: none;\n",
              "      fill: #1967D2;\n",
              "      height: 32px;\n",
              "      padding: 0 0 0 0;\n",
              "      width: 32px;\n",
              "    }\n",
              "\n",
              "    .colab-df-convert:hover {\n",
              "      background-color: #E2EBFA;\n",
              "      box-shadow: 0px 1px 2px rgba(60, 64, 67, 0.3), 0px 1px 3px 1px rgba(60, 64, 67, 0.15);\n",
              "      fill: #174EA6;\n",
              "    }\n",
              "\n",
              "    [theme=dark] .colab-df-convert {\n",
              "      background-color: #3B4455;\n",
              "      fill: #D2E3FC;\n",
              "    }\n",
              "\n",
              "    [theme=dark] .colab-df-convert:hover {\n",
              "      background-color: #434B5C;\n",
              "      box-shadow: 0px 1px 3px 1px rgba(0, 0, 0, 0.15);\n",
              "      filter: drop-shadow(0px 1px 2px rgba(0, 0, 0, 0.3));\n",
              "      fill: #FFFFFF;\n",
              "    }\n",
              "  </style>\n",
              "\n",
              "      <script>\n",
              "        const buttonEl =\n",
              "          document.querySelector('#df-ac66a19a-7164-47fe-b4c1-c0490b793eb0 button.colab-df-convert');\n",
              "        buttonEl.style.display =\n",
              "          google.colab.kernel.accessAllowed ? 'block' : 'none';\n",
              "\n",
              "        async function convertToInteractive(key) {\n",
              "          const element = document.querySelector('#df-ac66a19a-7164-47fe-b4c1-c0490b793eb0');\n",
              "          const dataTable =\n",
              "            await google.colab.kernel.invokeFunction('convertToInteractive',\n",
              "                                                     [key], {});\n",
              "          if (!dataTable) return;\n",
              "\n",
              "          const docLinkHtml = 'Like what you see? Visit the ' +\n",
              "            '<a target=\"_blank\" href=https://colab.research.google.com/notebooks/data_table.ipynb>data table notebook</a>'\n",
              "            + ' to learn more about interactive tables.';\n",
              "          element.innerHTML = '';\n",
              "          dataTable['output_type'] = 'display_data';\n",
              "          await google.colab.output.renderOutput(dataTable, element);\n",
              "          const docLink = document.createElement('div');\n",
              "          docLink.innerHTML = docLinkHtml;\n",
              "          element.appendChild(docLink);\n",
              "        }\n",
              "      </script>\n",
              "    </div>\n",
              "  </div>\n",
              "  "
            ]
          },
          "metadata": {},
          "execution_count": 17
        }
      ]
    },
    {
      "cell_type": "code",
      "source": [
        "# Figure of the number of publications across countries: \n",
        "# Group the data by country and count the number of articles in each country\n",
        "grouped = merged.groupby('Country').count()\n",
        "world = gpd.read_file(gpd.datasets.get_path('naturalearth_lowres'))\n",
        "\n",
        "# Merge the article data with the world map data\n",
        "merged_data = world.merge(grouped, left_on='name', right_index=True)\n",
        "# Plot the data\n",
        "ax = merged_data.plot(column='Article No.', cmap='Blues', legend=True)\n",
        "plt.title('Number of articles published in each country')\n",
        "\n",
        "# Show plot\n",
        "plt.show()"
      ],
      "metadata": {
        "colab": {
          "base_uri": "https://localhost:8080/",
          "height": 248
        },
        "id": "s0gRieRGwRAG",
        "outputId": "fda7fe37-9ac9-4f4d-c7a8-e27889b73a13"
      },
      "execution_count": 19,
      "outputs": [
        {
          "output_type": "display_data",
          "data": {
            "text/plain": [
              "<Figure size 432x288 with 2 Axes>"
            ],
            "image/png": "[encoded data removed]"
          },
          "metadata": {
            "needs_background": "light"
          }
        }
      ]
    },
    {
      "cell_type": "code",
      "source": [
        "merged"
      ],
      "metadata": {
        "colab": {
          "base_uri": "https://localhost:8080/",
          "height": 1000
        },
        "id": "Z7RNvZhKwVsX",
        "outputId": "b8f89d46-a95f-4888-f54f-3c58592bec19"
      },
      "execution_count": null,
      "outputs": [
        {
          "output_type": "execute_result",
          "data": {
            "text/plain": [
              "     Article No.                                              Title  Year  \\\n",
              "0              1  Study of Virtual Reality Immersive Technology ...  2022   \n",
              "1              1  Study of Virtual Reality Immersive Technology ...  2022   \n",
              "2              1  Study of Virtual Reality Immersive Technology ...  2022   \n",
              "3              2  Factors Influencing Nursing Students' Immersiv...  2021   \n",
              "4              2  Factors Influencing Nursing Students' Immersiv...  2021   \n",
              "..           ...                                                ...   ...   \n",
              "383           81  Teaching Enzyme Catalysis Using Interactive Mo...  2019   \n",
              "384           81  Teaching Enzyme Catalysis Using Interactive Mo...  2019   \n",
              "385           81  Teaching Enzyme Catalysis Using Interactive Mo...  2019   \n",
              "386           81  Teaching Enzyme Catalysis Using Interactive Mo...  2019   \n",
              "387           81  Teaching Enzyme Catalysis Using Interactive Mo...  2019   \n",
              "\n",
              "     Author Number                                          Key Words  \\\n",
              "0              3.0  virtual reality technologies, mathematics lear...   \n",
              "1              3.0  virtual reality technologies, mathematics lear...   \n",
              "2              3.0  virtual reality technologies, mathematics lear...   \n",
              "3              2.0  virtual reality; learning; immersive media tec...   \n",
              "4              2.0  virtual reality; learning; immersive media tec...   \n",
              "..             ...                                                ...   \n",
              "383            7.0  Graduate Education/Research, Biochemistry, Com...   \n",
              "384            7.0  Graduate Education/Research, Biochemistry, Com...   \n",
              "385            7.0  Graduate Education/Research, Biochemistry, Com...   \n",
              "386            7.0  Graduate Education/Research, Biochemistry, Com...   \n",
              "387            7.0  Graduate Education/Research, Biochemistry, Com...   \n",
              "\n",
              "     Citation                         Source  \\\n",
              "0         7.0        FRONTIERS IN PSYCHOLOGY   \n",
              "1         7.0        FRONTIERS IN PSYCHOLOGY   \n",
              "2         7.0        FRONTIERS IN PSYCHOLOGY   \n",
              "3         3.0                        SENSORS   \n",
              "4         3.0                        SENSORS   \n",
              "..        ...                            ...   \n",
              "383      85.0  JOURNAL OF CHEMICAL EDUCATION   \n",
              "384      85.0  JOURNAL OF CHEMICAL EDUCATION   \n",
              "385      85.0  JOURNAL OF CHEMICAL EDUCATION   \n",
              "386      85.0  JOURNAL OF CHEMICAL EDUCATION   \n",
              "387      85.0  JOURNAL OF CHEMICAL EDUCATION   \n",
              "\n",
              "                                              Abstract     Type  \\\n",
              "0    Mathematics is an important foundation for the...  Journal   \n",
              "1    Mathematics is an important foundation for the...  Journal   \n",
              "2    Mathematics is an important foundation for the...  Journal   \n",
              "3    Background/objectives: This study aims to iden...  Journal   \n",
              "4    Background/objectives: This study aims to iden...  Journal   \n",
              "..                                                 ...      ...   \n",
              "383  The reemergence of virtual reality (VR) in the...  Journal   \n",
              "384  The reemergence of virtual reality (VR) in the...  Journal   \n",
              "385  The reemergence of virtual reality (VR) in the...  Journal   \n",
              "386  The reemergence of virtual reality (VR) in the...  Journal   \n",
              "387  The reemergence of virtual reality (VR) in the...  Journal   \n",
              "\n",
              "              Author Name                       Author Affiliation Country  \\\n",
              "0             Yu-Sheng Su         National Taiwan Ocean University  Taiwan   \n",
              "1          Hung-Wei Cheng         National Taiwan Ocean University  Taiwan   \n",
              "2           Chin-Feng Lai           National Cheng Kung University  Taiwan   \n",
              "3             Youngju Kim   Daejeon Health Institute of Technology   Korea   \n",
              "4            Sung Yun Ahn                      Pai Chai University   Korea   \n",
              "..                    ...                                      ...     ...   \n",
              "383          Kenny Miller                  Boise State University      USA   \n",
              "384  Shalini Ramachandran                       Chapman University     USA   \n",
              "385             Sheree Fu  California State University Los Angeles     USA   \n",
              "386          Karen Howell        University of Southern California     USA   \n",
              "387        Steven Cutchin                  Boise State University      USA   \n",
              "\n",
              "     h-index  \n",
              "0        0.0  \n",
              "1        0.0  \n",
              "2        0.0  \n",
              "3        0.0  \n",
              "4        0.0  \n",
              "..       ...  \n",
              "383      0.0  \n",
              "384      2.0  \n",
              "385      0.0  \n",
              "386      0.0  \n",
              "387      0.0  \n",
              "\n",
              "[388 rows x 13 columns]"
            ],
            "text/html": [
              "\n",
              "  <div id=\"df-d547ce49-b42f-4b65-8bea-9b32c87c59fd\">\n",
              "    <div class=\"colab-df-container\">\n",
              "      <div>\n",
              "<style scoped>\n",
              "    .dataframe tbody tr th:only-of-type {\n",
              "        vertical-align: middle;\n",
              "    }\n",
              "\n",
              "    .dataframe tbody tr th {\n",
              "        vertical-align: top;\n",
              "    }\n",
              "\n",
              "    .dataframe thead th {\n",
              "        text-align: right;\n",
              "    }\n",
              "</style>\n",
              "<table border=\"1\" class=\"dataframe\">\n",
              "  <thead>\n",
              "    <tr style=\"text-align: right;\">\n",
              "      <th></th>\n",
              "      <th>Article No.</th>\n",
              "      <th>Title</th>\n",
              "      <th>Year</th>\n",
              "      <th>Author Number</th>\n",
              "      <th>Key Words</th>\n",
              "      <th>Citation</th>\n",
              "      <th>Source</th>\n",
              "      <th>Abstract</th>\n",
              "      <th>Type</th>\n",
              "      <th>Author Name</th>\n",
              "      <th>Author Affiliation</th>\n",
              "      <th>Country</th>\n",
              "      <th>h-index</th>\n",
              "    </tr>\n",
              "  </thead>\n",
              "  <tbody>\n",
              "    <tr>\n",
              "      <th>0</th>\n",
              "      <td>1</td>\n",
              "      <td>Study of Virtual Reality Immersive Technology ...</td>\n",
              "      <td>2022</td>\n",
              "      <td>3.0</td>\n",
              "      <td>virtual reality technologies, mathematics lear...</td>\n",
              "      <td>7.0</td>\n",
              "      <td>FRONTIERS IN PSYCHOLOGY</td>\n",
              "      <td>Mathematics is an important foundation for the...</td>\n",
              "      <td>Journal</td>\n",
              "      <td>Yu-Sheng Su</td>\n",
              "      <td>National Taiwan Ocean University</td>\n",
              "      <td>Taiwan</td>\n",
              "      <td>0.0</td>\n",
              "    </tr>\n",
              "    <tr>\n",
              "      <th>1</th>\n",
              "      <td>1</td>\n",
              "      <td>Study of Virtual Reality Immersive Technology ...</td>\n",
              "      <td>2022</td>\n",
              "      <td>3.0</td>\n",
              "      <td>virtual reality technologies, mathematics lear...</td>\n",
              "      <td>7.0</td>\n",
              "      <td>FRONTIERS IN PSYCHOLOGY</td>\n",
              "      <td>Mathematics is an important foundation for the...</td>\n",
              "      <td>Journal</td>\n",
              "      <td>Hung-Wei Cheng</td>\n",
              "      <td>National Taiwan Ocean University</td>\n",
              "      <td>Taiwan</td>\n",
              "      <td>0.0</td>\n",
              "    </tr>\n",
              "    <tr>\n",
              "      <th>2</th>\n",
              "      <td>1</td>\n",
              "      <td>Study of Virtual Reality Immersive Technology ...</td>\n",
              "      <td>2022</td>\n",
              "      <td>3.0</td>\n",
              "      <td>virtual reality technologies, mathematics lear...</td>\n",
              "      <td>7.0</td>\n",
              "      <td>FRONTIERS IN PSYCHOLOGY</td>\n",
              "      <td>Mathematics is an important foundation for the...</td>\n",
              "      <td>Journal</td>\n",
              "      <td>Chin-Feng Lai</td>\n",
              "      <td>National Cheng Kung University</td>\n",
              "      <td>Taiwan</td>\n",
              "      <td>0.0</td>\n",
              "    </tr>\n",
              "    <tr>\n",
              "      <th>3</th>\n",
              "      <td>2</td>\n",
              "      <td>Factors Influencing Nursing Students' Immersiv...</td>\n",
              "      <td>2021</td>\n",
              "      <td>2.0</td>\n",
              "      <td>virtual reality; learning; immersive media tec...</td>\n",
              "      <td>3.0</td>\n",
              "      <td>SENSORS</td>\n",
              "      <td>Background/objectives: This study aims to iden...</td>\n",
              "      <td>Journal</td>\n",
              "      <td>Youngju Kim</td>\n",
              "      <td>Daejeon Health Institute of Technology</td>\n",
              "      <td>Korea</td>\n",
              "      <td>0.0</td>\n",
              "    </tr>\n",
              "    <tr>\n",
              "      <th>4</th>\n",
              "      <td>2</td>\n",
              "      <td>Factors Influencing Nursing Students' Immersiv...</td>\n",
              "      <td>2021</td>\n",
              "      <td>2.0</td>\n",
              "      <td>virtual reality; learning; immersive media tec...</td>\n",
              "      <td>3.0</td>\n",
              "      <td>SENSORS</td>\n",
              "      <td>Background/objectives: This study aims to iden...</td>\n",
              "      <td>Journal</td>\n",
              "      <td>Sung Yun Ahn</td>\n",
              "      <td>Pai Chai University</td>\n",
              "      <td>Korea</td>\n",
              "      <td>0.0</td>\n",
              "    </tr>\n",
              "    <tr>\n",
              "      <th>...</th>\n",
              "      <td>...</td>\n",
              "      <td>...</td>\n",
              "      <td>...</td>\n",
              "      <td>...</td>\n",
              "      <td>...</td>\n",
              "      <td>...</td>\n",
              "      <td>...</td>\n",
              "      <td>...</td>\n",
              "      <td>...</td>\n",
              "      <td>...</td>\n",
              "      <td>...</td>\n",
              "      <td>...</td>\n",
              "      <td>...</td>\n",
              "    </tr>\n",
              "    <tr>\n",
              "      <th>383</th>\n",
              "      <td>81</td>\n",
              "      <td>Teaching Enzyme Catalysis Using Interactive Mo...</td>\n",
              "      <td>2019</td>\n",
              "      <td>7.0</td>\n",
              "      <td>Graduate Education/Research, Biochemistry, Com...</td>\n",
              "      <td>85.0</td>\n",
              "      <td>JOURNAL OF CHEMICAL EDUCATION</td>\n",
              "      <td>The reemergence of virtual reality (VR) in the...</td>\n",
              "      <td>Journal</td>\n",
              "      <td>Kenny Miller</td>\n",
              "      <td>Boise State University</td>\n",
              "      <td>USA</td>\n",
              "      <td>0.0</td>\n",
              "    </tr>\n",
              "    <tr>\n",
              "      <th>384</th>\n",
              "      <td>81</td>\n",
              "      <td>Teaching Enzyme Catalysis Using Interactive Mo...</td>\n",
              "      <td>2019</td>\n",
              "      <td>7.0</td>\n",
              "      <td>Graduate Education/Research, Biochemistry, Com...</td>\n",
              "      <td>85.0</td>\n",
              "      <td>JOURNAL OF CHEMICAL EDUCATION</td>\n",
              "      <td>The reemergence of virtual reality (VR) in the...</td>\n",
              "      <td>Journal</td>\n",
              "      <td>Shalini Ramachandran</td>\n",
              "      <td>Chapman University</td>\n",
              "      <td>USA</td>\n",
              "      <td>2.0</td>\n",
              "    </tr>\n",
              "    <tr>\n",
              "      <th>385</th>\n",
              "      <td>81</td>\n",
              "      <td>Teaching Enzyme Catalysis Using Interactive Mo...</td>\n",
              "      <td>2019</td>\n",
              "      <td>7.0</td>\n",
              "      <td>Graduate Education/Research, Biochemistry, Com...</td>\n",
              "      <td>85.0</td>\n",
              "      <td>JOURNAL OF CHEMICAL EDUCATION</td>\n",
              "      <td>The reemergence of virtual reality (VR) in the...</td>\n",
              "      <td>Journal</td>\n",
              "      <td>Sheree Fu</td>\n",
              "      <td>California State University Los Angeles</td>\n",
              "      <td>USA</td>\n",
              "      <td>0.0</td>\n",
              "    </tr>\n",
              "    <tr>\n",
              "      <th>386</th>\n",
              "      <td>81</td>\n",
              "      <td>Teaching Enzyme Catalysis Using Interactive Mo...</td>\n",
              "      <td>2019</td>\n",
              "      <td>7.0</td>\n",
              "      <td>Graduate Education/Research, Biochemistry, Com...</td>\n",
              "      <td>85.0</td>\n",
              "      <td>JOURNAL OF CHEMICAL EDUCATION</td>\n",
              "      <td>The reemergence of virtual reality (VR) in the...</td>\n",
              "      <td>Journal</td>\n",
              "      <td>Karen Howell</td>\n",
              "      <td>University of Southern California</td>\n",
              "      <td>USA</td>\n",
              "      <td>0.0</td>\n",
              "    </tr>\n",
              "    <tr>\n",
              "      <th>387</th>\n",
              "      <td>81</td>\n",
              "      <td>Teaching Enzyme Catalysis Using Interactive Mo...</td>\n",
              "      <td>2019</td>\n",
              "      <td>7.0</td>\n",
              "      <td>Graduate Education/Research, Biochemistry, Com...</td>\n",
              "      <td>85.0</td>\n",
              "      <td>JOURNAL OF CHEMICAL EDUCATION</td>\n",
              "      <td>The reemergence of virtual reality (VR) in the...</td>\n",
              "      <td>Journal</td>\n",
              "      <td>Steven Cutchin</td>\n",
              "      <td>Boise State University</td>\n",
              "      <td>USA</td>\n",
              "      <td>0.0</td>\n",
              "    </tr>\n",
              "  </tbody>\n",
              "</table>\n",
              "<p>388 rows × 13 columns</p>\n",
              "</div>\n",
              "      <button class=\"colab-df-convert\" onclick=\"convertToInteractive('df-d547ce49-b42f-4b65-8bea-9b32c87c59fd')\"\n",
              "              title=\"Convert this dataframe to an interactive table.\"\n",
              "              style=\"display:none;\">\n",
              "        \n",
              "  <svg xmlns=\"http://www.w3.org/2000/svg\" height=\"24px\"viewBox=\"0 0 24 24\"\n",
              "       width=\"24px\">\n",
              "    <path d=\"M0 0h24v24H0V0z\" fill=\"none\"/>\n",
              "    <path d=\"M18.56 5.44l.94 2.06.94-2.06 2.06-.94-2.06-.94-.94-2.06-.94 2.06-2.06.94zm-11 1L8.5 8.5l.94-2.06 2.06-.94-2.06-.94L8.5 2.5l-.94 2.06-2.06.94zm10 10l.94 2.06.94-2.06 2.06-.94-2.06-.94-.94-2.06-.94 2.06-2.06.94z\"/><path d=\"M17.41 7.96l-1.37-1.37c-.4-.4-.92-.59-1.43-.59-.52 0-1.04.2-1.43.59L10.3 9.45l-7.72 7.72c-.78.78-.78 2.05 0 2.83L4 21.41c.39.39.9.59 1.41.59.51 0 1.02-.2 1.41-.59l7.78-7.78 2.81-2.81c.8-.78.8-2.07 0-2.86zM5.41 20L4 18.59l7.72-7.72 1.47 1.35L5.41 20z\"/>\n",
              "  </svg>\n",
              "      </button>\n",
              "      \n",
              "  <style>\n",
              "    .colab-df-container {\n",
              "      display:flex;\n",
              "      flex-wrap:wrap;\n",
              "      gap: 12px;\n",
              "    }\n",
              "\n",
              "    .colab-df-convert {\n",
              "      background-color: #E8F0FE;\n",
              "      border: none;\n",
              "      border-radius: 50%;\n",
              "      cursor: pointer;\n",
              "      display: none;\n",
              "      fill: #1967D2;\n",
              "      height: 32px;\n",
              "      padding: 0 0 0 0;\n",
              "      width: 32px;\n",
              "    }\n",
              "\n",
              "    .colab-df-convert:hover {\n",
              "      background-color: #E2EBFA;\n",
              "      box-shadow: 0px 1px 2px rgba(60, 64, 67, 0.3), 0px 1px 3px 1px rgba(60, 64, 67, 0.15);\n",
              "      fill: #174EA6;\n",
              "    }\n",
              "\n",
              "    [theme=dark] .colab-df-convert {\n",
              "      background-color: #3B4455;\n",
              "      fill: #D2E3FC;\n",
              "    }\n",
              "\n",
              "    [theme=dark] .colab-df-convert:hover {\n",
              "      background-color: #434B5C;\n",
              "      box-shadow: 0px 1px 3px 1px rgba(0, 0, 0, 0.15);\n",
              "      filter: drop-shadow(0px 1px 2px rgba(0, 0, 0, 0.3));\n",
              "      fill: #FFFFFF;\n",
              "    }\n",
              "  </style>\n",
              "\n",
              "      <script>\n",
              "        const buttonEl =\n",
              "          document.querySelector('#df-d547ce49-b42f-4b65-8bea-9b32c87c59fd button.colab-df-convert');\n",
              "        buttonEl.style.display =\n",
              "          google.colab.kernel.accessAllowed ? 'block' : 'none';\n",
              "\n",
              "        async function convertToInteractive(key) {\n",
              "          const element = document.querySelector('#df-d547ce49-b42f-4b65-8bea-9b32c87c59fd');\n",
              "          const dataTable =\n",
              "            await google.colab.kernel.invokeFunction('convertToInteractive',\n",
              "                                                     [key], {});\n",
              "          if (!dataTable) return;\n",
              "\n",
              "          const docLinkHtml = 'Like what you see? Visit the ' +\n",
              "            '<a target=\"_blank\" href=https://colab.research.google.com/notebooks/data_table.ipynb>data table notebook</a>'\n",
              "            + ' to learn more about interactive tables.';\n",
              "          element.innerHTML = '';\n",
              "          dataTable['output_type'] = 'display_data';\n",
              "          await google.colab.output.renderOutput(dataTable, element);\n",
              "          const docLink = document.createElement('div');\n",
              "          docLink.innerHTML = docLinkHtml;\n",
              "          element.appendChild(docLink);\n",
              "        }\n",
              "      </script>\n",
              "    </div>\n",
              "  </div>\n",
              "  "
            ]
          },
          "metadata": {},
          "execution_count": 19
        }
      ]
    },
    {
      "cell_type": "code",
      "source": [
        "test1 = merged.sort_values(\"Article No.\")"
      ],
      "metadata": {
        "id": "mVkbU4rL4J3z"
      },
      "execution_count": null,
      "outputs": []
    },
    {
      "cell_type": "code",
      "source": [
        "# Top 5 institutions that have the most published articles: \n",
        "grouped = merged.groupby('Author Affiliation').sum()\n",
        "grouped = grouped.sort_values('Article No.', ascending = False)\n",
        "grouped.head()"
      ],
      "metadata": {
        "colab": {
          "base_uri": "https://localhost:8080/",
          "height": 237
        },
        "id": "-wFN3Edy4YrH",
        "outputId": "c001eea0-8571-494a-ec94-523f21aa8668"
      },
      "execution_count": 22,
      "outputs": [
        {
          "output_type": "execute_result",
          "data": {
            "text/plain": [
              "                                   Article No.  Year  Author Number  Citation  \\\n",
              "Author Affiliation                                                              \n",
              "Fudan University                           141  4042           13.0      56.0   \n",
              "Cyprus University of Technology             85  4038            7.0     675.0   \n",
              "University of Southern California           81  2019            7.0      85.0   \n",
              "Nanome                                      80  2020            5.0       6.0   \n",
              "Bond University                             78  2020            4.0      17.0   \n",
              "\n",
              "                                   h-index  \n",
              "Author Affiliation                          \n",
              "Fudan University                      14.0  \n",
              "Cyprus University of Technology        5.0  \n",
              "University of Southern California      0.0  \n",
              "Nanome                                14.0  \n",
              "Bond University                       17.0  "
            ],
            "text/html": [
              "\n",
              "  <div id=\"df-42c89c10-040f-4cff-bbed-b9a3a52b4627\">\n",
              "    <div class=\"colab-df-container\">\n",
              "      <div>\n",
              "<style scoped>\n",
              "    .dataframe tbody tr th:only-of-type {\n",
              "        vertical-align: middle;\n",
              "    }\n",
              "\n",
              "    .dataframe tbody tr th {\n",
              "        vertical-align: top;\n",
              "    }\n",
              "\n",
              "    .dataframe thead th {\n",
              "        text-align: right;\n",
              "    }\n",
              "</style>\n",
              "<table border=\"1\" class=\"dataframe\">\n",
              "  <thead>\n",
              "    <tr style=\"text-align: right;\">\n",
              "      <th></th>\n",
              "      <th>Article No.</th>\n",
              "      <th>Year</th>\n",
              "      <th>Author Number</th>\n",
              "      <th>Citation</th>\n",
              "      <th>h-index</th>\n",
              "    </tr>\n",
              "    <tr>\n",
              "      <th>Author Affiliation</th>\n",
              "      <th></th>\n",
              "      <th></th>\n",
              "      <th></th>\n",
              "      <th></th>\n",
              "      <th></th>\n",
              "    </tr>\n",
              "  </thead>\n",
              "  <tbody>\n",
              "    <tr>\n",
              "      <th>Fudan University</th>\n",
              "      <td>141</td>\n",
              "      <td>4042</td>\n",
              "      <td>13.0</td>\n",
              "      <td>56.0</td>\n",
              "      <td>14.0</td>\n",
              "    </tr>\n",
              "    <tr>\n",
              "      <th>Cyprus University of Technology</th>\n",
              "      <td>85</td>\n",
              "      <td>4038</td>\n",
              "      <td>7.0</td>\n",
              "      <td>675.0</td>\n",
              "      <td>5.0</td>\n",
              "    </tr>\n",
              "    <tr>\n",
              "      <th>University of Southern California</th>\n",
              "      <td>81</td>\n",
              "      <td>2019</td>\n",
              "      <td>7.0</td>\n",
              "      <td>85.0</td>\n",
              "      <td>0.0</td>\n",
              "    </tr>\n",
              "    <tr>\n",
              "      <th>Nanome</th>\n",
              "      <td>80</td>\n",
              "      <td>2020</td>\n",
              "      <td>5.0</td>\n",
              "      <td>6.0</td>\n",
              "      <td>14.0</td>\n",
              "    </tr>\n",
              "    <tr>\n",
              "      <th>Bond University</th>\n",
              "      <td>78</td>\n",
              "      <td>2020</td>\n",
              "      <td>4.0</td>\n",
              "      <td>17.0</td>\n",
              "      <td>17.0</td>\n",
              "    </tr>\n",
              "  </tbody>\n",
              "</table>\n",
              "</div>\n",
              "      <button class=\"colab-df-convert\" onclick=\"convertToInteractive('df-42c89c10-040f-4cff-bbed-b9a3a52b4627')\"\n",
              "              title=\"Convert this dataframe to an interactive table.\"\n",
              "              style=\"display:none;\">\n",
              "        \n",
              "  <svg xmlns=\"http://www.w3.org/2000/svg\" height=\"24px\"viewBox=\"0 0 24 24\"\n",
              "       width=\"24px\">\n",
              "    <path d=\"M0 0h24v24H0V0z\" fill=\"none\"/>\n",
              "    <path d=\"M18.56 5.44l.94 2.06.94-2.06 2.06-.94-2.06-.94-.94-2.06-.94 2.06-2.06.94zm-11 1L8.5 8.5l.94-2.06 2.06-.94-2.06-.94L8.5 2.5l-.94 2.06-2.06.94zm10 10l.94 2.06.94-2.06 2.06-.94-2.06-.94-.94-2.06-.94 2.06-2.06.94z\"/><path d=\"M17.41 7.96l-1.37-1.37c-.4-.4-.92-.59-1.43-.59-.52 0-1.04.2-1.43.59L10.3 9.45l-7.72 7.72c-.78.78-.78 2.05 0 2.83L4 21.41c.39.39.9.59 1.41.59.51 0 1.02-.2 1.41-.59l7.78-7.78 2.81-2.81c.8-.78.8-2.07 0-2.86zM5.41 20L4 18.59l7.72-7.72 1.47 1.35L5.41 20z\"/>\n",
              "  </svg>\n",
              "      </button>\n",
              "      \n",
              "  <style>\n",
              "    .colab-df-container {\n",
              "      display:flex;\n",
              "      flex-wrap:wrap;\n",
              "      gap: 12px;\n",
              "    }\n",
              "\n",
              "    .colab-df-convert {\n",
              "      background-color: #E8F0FE;\n",
              "      border: none;\n",
              "      border-radius: 50%;\n",
              "      cursor: pointer;\n",
              "      display: none;\n",
              "      fill: #1967D2;\n",
              "      height: 32px;\n",
              "      padding: 0 0 0 0;\n",
              "      width: 32px;\n",
              "    }\n",
              "\n",
              "    .colab-df-convert:hover {\n",
              "      background-color: #E2EBFA;\n",
              "      box-shadow: 0px 1px 2px rgba(60, 64, 67, 0.3), 0px 1px 3px 1px rgba(60, 64, 67, 0.15);\n",
              "      fill: #174EA6;\n",
              "    }\n",
              "\n",
              "    [theme=dark] .colab-df-convert {\n",
              "      background-color: #3B4455;\n",
              "      fill: #D2E3FC;\n",
              "    }\n",
              "\n",
              "    [theme=dark] .colab-df-convert:hover {\n",
              "      background-color: #434B5C;\n",
              "      box-shadow: 0px 1px 3px 1px rgba(0, 0, 0, 0.15);\n",
              "      filter: drop-shadow(0px 1px 2px rgba(0, 0, 0, 0.3));\n",
              "      fill: #FFFFFF;\n",
              "    }\n",
              "  </style>\n",
              "\n",
              "      <script>\n",
              "        const buttonEl =\n",
              "          document.querySelector('#df-42c89c10-040f-4cff-bbed-b9a3a52b4627 button.colab-df-convert');\n",
              "        buttonEl.style.display =\n",
              "          google.colab.kernel.accessAllowed ? 'block' : 'none';\n",
              "\n",
              "        async function convertToInteractive(key) {\n",
              "          const element = document.querySelector('#df-42c89c10-040f-4cff-bbed-b9a3a52b4627');\n",
              "          const dataTable =\n",
              "            await google.colab.kernel.invokeFunction('convertToInteractive',\n",
              "                                                     [key], {});\n",
              "          if (!dataTable) return;\n",
              "\n",
              "          const docLinkHtml = 'Like what you see? Visit the ' +\n",
              "            '<a target=\"_blank\" href=https://colab.research.google.com/notebooks/data_table.ipynb>data table notebook</a>'\n",
              "            + ' to learn more about interactive tables.';\n",
              "          element.innerHTML = '';\n",
              "          dataTable['output_type'] = 'display_data';\n",
              "          await google.colab.output.renderOutput(dataTable, element);\n",
              "          const docLink = document.createElement('div');\n",
              "          docLink.innerHTML = docLinkHtml;\n",
              "          element.appendChild(docLink);\n",
              "        }\n",
              "      </script>\n",
              "    </div>\n",
              "  </div>\n",
              "  "
            ]
          },
          "metadata": {},
          "execution_count": 22
        }
      ]
    },
    {
      "cell_type": "code",
      "source": [
        "\n",
        "\n",
        "test1.sort_values(\"h-index\")"
      ],
      "metadata": {
        "colab": {
          "base_uri": "https://localhost:8080/",
          "height": 1000
        },
        "id": "9T6aj7fe4bHv",
        "outputId": "edf3c962-67eb-4628-af34-497dc3956224"
      },
      "execution_count": null,
      "outputs": [
        {
          "output_type": "execute_result",
          "data": {
            "text/plain": [
              "     Article No.                                              Title  Year  \\\n",
              "0              1  Study of Virtual Reality Immersive Technology ...  2022   \n",
              "232           48  Development of a Virtual Ecological Environmen...  2021   \n",
              "233           48  Development of a Virtual Ecological Environmen...  2021   \n",
              "228           47  Mobile Augmented Reality Assisted Chemical Edu...  2018   \n",
              "227           47  Mobile Augmented Reality Assisted Chemical Edu...  2018   \n",
              "..           ...                                                ...   ...   \n",
              "147           31  An immersive virtual reality serious game to e...  2020   \n",
              "140           30  Semi-Immersive Virtual Reality as a Tool to Im...  2020   \n",
              "130           28  Improved Complex Skill Acquisition by Immersiv...  2020   \n",
              "102           21  Applying an immersive tutorial in virtual real...  2020   \n",
              "117           24  Learning with simulated virtual classmates: Ef...  2022   \n",
              "\n",
              "     Author Number                                          Key Words  \\\n",
              "0              3.0  virtual reality technologies, mathematics lear...   \n",
              "232            3.0  environmental education; Taipei tree frog; vir...   \n",
              "233            3.0  environmental education; Taipei tree frog; vir...   \n",
              "228            3.0  Elementary/Middle School Science Public Unders...   \n",
              "227            3.0  Elementary/Middle School Science Public Unders...   \n",
              "..             ...                                                ...   \n",
              "147            8.0                                                  0   \n",
              "140            6.0  semi-immersive virtual reality; children; coop...   \n",
              "130            4.0                                                  0   \n",
              "102            6.0  Virtual reality, Surgical training, Neurosurge...   \n",
              "117            0.0  Immersive virtual reality Classroom simulation...   \n",
              "\n",
              "     Citation                                             Source  \\\n",
              "0         7.0                            FRONTIERS IN PSYCHOLOGY   \n",
              "232       9.0                                     SUSTAINABILITY   \n",
              "233       9.0                                     SUSTAINABILITY   \n",
              "228      76.0                      JOURNAL OF CHEMICAL EDUCATION   \n",
              "227      76.0                      JOURNAL OF CHEMICAL EDUCATION   \n",
              "..        ...                                                ...   \n",
              "147      55.0                   ADVANCED ENGINEERING INFORMATICS   \n",
              "140      20.0                             APPLIED SCIENCES-BASEL   \n",
              "130      52.0  JOURNAL OF BONE AND JOINT SURGERY-AMERICAN VOLUME   \n",
              "102      13.0                                     NEUROCHIRURGIE   \n",
              "117       3.0                        COMPUTERS IN HUMAN BEHAVIOR   \n",
              "\n",
              "                                              Abstract     Type  \\\n",
              "0    Mathematics is an important foundation for the...  Journal   \n",
              "232  The learning objectives of environmental educa...  Journal   \n",
              "233  The learning objectives of environmental educa...  Journal   \n",
              "228  This technology report aimed to explore preser...  Journal   \n",
              "227  This technology report aimed to explore preser...  Journal   \n",
              "..                                                 ...      ...   \n",
              "147  Enhancing the earthquake behavioral responses ...  Journal   \n",
              "140  Featured Application The system and the activi...  Journal   \n",
              "130  Background: There has been limited literature ...  Journal   \n",
              "102  Objective. - The medical world is continuously...  Journal   \n",
              "117  Immersive virtual reality (IVR) provides great...  Journal   \n",
              "\n",
              "             Author Name                Author Affiliation      Country  \\\n",
              "0            Yu-Sheng Su  National Taiwan Ocean University       Taiwan   \n",
              "232     Beáta Furmannová              University of Žilina     Slovakia   \n",
              "233      Ľuboslav Dulina              University of Žilina     Slovakia   \n",
              "228       Wernhuar Tarng     National Tsing Hua University       Taiwan   \n",
              "227          Yao-Hui Liu     National Tsing Hua University       Taiwan   \n",
              "..                   ...                               ...          ...   \n",
              "147  Vicente A. González            University of Auckland  New Zealand   \n",
              "140  Maria Luisa Lorusso      Scientific Institute IRCCS E        Italy   \n",
              "130     George S. Athwal                Western University       Canada   \n",
              "102     Nicolas Molinari    LIRDEF, Montpellier university       France   \n",
              "117     Ulrich Trautwein            University of Tübingen      Germany   \n",
              "\n",
              "     h-index  \n",
              "0        0.0  \n",
              "232      0.0  \n",
              "233      0.0  \n",
              "228      0.0  \n",
              "227      0.0  \n",
              "..       ...  \n",
              "147     33.0  \n",
              "140     33.0  \n",
              "130     59.0  \n",
              "102     63.0  \n",
              "117     95.0  \n",
              "\n",
              "[388 rows x 13 columns]"
            ],
            "text/html": [
              "\n",
              "  <div id=\"df-76755c3c-dc14-42fe-a056-98137cdf72e1\">\n",
              "    <div class=\"colab-df-container\">\n",
              "      <div>\n",
              "<style scoped>\n",
              "    .dataframe tbody tr th:only-of-type {\n",
              "        vertical-align: middle;\n",
              "    }\n",
              "\n",
              "    .dataframe tbody tr th {\n",
              "        vertical-align: top;\n",
              "    }\n",
              "\n",
              "    .dataframe thead th {\n",
              "        text-align: right;\n",
              "    }\n",
              "</style>\n",
              "<table border=\"1\" class=\"dataframe\">\n",
              "  <thead>\n",
              "    <tr style=\"text-align: right;\">\n",
              "      <th></th>\n",
              "      <th>Article No.</th>\n",
              "      <th>Title</th>\n",
              "      <th>Year</th>\n",
              "      <th>Author Number</th>\n",
              "      <th>Key Words</th>\n",
              "      <th>Citation</th>\n",
              "      <th>Source</th>\n",
              "      <th>Abstract</th>\n",
              "      <th>Type</th>\n",
              "      <th>Author Name</th>\n",
              "      <th>Author Affiliation</th>\n",
              "      <th>Country</th>\n",
              "      <th>h-index</th>\n",
              "    </tr>\n",
              "  </thead>\n",
              "  <tbody>\n",
              "    <tr>\n",
              "      <th>0</th>\n",
              "      <td>1</td>\n",
              "      <td>Study of Virtual Reality Immersive Technology ...</td>\n",
              "      <td>2022</td>\n",
              "      <td>3.0</td>\n",
              "      <td>virtual reality technologies, mathematics lear...</td>\n",
              "      <td>7.0</td>\n",
              "      <td>FRONTIERS IN PSYCHOLOGY</td>\n",
              "      <td>Mathematics is an important foundation for the...</td>\n",
              "      <td>Journal</td>\n",
              "      <td>Yu-Sheng Su</td>\n",
              "      <td>National Taiwan Ocean University</td>\n",
              "      <td>Taiwan</td>\n",
              "      <td>0.0</td>\n",
              "    </tr>\n",
              "    <tr>\n",
              "      <th>232</th>\n",
              "      <td>48</td>\n",
              "      <td>Development of a Virtual Ecological Environmen...</td>\n",
              "      <td>2021</td>\n",
              "      <td>3.0</td>\n",
              "      <td>environmental education; Taipei tree frog; vir...</td>\n",
              "      <td>9.0</td>\n",
              "      <td>SUSTAINABILITY</td>\n",
              "      <td>The learning objectives of environmental educa...</td>\n",
              "      <td>Journal</td>\n",
              "      <td>Beáta Furmannová</td>\n",
              "      <td>University of Žilina</td>\n",
              "      <td>Slovakia</td>\n",
              "      <td>0.0</td>\n",
              "    </tr>\n",
              "    <tr>\n",
              "      <th>233</th>\n",
              "      <td>48</td>\n",
              "      <td>Development of a Virtual Ecological Environmen...</td>\n",
              "      <td>2021</td>\n",
              "      <td>3.0</td>\n",
              "      <td>environmental education; Taipei tree frog; vir...</td>\n",
              "      <td>9.0</td>\n",
              "      <td>SUSTAINABILITY</td>\n",
              "      <td>The learning objectives of environmental educa...</td>\n",
              "      <td>Journal</td>\n",
              "      <td>Ľuboslav Dulina</td>\n",
              "      <td>University of Žilina</td>\n",
              "      <td>Slovakia</td>\n",
              "      <td>0.0</td>\n",
              "    </tr>\n",
              "    <tr>\n",
              "      <th>228</th>\n",
              "      <td>47</td>\n",
              "      <td>Mobile Augmented Reality Assisted Chemical Edu...</td>\n",
              "      <td>2018</td>\n",
              "      <td>3.0</td>\n",
              "      <td>Elementary/Middle School Science Public Unders...</td>\n",
              "      <td>76.0</td>\n",
              "      <td>JOURNAL OF CHEMICAL EDUCATION</td>\n",
              "      <td>This technology report aimed to explore preser...</td>\n",
              "      <td>Journal</td>\n",
              "      <td>Wernhuar Tarng</td>\n",
              "      <td>National Tsing Hua University</td>\n",
              "      <td>Taiwan</td>\n",
              "      <td>0.0</td>\n",
              "    </tr>\n",
              "    <tr>\n",
              "      <th>227</th>\n",
              "      <td>47</td>\n",
              "      <td>Mobile Augmented Reality Assisted Chemical Edu...</td>\n",
              "      <td>2018</td>\n",
              "      <td>3.0</td>\n",
              "      <td>Elementary/Middle School Science Public Unders...</td>\n",
              "      <td>76.0</td>\n",
              "      <td>JOURNAL OF CHEMICAL EDUCATION</td>\n",
              "      <td>This technology report aimed to explore preser...</td>\n",
              "      <td>Journal</td>\n",
              "      <td>Yao-Hui Liu</td>\n",
              "      <td>National Tsing Hua University</td>\n",
              "      <td>Taiwan</td>\n",
              "      <td>0.0</td>\n",
              "    </tr>\n",
              "    <tr>\n",
              "      <th>...</th>\n",
              "      <td>...</td>\n",
              "      <td>...</td>\n",
              "      <td>...</td>\n",
              "      <td>...</td>\n",
              "      <td>...</td>\n",
              "      <td>...</td>\n",
              "      <td>...</td>\n",
              "      <td>...</td>\n",
              "      <td>...</td>\n",
              "      <td>...</td>\n",
              "      <td>...</td>\n",
              "      <td>...</td>\n",
              "      <td>...</td>\n",
              "    </tr>\n",
              "    <tr>\n",
              "      <th>147</th>\n",
              "      <td>31</td>\n",
              "      <td>An immersive virtual reality serious game to e...</td>\n",
              "      <td>2020</td>\n",
              "      <td>8.0</td>\n",
              "      <td>0</td>\n",
              "      <td>55.0</td>\n",
              "      <td>ADVANCED ENGINEERING INFORMATICS</td>\n",
              "      <td>Enhancing the earthquake behavioral responses ...</td>\n",
              "      <td>Journal</td>\n",
              "      <td>Vicente A. González</td>\n",
              "      <td>University of Auckland</td>\n",
              "      <td>New Zealand</td>\n",
              "      <td>33.0</td>\n",
              "    </tr>\n",
              "    <tr>\n",
              "      <th>140</th>\n",
              "      <td>30</td>\n",
              "      <td>Semi-Immersive Virtual Reality as a Tool to Im...</td>\n",
              "      <td>2020</td>\n",
              "      <td>6.0</td>\n",
              "      <td>semi-immersive virtual reality; children; coop...</td>\n",
              "      <td>20.0</td>\n",
              "      <td>APPLIED SCIENCES-BASEL</td>\n",
              "      <td>Featured Application The system and the activi...</td>\n",
              "      <td>Journal</td>\n",
              "      <td>Maria Luisa Lorusso</td>\n",
              "      <td>Scientific Institute IRCCS E</td>\n",
              "      <td>Italy</td>\n",
              "      <td>33.0</td>\n",
              "    </tr>\n",
              "    <tr>\n",
              "      <th>130</th>\n",
              "      <td>28</td>\n",
              "      <td>Improved Complex Skill Acquisition by Immersiv...</td>\n",
              "      <td>2020</td>\n",
              "      <td>4.0</td>\n",
              "      <td>0</td>\n",
              "      <td>52.0</td>\n",
              "      <td>JOURNAL OF BONE AND JOINT SURGERY-AMERICAN VOLUME</td>\n",
              "      <td>Background: There has been limited literature ...</td>\n",
              "      <td>Journal</td>\n",
              "      <td>George S. Athwal</td>\n",
              "      <td>Western University</td>\n",
              "      <td>Canada</td>\n",
              "      <td>59.0</td>\n",
              "    </tr>\n",
              "    <tr>\n",
              "      <th>102</th>\n",
              "      <td>21</td>\n",
              "      <td>Applying an immersive tutorial in virtual real...</td>\n",
              "      <td>2020</td>\n",
              "      <td>6.0</td>\n",
              "      <td>Virtual reality, Surgical training, Neurosurge...</td>\n",
              "      <td>13.0</td>\n",
              "      <td>NEUROCHIRURGIE</td>\n",
              "      <td>Objective. - The medical world is continuously...</td>\n",
              "      <td>Journal</td>\n",
              "      <td>Nicolas Molinari</td>\n",
              "      <td>LIRDEF, Montpellier university</td>\n",
              "      <td>France</td>\n",
              "      <td>63.0</td>\n",
              "    </tr>\n",
              "    <tr>\n",
              "      <th>117</th>\n",
              "      <td>24</td>\n",
              "      <td>Learning with simulated virtual classmates: Ef...</td>\n",
              "      <td>2022</td>\n",
              "      <td>0.0</td>\n",
              "      <td>Immersive virtual reality Classroom simulation...</td>\n",
              "      <td>3.0</td>\n",
              "      <td>COMPUTERS IN HUMAN BEHAVIOR</td>\n",
              "      <td>Immersive virtual reality (IVR) provides great...</td>\n",
              "      <td>Journal</td>\n",
              "      <td>Ulrich Trautwein</td>\n",
              "      <td>University of Tübingen</td>\n",
              "      <td>Germany</td>\n",
              "      <td>95.0</td>\n",
              "    </tr>\n",
              "  </tbody>\n",
              "</table>\n",
              "<p>388 rows × 13 columns</p>\n",
              "</div>\n",
              "      <button class=\"colab-df-convert\" onclick=\"convertToInteractive('df-76755c3c-dc14-42fe-a056-98137cdf72e1')\"\n",
              "              title=\"Convert this dataframe to an interactive table.\"\n",
              "              style=\"display:none;\">\n",
              "        \n",
              "  <svg xmlns=\"http://www.w3.org/2000/svg\" height=\"24px\"viewBox=\"0 0 24 24\"\n",
              "       width=\"24px\">\n",
              "    <path d=\"M0 0h24v24H0V0z\" fill=\"none\"/>\n",
              "    <path d=\"M18.56 5.44l.94 2.06.94-2.06 2.06-.94-2.06-.94-.94-2.06-.94 2.06-2.06.94zm-11 1L8.5 8.5l.94-2.06 2.06-.94-2.06-.94L8.5 2.5l-.94 2.06-2.06.94zm10 10l.94 2.06.94-2.06 2.06-.94-2.06-.94-.94-2.06-.94 2.06-2.06.94z\"/><path d=\"M17.41 7.96l-1.37-1.37c-.4-.4-.92-.59-1.43-.59-.52 0-1.04.2-1.43.59L10.3 9.45l-7.72 7.72c-.78.78-.78 2.05 0 2.83L4 21.41c.39.39.9.59 1.41.59.51 0 1.02-.2 1.41-.59l7.78-7.78 2.81-2.81c.8-.78.8-2.07 0-2.86zM5.41 20L4 18.59l7.72-7.72 1.47 1.35L5.41 20z\"/>\n",
              "  </svg>\n",
              "      </button>\n",
              "      \n",
              "  <style>\n",
              "    .colab-df-container {\n",
              "      display:flex;\n",
              "      flex-wrap:wrap;\n",
              "      gap: 12px;\n",
              "    }\n",
              "\n",
              "    .colab-df-convert {\n",
              "      background-color: #E8F0FE;\n",
              "      border: none;\n",
              "      border-radius: 50%;\n",
              "      cursor: pointer;\n",
              "      display: none;\n",
              "      fill: #1967D2;\n",
              "      height: 32px;\n",
              "      padding: 0 0 0 0;\n",
              "      width: 32px;\n",
              "    }\n",
              "\n",
              "    .colab-df-convert:hover {\n",
              "      background-color: #E2EBFA;\n",
              "      box-shadow: 0px 1px 2px rgba(60, 64, 67, 0.3), 0px 1px 3px 1px rgba(60, 64, 67, 0.15);\n",
              "      fill: #174EA6;\n",
              "    }\n",
              "\n",
              "    [theme=dark] .colab-df-convert {\n",
              "      background-color: #3B4455;\n",
              "      fill: #D2E3FC;\n",
              "    }\n",
              "\n",
              "    [theme=dark] .colab-df-convert:hover {\n",
              "      background-color: #434B5C;\n",
              "      box-shadow: 0px 1px 3px 1px rgba(0, 0, 0, 0.15);\n",
              "      filter: drop-shadow(0px 1px 2px rgba(0, 0, 0, 0.3));\n",
              "      fill: #FFFFFF;\n",
              "    }\n",
              "  </style>\n",
              "\n",
              "      <script>\n",
              "        const buttonEl =\n",
              "          document.querySelector('#df-76755c3c-dc14-42fe-a056-98137cdf72e1 button.colab-df-convert');\n",
              "        buttonEl.style.display =\n",
              "          google.colab.kernel.accessAllowed ? 'block' : 'none';\n",
              "\n",
              "        async function convertToInteractive(key) {\n",
              "          const element = document.querySelector('#df-76755c3c-dc14-42fe-a056-98137cdf72e1');\n",
              "          const dataTable =\n",
              "            await google.colab.kernel.invokeFunction('convertToInteractive',\n",
              "                                                     [key], {});\n",
              "          if (!dataTable) return;\n",
              "\n",
              "          const docLinkHtml = 'Like what you see? Visit the ' +\n",
              "            '<a target=\"_blank\" href=https://colab.research.google.com/notebooks/data_table.ipynb>data table notebook</a>'\n",
              "            + ' to learn more about interactive tables.';\n",
              "          element.innerHTML = '';\n",
              "          dataTable['output_type'] = 'display_data';\n",
              "          await google.colab.output.renderOutput(dataTable, element);\n",
              "          const docLink = document.createElement('div');\n",
              "          docLink.innerHTML = docLinkHtml;\n",
              "          element.appendChild(docLink);\n",
              "        }\n",
              "      </script>\n",
              "    </div>\n",
              "  </div>\n",
              "  "
            ]
          },
          "metadata": {},
          "execution_count": 23
        }
      ]
    },
    {
      "cell_type": "code",
      "source": [
        "# Top 5 researches with the most h-index:\n",
        "grouped = merged.sort_values('h-index', ascending = False)\n",
        "grouped.head()"
      ],
      "metadata": {
        "id": "oI365Ws-48mn",
        "colab": {
          "base_uri": "https://localhost:8080/",
          "height": 632
        },
        "outputId": "d9539525-31f4-4b78-b22a-1c7db8592b55"
      },
      "execution_count": 21,
      "outputs": [
        {
          "output_type": "execute_result",
          "data": {
            "text/plain": [
              "    Article No.                                              Title  Year  \\\n",
              "40           41  Mutual Benefits: Interdisciplinary Education o...  2021   \n",
              "24           25  A structural equation modeling investigation o...  2018   \n",
              "12           13  The use of immersive 360 degrees videos for fo...  2021   \n",
              "57           58  Assessing the difference in learning gain betw...  2022   \n",
              "56           57  Exploring Kid Space in the wild: a preliminary...  2022   \n",
              "\n",
              "    Author Number                                          Key Words  \\\n",
              "40            4.0  interdisciplinary education, virtual reality, ...   \n",
              "24            2.0  Virtual reality · Emotions · Simulations · Pre...   \n",
              "12            6.0   Immersive 360° videos, second language learni...   \n",
              "57            6.0  anatomy teaching, computer-aided instruction, ...   \n",
              "56           12.0                                                NaN   \n",
              "\n",
              "    Citation                                             Source  \\\n",
              "40       6.0                             FRONTIERS IN EDUCATION   \n",
              "24     310.0  ETR&D-EDUCATIONAL TECHNOLOGY RESEARCH AND DEVE...   \n",
              "12      13.0                  INTERACTIVE LEARNING ENVIRONMENTS   \n",
              "57       8.0                      ANATOMICAL SCIENCES EDUCATION   \n",
              "56       4.0  ETR&D-EDUCATIONAL TECHNOLOGY RESEARCH AND DEVE...   \n",
              "\n",
              "                                             Abstract     Type  \\\n",
              "40  The successful development and classroom integ...  Journal   \n",
              "24  Virtual reality (VR) is projected to play an i...  Journal   \n",
              "12  The large-scale diffusion of tablets and smart...  Journal   \n",
              "57  Augmented, mixed, and virtual reality applicat...  Journal   \n",
              "56  Parents recognize the potential benefits of te...  Journal   \n",
              "\n",
              "             Author Name                         Author Affiliation  \\\n",
              "40  Marc Erich Latoschik                     University of Würzburg   \n",
              "24       Guido Makransky                   University of Copenhagen   \n",
              "12       Claudia repetto       Università Cattolica del Sacro Cuore   \n",
              "57          Emilia Biffi  Scientific Institute, IRCCS Eugenio Medea   \n",
              "56    James D. Pickering                       University of Leeds    \n",
              "\n",
              "           Country  h-index  \n",
              "40         Germany     31.0  \n",
              "24         Denamrk     31.0  \n",
              "12           Italy     24.0  \n",
              "57           Italy     19.0  \n",
              "56  United Kingdom     18.0  "
            ],
            "text/html": [
              "\n",
              "  <div id=\"df-7951bf18-dcb7-46ae-a94c-235e5b42bc0f\">\n",
              "    <div class=\"colab-df-container\">\n",
              "      <div>\n",
              "<style scoped>\n",
              "    .dataframe tbody tr th:only-of-type {\n",
              "        vertical-align: middle;\n",
              "    }\n",
              "\n",
              "    .dataframe tbody tr th {\n",
              "        vertical-align: top;\n",
              "    }\n",
              "\n",
              "    .dataframe thead th {\n",
              "        text-align: right;\n",
              "    }\n",
              "</style>\n",
              "<table border=\"1\" class=\"dataframe\">\n",
              "  <thead>\n",
              "    <tr style=\"text-align: right;\">\n",
              "      <th></th>\n",
              "      <th>Article No.</th>\n",
              "      <th>Title</th>\n",
              "      <th>Year</th>\n",
              "      <th>Author Number</th>\n",
              "      <th>Key Words</th>\n",
              "      <th>Citation</th>\n",
              "      <th>Source</th>\n",
              "      <th>Abstract</th>\n",
              "      <th>Type</th>\n",
              "      <th>Author Name</th>\n",
              "      <th>Author Affiliation</th>\n",
              "      <th>Country</th>\n",
              "      <th>h-index</th>\n",
              "    </tr>\n",
              "  </thead>\n",
              "  <tbody>\n",
              "    <tr>\n",
              "      <th>40</th>\n",
              "      <td>41</td>\n",
              "      <td>Mutual Benefits: Interdisciplinary Education o...</td>\n",
              "      <td>2021</td>\n",
              "      <td>4.0</td>\n",
              "      <td>interdisciplinary education, virtual reality, ...</td>\n",
              "      <td>6.0</td>\n",
              "      <td>FRONTIERS IN EDUCATION</td>\n",
              "      <td>The successful development and classroom integ...</td>\n",
              "      <td>Journal</td>\n",
              "      <td>Marc Erich Latoschik</td>\n",
              "      <td>University of Würzburg</td>\n",
              "      <td>Germany</td>\n",
              "      <td>31.0</td>\n",
              "    </tr>\n",
              "    <tr>\n",
              "      <th>24</th>\n",
              "      <td>25</td>\n",
              "      <td>A structural equation modeling investigation o...</td>\n",
              "      <td>2018</td>\n",
              "      <td>2.0</td>\n",
              "      <td>Virtual reality · Emotions · Simulations · Pre...</td>\n",
              "      <td>310.0</td>\n",
              "      <td>ETR&amp;D-EDUCATIONAL TECHNOLOGY RESEARCH AND DEVE...</td>\n",
              "      <td>Virtual reality (VR) is projected to play an i...</td>\n",
              "      <td>Journal</td>\n",
              "      <td>Guido Makransky</td>\n",
              "      <td>University of Copenhagen</td>\n",
              "      <td>Denamrk</td>\n",
              "      <td>31.0</td>\n",
              "    </tr>\n",
              "    <tr>\n",
              "      <th>12</th>\n",
              "      <td>13</td>\n",
              "      <td>The use of immersive 360 degrees videos for fo...</td>\n",
              "      <td>2021</td>\n",
              "      <td>6.0</td>\n",
              "      <td>Immersive 360° videos, second language learni...</td>\n",
              "      <td>13.0</td>\n",
              "      <td>INTERACTIVE LEARNING ENVIRONMENTS</td>\n",
              "      <td>The large-scale diffusion of tablets and smart...</td>\n",
              "      <td>Journal</td>\n",
              "      <td>Claudia repetto</td>\n",
              "      <td>Università Cattolica del Sacro Cuore</td>\n",
              "      <td>Italy</td>\n",
              "      <td>24.0</td>\n",
              "    </tr>\n",
              "    <tr>\n",
              "      <th>57</th>\n",
              "      <td>58</td>\n",
              "      <td>Assessing the difference in learning gain betw...</td>\n",
              "      <td>2022</td>\n",
              "      <td>6.0</td>\n",
              "      <td>anatomy teaching, computer-aided instruction, ...</td>\n",
              "      <td>8.0</td>\n",
              "      <td>ANATOMICAL SCIENCES EDUCATION</td>\n",
              "      <td>Augmented, mixed, and virtual reality applicat...</td>\n",
              "      <td>Journal</td>\n",
              "      <td>Emilia Biffi</td>\n",
              "      <td>Scientific Institute, IRCCS Eugenio Medea</td>\n",
              "      <td>Italy</td>\n",
              "      <td>19.0</td>\n",
              "    </tr>\n",
              "    <tr>\n",
              "      <th>56</th>\n",
              "      <td>57</td>\n",
              "      <td>Exploring Kid Space in the wild: a preliminary...</td>\n",
              "      <td>2022</td>\n",
              "      <td>12.0</td>\n",
              "      <td>NaN</td>\n",
              "      <td>4.0</td>\n",
              "      <td>ETR&amp;D-EDUCATIONAL TECHNOLOGY RESEARCH AND DEVE...</td>\n",
              "      <td>Parents recognize the potential benefits of te...</td>\n",
              "      <td>Journal</td>\n",
              "      <td>James D. Pickering</td>\n",
              "      <td>University of Leeds</td>\n",
              "      <td>United Kingdom</td>\n",
              "      <td>18.0</td>\n",
              "    </tr>\n",
              "  </tbody>\n",
              "</table>\n",
              "</div>\n",
              "      <button class=\"colab-df-convert\" onclick=\"convertToInteractive('df-7951bf18-dcb7-46ae-a94c-235e5b42bc0f')\"\n",
              "              title=\"Convert this dataframe to an interactive table.\"\n",
              "              style=\"display:none;\">\n",
              "        \n",
              "  <svg xmlns=\"http://www.w3.org/2000/svg\" height=\"24px\"viewBox=\"0 0 24 24\"\n",
              "       width=\"24px\">\n",
              "    <path d=\"M0 0h24v24H0V0z\" fill=\"none\"/>\n",
              "    <path d=\"M18.56 5.44l.94 2.06.94-2.06 2.06-.94-2.06-.94-.94-2.06-.94 2.06-2.06.94zm-11 1L8.5 8.5l.94-2.06 2.06-.94-2.06-.94L8.5 2.5l-.94 2.06-2.06.94zm10 10l.94 2.06.94-2.06 2.06-.94-2.06-.94-.94-2.06-.94 2.06-2.06.94z\"/><path d=\"M17.41 7.96l-1.37-1.37c-.4-.4-.92-.59-1.43-.59-.52 0-1.04.2-1.43.59L10.3 9.45l-7.72 7.72c-.78.78-.78 2.05 0 2.83L4 21.41c.39.39.9.59 1.41.59.51 0 1.02-.2 1.41-.59l7.78-7.78 2.81-2.81c.8-.78.8-2.07 0-2.86zM5.41 20L4 18.59l7.72-7.72 1.47 1.35L5.41 20z\"/>\n",
              "  </svg>\n",
              "      </button>\n",
              "      \n",
              "  <style>\n",
              "    .colab-df-container {\n",
              "      display:flex;\n",
              "      flex-wrap:wrap;\n",
              "      gap: 12px;\n",
              "    }\n",
              "\n",
              "    .colab-df-convert {\n",
              "      background-color: #E8F0FE;\n",
              "      border: none;\n",
              "      border-radius: 50%;\n",
              "      cursor: pointer;\n",
              "      display: none;\n",
              "      fill: #1967D2;\n",
              "      height: 32px;\n",
              "      padding: 0 0 0 0;\n",
              "      width: 32px;\n",
              "    }\n",
              "\n",
              "    .colab-df-convert:hover {\n",
              "      background-color: #E2EBFA;\n",
              "      box-shadow: 0px 1px 2px rgba(60, 64, 67, 0.3), 0px 1px 3px 1px rgba(60, 64, 67, 0.15);\n",
              "      fill: #174EA6;\n",
              "    }\n",
              "\n",
              "    [theme=dark] .colab-df-convert {\n",
              "      background-color: #3B4455;\n",
              "      fill: #D2E3FC;\n",
              "    }\n",
              "\n",
              "    [theme=dark] .colab-df-convert:hover {\n",
              "      background-color: #434B5C;\n",
              "      box-shadow: 0px 1px 3px 1px rgba(0, 0, 0, 0.15);\n",
              "      filter: drop-shadow(0px 1px 2px rgba(0, 0, 0, 0.3));\n",
              "      fill: #FFFFFF;\n",
              "    }\n",
              "  </style>\n",
              "\n",
              "      <script>\n",
              "        const buttonEl =\n",
              "          document.querySelector('#df-7951bf18-dcb7-46ae-a94c-235e5b42bc0f button.colab-df-convert');\n",
              "        buttonEl.style.display =\n",
              "          google.colab.kernel.accessAllowed ? 'block' : 'none';\n",
              "\n",
              "        async function convertToInteractive(key) {\n",
              "          const element = document.querySelector('#df-7951bf18-dcb7-46ae-a94c-235e5b42bc0f');\n",
              "          const dataTable =\n",
              "            await google.colab.kernel.invokeFunction('convertToInteractive',\n",
              "                                                     [key], {});\n",
              "          if (!dataTable) return;\n",
              "\n",
              "          const docLinkHtml = 'Like what you see? Visit the ' +\n",
              "            '<a target=\"_blank\" href=https://colab.research.google.com/notebooks/data_table.ipynb>data table notebook</a>'\n",
              "            + ' to learn more about interactive tables.';\n",
              "          element.innerHTML = '';\n",
              "          dataTable['output_type'] = 'display_data';\n",
              "          await google.colab.output.renderOutput(dataTable, element);\n",
              "          const docLink = document.createElement('div');\n",
              "          docLink.innerHTML = docLinkHtml;\n",
              "          element.appendChild(docLink);\n",
              "        }\n",
              "      </script>\n",
              "    </div>\n",
              "  </div>\n",
              "  "
            ]
          },
          "metadata": {},
          "execution_count": 21
        }
      ]
    },
    {
      "cell_type": "markdown",
      "source": [
        "### 2. Regression."
      ],
      "metadata": {
        "id": "yvuA5y_tCLTD"
      }
    },
    {
      "cell_type": "code",
      "source": [
        "datadf = pd.read_csv(\"./sample_data/data.csv\")"
      ],
      "metadata": {
        "id": "_Fif9WMrCjgG"
      },
      "execution_count": 2,
      "outputs": []
    },
    {
      "cell_type": "code",
      "source": [
        "datadf.head()"
      ],
      "metadata": {
        "colab": {
          "base_uri": "https://localhost:8080/",
          "height": 206
        },
        "id": "JuK3R4EVFjNX",
        "outputId": "87e95975-3ade-4679-ea5f-eb237fb8795b"
      },
      "execution_count": 9,
      "outputs": [
        {
          "output_type": "execute_result",
          "data": {
            "text/plain": [
              "   Purchase  SUS  Duration  Gender  ASR_Error  Intent_Error  Unnamed: 6\n",
              "0         1   84       254       0          3             2         NaN\n",
              "1         0   58       247       0          6             9         NaN\n",
              "2         0   56       125       1          6             8         NaN\n",
              "3         0   55        22       0         11             7         NaN\n",
              "4         1   95       262       0          2             3         NaN"
            ],
            "text/html": [
              "\n",
              "  <div id=\"df-d94c477e-1fce-4a06-9533-5df65782211e\">\n",
              "    <div class=\"colab-df-container\">\n",
              "      <div>\n",
              "<style scoped>\n",
              "    .dataframe tbody tr th:only-of-type {\n",
              "        vertical-align: middle;\n",
              "    }\n",
              "\n",
              "    .dataframe tbody tr th {\n",
              "        vertical-align: top;\n",
              "    }\n",
              "\n",
              "    .dataframe thead th {\n",
              "        text-align: right;\n",
              "    }\n",
              "</style>\n",
              "<table border=\"1\" class=\"dataframe\">\n",
              "  <thead>\n",
              "    <tr style=\"text-align: right;\">\n",
              "      <th></th>\n",
              "      <th>Purchase</th>\n",
              "      <th>SUS</th>\n",
              "      <th>Duration</th>\n",
              "      <th>Gender</th>\n",
              "      <th>ASR_Error</th>\n",
              "      <th>Intent_Error</th>\n",
              "      <th>Unnamed: 6</th>\n",
              "    </tr>\n",
              "  </thead>\n",
              "  <tbody>\n",
              "    <tr>\n",
              "      <th>0</th>\n",
              "      <td>1</td>\n",
              "      <td>84</td>\n",
              "      <td>254</td>\n",
              "      <td>0</td>\n",
              "      <td>3</td>\n",
              "      <td>2</td>\n",
              "      <td>NaN</td>\n",
              "    </tr>\n",
              "    <tr>\n",
              "      <th>1</th>\n",
              "      <td>0</td>\n",
              "      <td>58</td>\n",
              "      <td>247</td>\n",
              "      <td>0</td>\n",
              "      <td>6</td>\n",
              "      <td>9</td>\n",
              "      <td>NaN</td>\n",
              "    </tr>\n",
              "    <tr>\n",
              "      <th>2</th>\n",
              "      <td>0</td>\n",
              "      <td>56</td>\n",
              "      <td>125</td>\n",
              "      <td>1</td>\n",
              "      <td>6</td>\n",
              "      <td>8</td>\n",
              "      <td>NaN</td>\n",
              "    </tr>\n",
              "    <tr>\n",
              "      <th>3</th>\n",
              "      <td>0</td>\n",
              "      <td>55</td>\n",
              "      <td>22</td>\n",
              "      <td>0</td>\n",
              "      <td>11</td>\n",
              "      <td>7</td>\n",
              "      <td>NaN</td>\n",
              "    </tr>\n",
              "    <tr>\n",
              "      <th>4</th>\n",
              "      <td>1</td>\n",
              "      <td>95</td>\n",
              "      <td>262</td>\n",
              "      <td>0</td>\n",
              "      <td>2</td>\n",
              "      <td>3</td>\n",
              "      <td>NaN</td>\n",
              "    </tr>\n",
              "  </tbody>\n",
              "</table>\n",
              "</div>\n",
              "      <button class=\"colab-df-convert\" onclick=\"convertToInteractive('df-d94c477e-1fce-4a06-9533-5df65782211e')\"\n",
              "              title=\"Convert this dataframe to an interactive table.\"\n",
              "              style=\"display:none;\">\n",
              "        \n",
              "  <svg xmlns=\"http://www.w3.org/2000/svg\" height=\"24px\"viewBox=\"0 0 24 24\"\n",
              "       width=\"24px\">\n",
              "    <path d=\"M0 0h24v24H0V0z\" fill=\"none\"/>\n",
              "    <path d=\"M18.56 5.44l.94 2.06.94-2.06 2.06-.94-2.06-.94-.94-2.06-.94 2.06-2.06.94zm-11 1L8.5 8.5l.94-2.06 2.06-.94-2.06-.94L8.5 2.5l-.94 2.06-2.06.94zm10 10l.94 2.06.94-2.06 2.06-.94-2.06-.94-.94-2.06-.94 2.06-2.06.94z\"/><path d=\"M17.41 7.96l-1.37-1.37c-.4-.4-.92-.59-1.43-.59-.52 0-1.04.2-1.43.59L10.3 9.45l-7.72 7.72c-.78.78-.78 2.05 0 2.83L4 21.41c.39.39.9.59 1.41.59.51 0 1.02-.2 1.41-.59l7.78-7.78 2.81-2.81c.8-.78.8-2.07 0-2.86zM5.41 20L4 18.59l7.72-7.72 1.47 1.35L5.41 20z\"/>\n",
              "  </svg>\n",
              "      </button>\n",
              "      \n",
              "  <style>\n",
              "    .colab-df-container {\n",
              "      display:flex;\n",
              "      flex-wrap:wrap;\n",
              "      gap: 12px;\n",
              "    }\n",
              "\n",
              "    .colab-df-convert {\n",
              "      background-color: #E8F0FE;\n",
              "      border: none;\n",
              "      border-radius: 50%;\n",
              "      cursor: pointer;\n",
              "      display: none;\n",
              "      fill: #1967D2;\n",
              "      height: 32px;\n",
              "      padding: 0 0 0 0;\n",
              "      width: 32px;\n",
              "    }\n",
              "\n",
              "    .colab-df-convert:hover {\n",
              "      background-color: #E2EBFA;\n",
              "      box-shadow: 0px 1px 2px rgba(60, 64, 67, 0.3), 0px 1px 3px 1px rgba(60, 64, 67, 0.15);\n",
              "      fill: #174EA6;\n",
              "    }\n",
              "\n",
              "    [theme=dark] .colab-df-convert {\n",
              "      background-color: #3B4455;\n",
              "      fill: #D2E3FC;\n",
              "    }\n",
              "\n",
              "    [theme=dark] .colab-df-convert:hover {\n",
              "      background-color: #434B5C;\n",
              "      box-shadow: 0px 1px 3px 1px rgba(0, 0, 0, 0.15);\n",
              "      filter: drop-shadow(0px 1px 2px rgba(0, 0, 0, 0.3));\n",
              "      fill: #FFFFFF;\n",
              "    }\n",
              "  </style>\n",
              "\n",
              "      <script>\n",
              "        const buttonEl =\n",
              "          document.querySelector('#df-d94c477e-1fce-4a06-9533-5df65782211e button.colab-df-convert');\n",
              "        buttonEl.style.display =\n",
              "          google.colab.kernel.accessAllowed ? 'block' : 'none';\n",
              "\n",
              "        async function convertToInteractive(key) {\n",
              "          const element = document.querySelector('#df-d94c477e-1fce-4a06-9533-5df65782211e');\n",
              "          const dataTable =\n",
              "            await google.colab.kernel.invokeFunction('convertToInteractive',\n",
              "                                                     [key], {});\n",
              "          if (!dataTable) return;\n",
              "\n",
              "          const docLinkHtml = 'Like what you see? Visit the ' +\n",
              "            '<a target=\"_blank\" href=https://colab.research.google.com/notebooks/data_table.ipynb>data table notebook</a>'\n",
              "            + ' to learn more about interactive tables.';\n",
              "          element.innerHTML = '';\n",
              "          dataTable['output_type'] = 'display_data';\n",
              "          await google.colab.output.renderOutput(dataTable, element);\n",
              "          const docLink = document.createElement('div');\n",
              "          docLink.innerHTML = docLinkHtml;\n",
              "          element.appendChild(docLink);\n",
              "        }\n",
              "      </script>\n",
              "    </div>\n",
              "  </div>\n",
              "  "
            ]
          },
          "metadata": {},
          "execution_count": 9
        }
      ]
    },
    {
      "cell_type": "code",
      "source": [
        "datadf.shape"
      ],
      "metadata": {
        "colab": {
          "base_uri": "https://localhost:8080/"
        },
        "id": "DM8LoU03aW2r",
        "outputId": "e3fc40de-e658-4f6f-a336-527aa9789a1b"
      },
      "execution_count": 26,
      "outputs": [
        {
          "output_type": "execute_result",
          "data": {
            "text/plain": [
              "(100, 7)"
            ]
          },
          "metadata": {},
          "execution_count": 26
        }
      ]
    },
    {
      "cell_type": "code",
      "source": [
        "# Drop the column with unnamed and NaN valaues, which is not needed for training the algorithms. \n",
        "# inplace = True will automatically update the DataFrame without needing to assign it to itself again.\n",
        "# axis = 1 --> Column. \n",
        "datadf.drop(\"Unnamed: 6\", axis = 1, inplace = True)"
      ],
      "metadata": {
        "id": "o-NEHjNCFnEe"
      },
      "execution_count": 3,
      "outputs": []
    },
    {
      "cell_type": "code",
      "source": [
        "datadf.tail()"
      ],
      "metadata": {
        "colab": {
          "base_uri": "https://localhost:8080/",
          "height": 206
        },
        "id": "8hhw2vM8YtIk",
        "outputId": "ff479f87-9071-4c50-9273-8a61f19d5eb3"
      },
      "execution_count": 28,
      "outputs": [
        {
          "output_type": "execute_result",
          "data": {
            "text/plain": [
              "    Purchase  SUS  Duration  Gender  ASR_Error  Intent_Error\n",
              "95         0   57       358       0         13             7\n",
              "96         1   93        71       0          3             0\n",
              "97         0   80        34       1          0             9\n",
              "98         1   82        49       1          4             1\n",
              "99         1   78       213       0          1             4"
            ],
            "text/html": [
              "\n",
              "  <div id=\"df-eb2c5687-bc0c-4cba-a5bc-8b83336f577a\">\n",
              "    <div class=\"colab-df-container\">\n",
              "      <div>\n",
              "<style scoped>\n",
              "    .dataframe tbody tr th:only-of-type {\n",
              "        vertical-align: middle;\n",
              "    }\n",
              "\n",
              "    .dataframe tbody tr th {\n",
              "        vertical-align: top;\n",
              "    }\n",
              "\n",
              "    .dataframe thead th {\n",
              "        text-align: right;\n",
              "    }\n",
              "</style>\n",
              "<table border=\"1\" class=\"dataframe\">\n",
              "  <thead>\n",
              "    <tr style=\"text-align: right;\">\n",
              "      <th></th>\n",
              "      <th>Purchase</th>\n",
              "      <th>SUS</th>\n",
              "      <th>Duration</th>\n",
              "      <th>Gender</th>\n",
              "      <th>ASR_Error</th>\n",
              "      <th>Intent_Error</th>\n",
              "    </tr>\n",
              "  </thead>\n",
              "  <tbody>\n",
              "    <tr>\n",
              "      <th>95</th>\n",
              "      <td>0</td>\n",
              "      <td>57</td>\n",
              "      <td>358</td>\n",
              "      <td>0</td>\n",
              "      <td>13</td>\n",
              "      <td>7</td>\n",
              "    </tr>\n",
              "    <tr>\n",
              "      <th>96</th>\n",
              "      <td>1</td>\n",
              "      <td>93</td>\n",
              "      <td>71</td>\n",
              "      <td>0</td>\n",
              "      <td>3</td>\n",
              "      <td>0</td>\n",
              "    </tr>\n",
              "    <tr>\n",
              "      <th>97</th>\n",
              "      <td>0</td>\n",
              "      <td>80</td>\n",
              "      <td>34</td>\n",
              "      <td>1</td>\n",
              "      <td>0</td>\n",
              "      <td>9</td>\n",
              "    </tr>\n",
              "    <tr>\n",
              "      <th>98</th>\n",
              "      <td>1</td>\n",
              "      <td>82</td>\n",
              "      <td>49</td>\n",
              "      <td>1</td>\n",
              "      <td>4</td>\n",
              "      <td>1</td>\n",
              "    </tr>\n",
              "    <tr>\n",
              "      <th>99</th>\n",
              "      <td>1</td>\n",
              "      <td>78</td>\n",
              "      <td>213</td>\n",
              "      <td>0</td>\n",
              "      <td>1</td>\n",
              "      <td>4</td>\n",
              "    </tr>\n",
              "  </tbody>\n",
              "</table>\n",
              "</div>\n",
              "      <button class=\"colab-df-convert\" onclick=\"convertToInteractive('df-eb2c5687-bc0c-4cba-a5bc-8b83336f577a')\"\n",
              "              title=\"Convert this dataframe to an interactive table.\"\n",
              "              style=\"display:none;\">\n",
              "        \n",
              "  <svg xmlns=\"http://www.w3.org/2000/svg\" height=\"24px\"viewBox=\"0 0 24 24\"\n",
              "       width=\"24px\">\n",
              "    <path d=\"M0 0h24v24H0V0z\" fill=\"none\"/>\n",
              "    <path d=\"M18.56 5.44l.94 2.06.94-2.06 2.06-.94-2.06-.94-.94-2.06-.94 2.06-2.06.94zm-11 1L8.5 8.5l.94-2.06 2.06-.94-2.06-.94L8.5 2.5l-.94 2.06-2.06.94zm10 10l.94 2.06.94-2.06 2.06-.94-2.06-.94-.94-2.06-.94 2.06-2.06.94z\"/><path d=\"M17.41 7.96l-1.37-1.37c-.4-.4-.92-.59-1.43-.59-.52 0-1.04.2-1.43.59L10.3 9.45l-7.72 7.72c-.78.78-.78 2.05 0 2.83L4 21.41c.39.39.9.59 1.41.59.51 0 1.02-.2 1.41-.59l7.78-7.78 2.81-2.81c.8-.78.8-2.07 0-2.86zM5.41 20L4 18.59l7.72-7.72 1.47 1.35L5.41 20z\"/>\n",
              "  </svg>\n",
              "      </button>\n",
              "      \n",
              "  <style>\n",
              "    .colab-df-container {\n",
              "      display:flex;\n",
              "      flex-wrap:wrap;\n",
              "      gap: 12px;\n",
              "    }\n",
              "\n",
              "    .colab-df-convert {\n",
              "      background-color: #E8F0FE;\n",
              "      border: none;\n",
              "      border-radius: 50%;\n",
              "      cursor: pointer;\n",
              "      display: none;\n",
              "      fill: #1967D2;\n",
              "      height: 32px;\n",
              "      padding: 0 0 0 0;\n",
              "      width: 32px;\n",
              "    }\n",
              "\n",
              "    .colab-df-convert:hover {\n",
              "      background-color: #E2EBFA;\n",
              "      box-shadow: 0px 1px 2px rgba(60, 64, 67, 0.3), 0px 1px 3px 1px rgba(60, 64, 67, 0.15);\n",
              "      fill: #174EA6;\n",
              "    }\n",
              "\n",
              "    [theme=dark] .colab-df-convert {\n",
              "      background-color: #3B4455;\n",
              "      fill: #D2E3FC;\n",
              "    }\n",
              "\n",
              "    [theme=dark] .colab-df-convert:hover {\n",
              "      background-color: #434B5C;\n",
              "      box-shadow: 0px 1px 3px 1px rgba(0, 0, 0, 0.15);\n",
              "      filter: drop-shadow(0px 1px 2px rgba(0, 0, 0, 0.3));\n",
              "      fill: #FFFFFF;\n",
              "    }\n",
              "  </style>\n",
              "\n",
              "      <script>\n",
              "        const buttonEl =\n",
              "          document.querySelector('#df-eb2c5687-bc0c-4cba-a5bc-8b83336f577a button.colab-df-convert');\n",
              "        buttonEl.style.display =\n",
              "          google.colab.kernel.accessAllowed ? 'block' : 'none';\n",
              "\n",
              "        async function convertToInteractive(key) {\n",
              "          const element = document.querySelector('#df-eb2c5687-bc0c-4cba-a5bc-8b83336f577a');\n",
              "          const dataTable =\n",
              "            await google.colab.kernel.invokeFunction('convertToInteractive',\n",
              "                                                     [key], {});\n",
              "          if (!dataTable) return;\n",
              "\n",
              "          const docLinkHtml = 'Like what you see? Visit the ' +\n",
              "            '<a target=\"_blank\" href=https://colab.research.google.com/notebooks/data_table.ipynb>data table notebook</a>'\n",
              "            + ' to learn more about interactive tables.';\n",
              "          element.innerHTML = '';\n",
              "          dataTable['output_type'] = 'display_data';\n",
              "          await google.colab.output.renderOutput(dataTable, element);\n",
              "          const docLink = document.createElement('div');\n",
              "          docLink.innerHTML = docLinkHtml;\n",
              "          element.appendChild(docLink);\n",
              "        }\n",
              "      </script>\n",
              "    </div>\n",
              "  </div>\n",
              "  "
            ]
          },
          "metadata": {},
          "execution_count": 28
        }
      ]
    },
    {
      "cell_type": "markdown",
      "source": [
        "Features --> Independent variables.\n",
        "\n",
        "Targets --> Dependent variables.\n",
        "\n",
        "Since we are training a regression model, it is best to use RandomForestRegressor\n",
        "as our algorithm of choice.\n",
        "\n",
        "Features: ASR_Error, IntentError, Duration, Gender and Purchase.\n",
        "\n",
        "Target: SUS."
      ],
      "metadata": {
        "id": "n-l3SGc4ZhnX"
      }
    },
    {
      "cell_type": "code",
      "source": [
        "# First, we must split the data into features and labels.\n",
        "\n",
        "X = datadf.drop(\"SUS\", axis = 1)\n",
        "y = datadf[\"SUS\"]"
      ],
      "metadata": {
        "id": "TcAVix9xZ3hg"
      },
      "execution_count": 29,
      "outputs": []
    },
    {
      "cell_type": "code",
      "source": [
        "X.head()"
      ],
      "metadata": {
        "colab": {
          "base_uri": "https://localhost:8080/",
          "height": 206
        },
        "id": "Cc_jK6GYatA9",
        "outputId": "2cd2b6bd-8cd7-4aa2-feda-5ac0f02ef9f6"
      },
      "execution_count": 30,
      "outputs": [
        {
          "output_type": "execute_result",
          "data": {
            "text/plain": [
              "   Purchase  Duration  Gender  ASR_Error  Intent_Error\n",
              "0         1       254       0          3             2\n",
              "1         0       247       0          6             9\n",
              "2         0       125       1          6             8\n",
              "3         0        22       0         11             7\n",
              "4         1       262       0          2             3"
            ],
            "text/html": [
              "\n",
              "  <div id=\"df-002a0c88-7395-4987-81ce-53ef5e28d562\">\n",
              "    <div class=\"colab-df-container\">\n",
              "      <div>\n",
              "<style scoped>\n",
              "    .dataframe tbody tr th:only-of-type {\n",
              "        vertical-align: middle;\n",
              "    }\n",
              "\n",
              "    .dataframe tbody tr th {\n",
              "        vertical-align: top;\n",
              "    }\n",
              "\n",
              "    .dataframe thead th {\n",
              "        text-align: right;\n",
              "    }\n",
              "</style>\n",
              "<table border=\"1\" class=\"dataframe\">\n",
              "  <thead>\n",
              "    <tr style=\"text-align: right;\">\n",
              "      <th></th>\n",
              "      <th>Purchase</th>\n",
              "      <th>Duration</th>\n",
              "      <th>Gender</th>\n",
              "      <th>ASR_Error</th>\n",
              "      <th>Intent_Error</th>\n",
              "    </tr>\n",
              "  </thead>\n",
              "  <tbody>\n",
              "    <tr>\n",
              "      <th>0</th>\n",
              "      <td>1</td>\n",
              "      <td>254</td>\n",
              "      <td>0</td>\n",
              "      <td>3</td>\n",
              "      <td>2</td>\n",
              "    </tr>\n",
              "    <tr>\n",
              "      <th>1</th>\n",
              "      <td>0</td>\n",
              "      <td>247</td>\n",
              "      <td>0</td>\n",
              "      <td>6</td>\n",
              "      <td>9</td>\n",
              "    </tr>\n",
              "    <tr>\n",
              "      <th>2</th>\n",
              "      <td>0</td>\n",
              "      <td>125</td>\n",
              "      <td>1</td>\n",
              "      <td>6</td>\n",
              "      <td>8</td>\n",
              "    </tr>\n",
              "    <tr>\n",
              "      <th>3</th>\n",
              "      <td>0</td>\n",
              "      <td>22</td>\n",
              "      <td>0</td>\n",
              "      <td>11</td>\n",
              "      <td>7</td>\n",
              "    </tr>\n",
              "    <tr>\n",
              "      <th>4</th>\n",
              "      <td>1</td>\n",
              "      <td>262</td>\n",
              "      <td>0</td>\n",
              "      <td>2</td>\n",
              "      <td>3</td>\n",
              "    </tr>\n",
              "  </tbody>\n",
              "</table>\n",
              "</div>\n",
              "      <button class=\"colab-df-convert\" onclick=\"convertToInteractive('df-002a0c88-7395-4987-81ce-53ef5e28d562')\"\n",
              "              title=\"Convert this dataframe to an interactive table.\"\n",
              "              style=\"display:none;\">\n",
              "        \n",
              "  <svg xmlns=\"http://www.w3.org/2000/svg\" height=\"24px\"viewBox=\"0 0 24 24\"\n",
              "       width=\"24px\">\n",
              "    <path d=\"M0 0h24v24H0V0z\" fill=\"none\"/>\n",
              "    <path d=\"M18.56 5.44l.94 2.06.94-2.06 2.06-.94-2.06-.94-.94-2.06-.94 2.06-2.06.94zm-11 1L8.5 8.5l.94-2.06 2.06-.94-2.06-.94L8.5 2.5l-.94 2.06-2.06.94zm10 10l.94 2.06.94-2.06 2.06-.94-2.06-.94-.94-2.06-.94 2.06-2.06.94z\"/><path d=\"M17.41 7.96l-1.37-1.37c-.4-.4-.92-.59-1.43-.59-.52 0-1.04.2-1.43.59L10.3 9.45l-7.72 7.72c-.78.78-.78 2.05 0 2.83L4 21.41c.39.39.9.59 1.41.59.51 0 1.02-.2 1.41-.59l7.78-7.78 2.81-2.81c.8-.78.8-2.07 0-2.86zM5.41 20L4 18.59l7.72-7.72 1.47 1.35L5.41 20z\"/>\n",
              "  </svg>\n",
              "      </button>\n",
              "      \n",
              "  <style>\n",
              "    .colab-df-container {\n",
              "      display:flex;\n",
              "      flex-wrap:wrap;\n",
              "      gap: 12px;\n",
              "    }\n",
              "\n",
              "    .colab-df-convert {\n",
              "      background-color: #E8F0FE;\n",
              "      border: none;\n",
              "      border-radius: 50%;\n",
              "      cursor: pointer;\n",
              "      display: none;\n",
              "      fill: #1967D2;\n",
              "      height: 32px;\n",
              "      padding: 0 0 0 0;\n",
              "      width: 32px;\n",
              "    }\n",
              "\n",
              "    .colab-df-convert:hover {\n",
              "      background-color: #E2EBFA;\n",
              "      box-shadow: 0px 1px 2px rgba(60, 64, 67, 0.3), 0px 1px 3px 1px rgba(60, 64, 67, 0.15);\n",
              "      fill: #174EA6;\n",
              "    }\n",
              "\n",
              "    [theme=dark] .colab-df-convert {\n",
              "      background-color: #3B4455;\n",
              "      fill: #D2E3FC;\n",
              "    }\n",
              "\n",
              "    [theme=dark] .colab-df-convert:hover {\n",
              "      background-color: #434B5C;\n",
              "      box-shadow: 0px 1px 3px 1px rgba(0, 0, 0, 0.15);\n",
              "      filter: drop-shadow(0px 1px 2px rgba(0, 0, 0, 0.3));\n",
              "      fill: #FFFFFF;\n",
              "    }\n",
              "  </style>\n",
              "\n",
              "      <script>\n",
              "        const buttonEl =\n",
              "          document.querySelector('#df-002a0c88-7395-4987-81ce-53ef5e28d562 button.colab-df-convert');\n",
              "        buttonEl.style.display =\n",
              "          google.colab.kernel.accessAllowed ? 'block' : 'none';\n",
              "\n",
              "        async function convertToInteractive(key) {\n",
              "          const element = document.querySelector('#df-002a0c88-7395-4987-81ce-53ef5e28d562');\n",
              "          const dataTable =\n",
              "            await google.colab.kernel.invokeFunction('convertToInteractive',\n",
              "                                                     [key], {});\n",
              "          if (!dataTable) return;\n",
              "\n",
              "          const docLinkHtml = 'Like what you see? Visit the ' +\n",
              "            '<a target=\"_blank\" href=https://colab.research.google.com/notebooks/data_table.ipynb>data table notebook</a>'\n",
              "            + ' to learn more about interactive tables.';\n",
              "          element.innerHTML = '';\n",
              "          dataTable['output_type'] = 'display_data';\n",
              "          await google.colab.output.renderOutput(dataTable, element);\n",
              "          const docLink = document.createElement('div');\n",
              "          docLink.innerHTML = docLinkHtml;\n",
              "          element.appendChild(docLink);\n",
              "        }\n",
              "      </script>\n",
              "    </div>\n",
              "  </div>\n",
              "  "
            ]
          },
          "metadata": {},
          "execution_count": 30
        }
      ]
    },
    {
      "cell_type": "code",
      "source": [
        "y.head()"
      ],
      "metadata": {
        "colab": {
          "base_uri": "https://localhost:8080/"
        },
        "id": "y4Td41_RawAD",
        "outputId": "71e69f32-34e1-4fec-ce12-b1ab0934ead7"
      },
      "execution_count": 31,
      "outputs": [
        {
          "output_type": "execute_result",
          "data": {
            "text/plain": [
              "0    84\n",
              "1    58\n",
              "2    56\n",
              "3    55\n",
              "4    95\n",
              "Name: SUS, dtype: int64"
            ]
          },
          "metadata": {},
          "execution_count": 31
        }
      ]
    },
    {
      "cell_type": "code",
      "source": [
        "# Split the data into training and test sets:\n",
        "\n",
        "from sklearn.model_selection import train_test_split\n",
        "\n",
        "X_train, X_test, y_train, y_test = train_test_split(X,\n",
        "                                                    y,\n",
        "                                                    test_size = 0.2)"
      ],
      "metadata": {
        "id": "dBY2MGctawml"
      },
      "execution_count": 32,
      "outputs": []
    },
    {
      "cell_type": "code",
      "source": [
        "X_train.shape, X_test.shape, y_train.shape, y_test.shape"
      ],
      "metadata": {
        "colab": {
          "base_uri": "https://localhost:8080/"
        },
        "id": "1h2JXQ3ZbAFB",
        "outputId": "6b76012b-6667-421e-84ae-840248bb5b00"
      },
      "execution_count": 33,
      "outputs": [
        {
          "output_type": "execute_result",
          "data": {
            "text/plain": [
              "((80, 5), (20, 5), (80,), (20,))"
            ]
          },
          "metadata": {},
          "execution_count": 33
        }
      ]
    },
    {
      "cell_type": "code",
      "source": [
        "from sklearn.preprocessing import StandardScaler\n",
        "\n",
        "# We must now scale the data:\n",
        "\n",
        "scaler = StandardScaler()\n",
        "X_train = scaler.fit_transform(X_train) # We only want to fit the model into the training data, not the test data.\n",
        "X_test = scaler.transform(X_test)"
      ],
      "metadata": {
        "id": "NfJReV8QOJl8"
      },
      "execution_count": 35,
      "outputs": []
    },
    {
      "cell_type": "code",
      "source": [
        "# Build a machine learning algorithm using RandomForestRegressor:\n",
        "\n",
        "from sklearn.linear_model import Ridge\n",
        "\n",
        "model = Ridge()\n",
        "\n",
        "# We must fit on the training data, as this data will be used to allow the algorithm\n",
        "# to learn from patterns in the data.\n",
        "# We will then test the model's performance on the validation/test set, which\n",
        "# is data that the model has not yet seen. \n",
        "model.fit(X_train, y_train)"
      ],
      "metadata": {
        "colab": {
          "base_uri": "https://localhost:8080/"
        },
        "id": "m0MxydT6bNNf",
        "outputId": "1dc44f03-2b52-4a94-aa29-6a24e3575a17"
      },
      "execution_count": 36,
      "outputs": [
        {
          "output_type": "execute_result",
          "data": {
            "text/plain": [
              "Ridge()"
            ]
          },
          "metadata": {},
          "execution_count": 36
        }
      ]
    },
    {
      "cell_type": "code",
      "source": [
        "# Evaluate the model on the test set:\n",
        "model.score(X_test, y_test)"
      ],
      "metadata": {
        "colab": {
          "base_uri": "https://localhost:8080/"
        },
        "id": "fR_PdOwkbYlt",
        "outputId": "467a211b-ade8-455e-a209-56c3c523a46c"
      },
      "execution_count": 37,
      "outputs": [
        {
          "output_type": "execute_result",
          "data": {
            "text/plain": [
              "0.41734898971697165"
            ]
          },
          "metadata": {},
          "execution_count": 37
        }
      ]
    },
    {
      "cell_type": "code",
      "source": [
        "model.score(X_train, y_train)\n",
        "# Both the training and validation accuracy are low. The model is underfitting the data.\n",
        "# This problem is due to the lack of sufficient data in the dataset itself. \n",
        "# Without enough data, the model is unable to properly capture the relationship\n",
        "# between the features and the target. "
      ],
      "metadata": {
        "colab": {
          "base_uri": "https://localhost:8080/"
        },
        "id": "ltFgpvFhCyyr",
        "outputId": "0eab52f1-c808-4a3b-bf13-70c6fd96388d"
      },
      "execution_count": 38,
      "outputs": [
        {
          "output_type": "execute_result",
          "data": {
            "text/plain": [
              "0.6092326237408077"
            ]
          },
          "metadata": {},
          "execution_count": 38
        }
      ]
    },
    {
      "cell_type": "code",
      "source": [
        "from sklearn.model_selection import RandomizedSearchCV\n",
        "grid = {\n",
        "    \"alpha\": [0.01, 0.05, 0.1, 0.5, 1.0, 1.5, 2.0]\n",
        "}\n",
        "\n",
        "rs_model = RandomizedSearchCV(model, grid, n_iter = 10, cv = 5, verbose = 2)\n",
        "rs_model.fit(X_train, y_train)"
      ],
      "metadata": {
        "colab": {
          "base_uri": "https://localhost:8080/"
        },
        "id": "JJwZkngloEnh",
        "outputId": "ace58610-c2d9-4cfc-8b58-bd5d581f8043"
      },
      "execution_count": 39,
      "outputs": [
        {
          "output_type": "stream",
          "name": "stdout",
          "text": [
            "Fitting 5 folds for each of 7 candidates, totalling 35 fits\n",
            "[CV] END .........................................alpha=0.01; total time=   0.0s\n",
            "[CV] END .........................................alpha=0.01; total time=   0.0s\n",
            "[CV] END .........................................alpha=0.01; total time=   0.0s\n",
            "[CV] END .........................................alpha=0.01; total time=   0.0s\n",
            "[CV] END .........................................alpha=0.01; total time=   0.0s\n",
            "[CV] END .........................................alpha=0.05; total time=   0.0s\n",
            "[CV] END .........................................alpha=0.05; total time=   0.0s\n",
            "[CV] END .........................................alpha=0.05; total time=   0.0s\n",
            "[CV] END .........................................alpha=0.05; total time=   0.0s\n",
            "[CV] END .........................................alpha=0.05; total time=   0.0s\n",
            "[CV] END ..........................................alpha=0.1; total time=   0.0s\n",
            "[CV] END ..........................................alpha=0.1; total time=   0.0s\n",
            "[CV] END ..........................................alpha=0.1; total time=   0.0s\n",
            "[CV] END ..........................................alpha=0.1; total time=   0.0s\n",
            "[CV] END ..........................................alpha=0.1; total time=   0.0s\n",
            "[CV] END ..........................................alpha=0.5; total time=   0.0s\n",
            "[CV] END ..........................................alpha=0.5; total time=   0.0s\n",
            "[CV] END ..........................................alpha=0.5; total time=   0.0s\n",
            "[CV] END ..........................................alpha=0.5; total time=   0.0s\n",
            "[CV] END ..........................................alpha=0.5; total time=   0.0s\n",
            "[CV] END ..........................................alpha=1.0; total time=   0.0s\n",
            "[CV] END ..........................................alpha=1.0; total time=   0.0s\n",
            "[CV] END ..........................................alpha=1.0; total time=   0.0s\n",
            "[CV] END ..........................................alpha=1.0; total time=   0.0s\n",
            "[CV] END ..........................................alpha=1.0; total time=   0.0s\n",
            "[CV] END ..........................................alpha=1.5; total time=   0.0s\n",
            "[CV] END ..........................................alpha=1.5; total time=   0.0s\n",
            "[CV] END ..........................................alpha=1.5; total time=   0.0s\n",
            "[CV] END ..........................................alpha=1.5; total time=   0.0s\n",
            "[CV] END ..........................................alpha=1.5; total time=   0.0s\n",
            "[CV] END ..........................................alpha=2.0; total time=   0.0s\n",
            "[CV] END ..........................................alpha=2.0; total time=   0.0s\n",
            "[CV] END ..........................................alpha=2.0; total time=   0.0s\n",
            "[CV] END ..........................................alpha=2.0; total time=   0.0s\n",
            "[CV] END ..........................................alpha=2.0; total time=   0.0s\n"
          ]
        },
        {
          "output_type": "stream",
          "name": "stderr",
          "text": [
            "/usr/local/lib/python3.8/dist-packages/sklearn/model_selection/_search.py:292: UserWarning: The total space of parameters 7 is smaller than n_iter=10. Running 7 iterations. For exhaustive searches, use GridSearchCV.\n",
            "  warnings.warn(\n"
          ]
        },
        {
          "output_type": "execute_result",
          "data": {
            "text/plain": [
              "RandomizedSearchCV(cv=5, estimator=Ridge(),\n",
              "                   param_distributions={'alpha': [0.01, 0.05, 0.1, 0.5, 1.0,\n",
              "                                                  1.5, 2.0]},\n",
              "                   verbose=2)"
            ]
          },
          "metadata": {},
          "execution_count": 39
        }
      ]
    },
    {
      "cell_type": "code",
      "source": [
        "rs_model.best_params_"
      ],
      "metadata": {
        "colab": {
          "base_uri": "https://localhost:8080/"
        },
        "id": "XR104_gXos2E",
        "outputId": "cbd14d26-7cd6-4733-8e98-b524561d4c3a"
      },
      "execution_count": 40,
      "outputs": [
        {
          "output_type": "execute_result",
          "data": {
            "text/plain": [
              "{'alpha': 2.0}"
            ]
          },
          "metadata": {},
          "execution_count": 40
        }
      ]
    },
    {
      "cell_type": "code",
      "source": [
        "tuned_model = Ridge(alpha = 2.0)\n",
        "tuned_model.fit(X_train, y_train)\n",
        "tuned_model.score(X_test, y_test)"
      ],
      "metadata": {
        "colab": {
          "base_uri": "https://localhost:8080/"
        },
        "id": "ueMbKPMXovv7",
        "outputId": "cf8f68cf-65e2-4d94-937d-7174cbbb1030"
      },
      "execution_count": 41,
      "outputs": [
        {
          "output_type": "execute_result",
          "data": {
            "text/plain": [
              "0.41845253170740027"
            ]
          },
          "metadata": {},
          "execution_count": 41
        }
      ]
    },
    {
      "cell_type": "code",
      "source": [
        "# Use the .coef_ property of the LinearRegression() algorithm that denotes\n",
        "# the significance of each feature used to train the model. \n",
        "importance = model.coef_\n",
        "importance"
      ],
      "metadata": {
        "colab": {
          "base_uri": "https://localhost:8080/"
        },
        "id": "t6Ybrud9bp5V",
        "outputId": "ada54ce7-99ee-4295-e927-5771e29ecdd7"
      },
      "execution_count": 42,
      "outputs": [
        {
          "output_type": "execute_result",
          "data": {
            "text/plain": [
              "array([ 2.12993731, -0.18602265, -0.05578754, -5.05680363, -5.9244895 ])"
            ]
          },
          "metadata": {},
          "execution_count": 42
        }
      ]
    },
    {
      "cell_type": "code",
      "source": [
        "# Evaluation metrics for regression:\n",
        "from sklearn.metrics import r2_score\n",
        "from sklearn.metrics import mean_squared_error\n",
        "\n",
        "r2 = r2_score(y_test, model.predict(X_test))\n",
        "mse = mean_squared_error(y_test, model.predict(X_test))\n",
        "print(f\"MSE: {mse}, R2 Score: {r2}\")"
      ],
      "metadata": {
        "colab": {
          "base_uri": "https://localhost:8080/"
        },
        "id": "jgR2_qMy_IXz",
        "outputId": "b3ebc0ff-9b7f-4425-9bf8-5383b3c15864"
      },
      "execution_count": 43,
      "outputs": [
        {
          "output_type": "stream",
          "name": "stdout",
          "text": [
            "MSE: 72.1088890326276, R2 Score: 0.41734898971697165\n"
          ]
        }
      ]
    },
    {
      "cell_type": "code",
      "source": [
        "plt.bar([x for x in range(len(importance))], importance)\n",
        "# 0 --> Purchase.\n",
        "# 1 --> Duration.\n",
        "# 2 --> Gender.\n",
        "# 3 --> ASR_Error.\n",
        "# 4 --> Intent_Error."
      ],
      "metadata": {
        "colab": {
          "base_uri": "https://localhost:8080/",
          "height": 283
        },
        "id": "W6gJMstFmqOS",
        "outputId": "c24521b9-d0a4-4c40-e21d-ce865d23a2d2"
      },
      "execution_count": 44,
      "outputs": [
        {
          "output_type": "execute_result",
          "data": {
            "text/plain": [
              "<BarContainer object of 5 artists>"
            ]
          },
          "metadata": {},
          "execution_count": 44
        },
        {
          "output_type": "display_data",
          "data": {
            "text/plain": [
              "<Figure size 432x288 with 1 Axes>"
            ],
            "image/png": "[encoded data removed]"
          },
          "metadata": {
            "needs_background": "light"
          }
        }
      ]
    },
    {
      "cell_type": "code",
      "source": [
        "# 1. The significant features are Purchase, ASR_Error and Intent_Error.\n",
        "\n",
        "# 2.  The insignificant features are Duration and Gender. \n",
        "\n",
        "# 3. The results of the estimator were to be expected, as both the training and validation accuracy are low. The model is underfitting the data.\n",
        "# This problem is due to the lack of sufficient data in the dataset itself. Without enough data, the model is unable to properly capture the relationship between the features and the target.\n",
        "# Furthermore, it makes sense that features such as gender would be of little significance for the purposes of our model; it is a personal\n",
        "# quality that does not necessarily impact behavior or any circumstances with regards to the data of this classification. \n",
        "# \n",
        "\n",
        "# 4. Based on the model's estimation of the importance of each feature, the Intent_Error feature is by far the most significant. It has a \n",
        "# weight of approximately -5.92 based on the model's estimation of its coefficients, which means that there is a significant negative\n",
        "# correlation with regards to this feature. \n",
        "\n",
        "# 5. These features are significant predictions of SUS because their specific values may decrease or increase based on the \n",
        "# outcome of the label, which can then be used by the algorithm to predict the label based on the values of these features. "
      ],
      "metadata": {
        "id": "lItN0s12j7ao"
      },
      "execution_count": 1,
      "outputs": []
    },
    {
      "cell_type": "markdown",
      "source": [
        "## 3. Classification."
      ],
      "metadata": {
        "id": "_KIIIrPCmq0x"
      }
    },
    {
      "cell_type": "code",
      "source": [
        " # Features: ASR_Error, IntentError, Duration and Gender.\n",
        " # Target: Purchase.\n",
        "from sklearn.preprocessing import StandardScaler"
      ],
      "metadata": {
        "id": "wNsyRA0HEInL"
      },
      "execution_count": 6,
      "outputs": []
    },
    {
      "cell_type": "code",
      "source": [
        "datadf.head()"
      ],
      "metadata": {
        "colab": {
          "base_uri": "https://localhost:8080/",
          "height": 206
        },
        "id": "ULPuMcndHfXd",
        "outputId": "11367146-8db5-4ebd-a9cf-1c277fabfa6b"
      },
      "execution_count": 7,
      "outputs": [
        {
          "output_type": "execute_result",
          "data": {
            "text/plain": [
              "   Purchase  SUS  Duration  Gender  ASR_Error  Intent_Error\n",
              "0         1   84       254       0          3             2\n",
              "1         0   58       247       0          6             9\n",
              "2         0   56       125       1          6             8\n",
              "3         0   55        22       0         11             7\n",
              "4         1   95       262       0          2             3"
            ],
            "text/html": [
              "\n",
              "  <div id=\"df-ac1404eb-1ef5-40a4-b193-1a632c057faf\">\n",
              "    <div class=\"colab-df-container\">\n",
              "      <div>\n",
              "<style scoped>\n",
              "    .dataframe tbody tr th:only-of-type {\n",
              "        vertical-align: middle;\n",
              "    }\n",
              "\n",
              "    .dataframe tbody tr th {\n",
              "        vertical-align: top;\n",
              "    }\n",
              "\n",
              "    .dataframe thead th {\n",
              "        text-align: right;\n",
              "    }\n",
              "</style>\n",
              "<table border=\"1\" class=\"dataframe\">\n",
              "  <thead>\n",
              "    <tr style=\"text-align: right;\">\n",
              "      <th></th>\n",
              "      <th>Purchase</th>\n",
              "      <th>SUS</th>\n",
              "      <th>Duration</th>\n",
              "      <th>Gender</th>\n",
              "      <th>ASR_Error</th>\n",
              "      <th>Intent_Error</th>\n",
              "    </tr>\n",
              "  </thead>\n",
              "  <tbody>\n",
              "    <tr>\n",
              "      <th>0</th>\n",
              "      <td>1</td>\n",
              "      <td>84</td>\n",
              "      <td>254</td>\n",
              "      <td>0</td>\n",
              "      <td>3</td>\n",
              "      <td>2</td>\n",
              "    </tr>\n",
              "    <tr>\n",
              "      <th>1</th>\n",
              "      <td>0</td>\n",
              "      <td>58</td>\n",
              "      <td>247</td>\n",
              "      <td>0</td>\n",
              "      <td>6</td>\n",
              "      <td>9</td>\n",
              "    </tr>\n",
              "    <tr>\n",
              "      <th>2</th>\n",
              "      <td>0</td>\n",
              "      <td>56</td>\n",
              "      <td>125</td>\n",
              "      <td>1</td>\n",
              "      <td>6</td>\n",
              "      <td>8</td>\n",
              "    </tr>\n",
              "    <tr>\n",
              "      <th>3</th>\n",
              "      <td>0</td>\n",
              "      <td>55</td>\n",
              "      <td>22</td>\n",
              "      <td>0</td>\n",
              "      <td>11</td>\n",
              "      <td>7</td>\n",
              "    </tr>\n",
              "    <tr>\n",
              "      <th>4</th>\n",
              "      <td>1</td>\n",
              "      <td>95</td>\n",
              "      <td>262</td>\n",
              "      <td>0</td>\n",
              "      <td>2</td>\n",
              "      <td>3</td>\n",
              "    </tr>\n",
              "  </tbody>\n",
              "</table>\n",
              "</div>\n",
              "      <button class=\"colab-df-convert\" onclick=\"convertToInteractive('df-ac1404eb-1ef5-40a4-b193-1a632c057faf')\"\n",
              "              title=\"Convert this dataframe to an interactive table.\"\n",
              "              style=\"display:none;\">\n",
              "        \n",
              "  <svg xmlns=\"http://www.w3.org/2000/svg\" height=\"24px\"viewBox=\"0 0 24 24\"\n",
              "       width=\"24px\">\n",
              "    <path d=\"M0 0h24v24H0V0z\" fill=\"none\"/>\n",
              "    <path d=\"M18.56 5.44l.94 2.06.94-2.06 2.06-.94-2.06-.94-.94-2.06-.94 2.06-2.06.94zm-11 1L8.5 8.5l.94-2.06 2.06-.94-2.06-.94L8.5 2.5l-.94 2.06-2.06.94zm10 10l.94 2.06.94-2.06 2.06-.94-2.06-.94-.94-2.06-.94 2.06-2.06.94z\"/><path d=\"M17.41 7.96l-1.37-1.37c-.4-.4-.92-.59-1.43-.59-.52 0-1.04.2-1.43.59L10.3 9.45l-7.72 7.72c-.78.78-.78 2.05 0 2.83L4 21.41c.39.39.9.59 1.41.59.51 0 1.02-.2 1.41-.59l7.78-7.78 2.81-2.81c.8-.78.8-2.07 0-2.86zM5.41 20L4 18.59l7.72-7.72 1.47 1.35L5.41 20z\"/>\n",
              "  </svg>\n",
              "      </button>\n",
              "      \n",
              "  <style>\n",
              "    .colab-df-container {\n",
              "      display:flex;\n",
              "      flex-wrap:wrap;\n",
              "      gap: 12px;\n",
              "    }\n",
              "\n",
              "    .colab-df-convert {\n",
              "      background-color: #E8F0FE;\n",
              "      border: none;\n",
              "      border-radius: 50%;\n",
              "      cursor: pointer;\n",
              "      display: none;\n",
              "      fill: #1967D2;\n",
              "      height: 32px;\n",
              "      padding: 0 0 0 0;\n",
              "      width: 32px;\n",
              "    }\n",
              "\n",
              "    .colab-df-convert:hover {\n",
              "      background-color: #E2EBFA;\n",
              "      box-shadow: 0px 1px 2px rgba(60, 64, 67, 0.3), 0px 1px 3px 1px rgba(60, 64, 67, 0.15);\n",
              "      fill: #174EA6;\n",
              "    }\n",
              "\n",
              "    [theme=dark] .colab-df-convert {\n",
              "      background-color: #3B4455;\n",
              "      fill: #D2E3FC;\n",
              "    }\n",
              "\n",
              "    [theme=dark] .colab-df-convert:hover {\n",
              "      background-color: #434B5C;\n",
              "      box-shadow: 0px 1px 3px 1px rgba(0, 0, 0, 0.15);\n",
              "      filter: drop-shadow(0px 1px 2px rgba(0, 0, 0, 0.3));\n",
              "      fill: #FFFFFF;\n",
              "    }\n",
              "  </style>\n",
              "\n",
              "      <script>\n",
              "        const buttonEl =\n",
              "          document.querySelector('#df-ac1404eb-1ef5-40a4-b193-1a632c057faf button.colab-df-convert');\n",
              "        buttonEl.style.display =\n",
              "          google.colab.kernel.accessAllowed ? 'block' : 'none';\n",
              "\n",
              "        async function convertToInteractive(key) {\n",
              "          const element = document.querySelector('#df-ac1404eb-1ef5-40a4-b193-1a632c057faf');\n",
              "          const dataTable =\n",
              "            await google.colab.kernel.invokeFunction('convertToInteractive',\n",
              "                                                     [key], {});\n",
              "          if (!dataTable) return;\n",
              "\n",
              "          const docLinkHtml = 'Like what you see? Visit the ' +\n",
              "            '<a target=\"_blank\" href=https://colab.research.google.com/notebooks/data_table.ipynb>data table notebook</a>'\n",
              "            + ' to learn more about interactive tables.';\n",
              "          element.innerHTML = '';\n",
              "          dataTable['output_type'] = 'display_data';\n",
              "          await google.colab.output.renderOutput(dataTable, element);\n",
              "          const docLink = document.createElement('div');\n",
              "          docLink.innerHTML = docLinkHtml;\n",
              "          element.appendChild(docLink);\n",
              "        }\n",
              "      </script>\n",
              "    </div>\n",
              "  </div>\n",
              "  "
            ]
          },
          "metadata": {},
          "execution_count": 7
        }
      ]
    },
    {
      "cell_type": "markdown",
      "source": [
        "#### 1. Logistic Regression."
      ],
      "metadata": {
        "id": "nf9pcGRxGsYf"
      }
    },
    {
      "cell_type": "code",
      "source": [
        "from sklearn.linear_model import LogisticRegression\n",
        "\n",
        "X = datadf.drop(\"Purchase\", axis = 1)\n",
        "y = datadf[\"Purchase\"]"
      ],
      "metadata": {
        "id": "ZdDZIhd-Gwz-"
      },
      "execution_count": 72,
      "outputs": []
    },
    {
      "cell_type": "code",
      "source": [
        "X, y"
      ],
      "metadata": {
        "colab": {
          "base_uri": "https://localhost:8080/"
        },
        "id": "O5tYfRlbHknY",
        "outputId": "803c4c94-d030-4e3d-bd11-e4e967e19bc5"
      },
      "execution_count": 73,
      "outputs": [
        {
          "output_type": "execute_result",
          "data": {
            "text/plain": [
              "(    SUS  Duration  Gender  ASR_Error  Intent_Error\n",
              " 0    84       254       0          3             2\n",
              " 1    58       247       0          6             9\n",
              " 2    56       125       1          6             8\n",
              " 3    55        22       0         11             7\n",
              " 4    95       262       0          2             3\n",
              " ..  ...       ...     ...        ...           ...\n",
              " 95   57       358       0         13             7\n",
              " 96   93        71       0          3             0\n",
              " 97   80        34       1          0             9\n",
              " 98   82        49       1          4             1\n",
              " 99   78       213       0          1             4\n",
              " \n",
              " [100 rows x 5 columns], 0     1\n",
              " 1     0\n",
              " 2     0\n",
              " 3     0\n",
              " 4     1\n",
              "      ..\n",
              " 95    0\n",
              " 96    1\n",
              " 97    0\n",
              " 98    1\n",
              " 99    1\n",
              " Name: Purchase, Length: 100, dtype: int64)"
            ]
          },
          "metadata": {},
          "execution_count": 73
        }
      ]
    },
    {
      "cell_type": "code",
      "source": [
        "from sklearn.model_selection import train_test_split\n",
        "\n",
        "np.random.seed(42)\n",
        "X_train, X_test, y_train, y_test = train_test_split(X,\n",
        "                                                    y,\n",
        "                                                    test_size = 0.2)\n",
        "\n",
        "# We must now scale the data:\n",
        "\n",
        "scaler = StandardScaler()\n",
        "X_train = scaler.fit_transform(X_train) # We only want to fit the model into the training data, not the test data.\n",
        "X_test = scaler.transform(X_test)\n",
        "\n",
        "clf = LogisticRegression()\n",
        "clf.fit(X_train, y_train)"
      ],
      "metadata": {
        "colab": {
          "base_uri": "https://localhost:8080/"
        },
        "id": "Ak7mVY2xHmzv",
        "outputId": "cde2653e-4046-4d18-e7e1-e513bb13961c"
      },
      "execution_count": 74,
      "outputs": [
        {
          "output_type": "execute_result",
          "data": {
            "text/plain": [
              "LogisticRegression()"
            ]
          },
          "metadata": {},
          "execution_count": 74
        }
      ]
    },
    {
      "cell_type": "code",
      "source": [
        "clf.score(X_test, y_test)"
      ],
      "metadata": {
        "colab": {
          "base_uri": "https://localhost:8080/"
        },
        "id": "hPh7-BCPIjEu",
        "outputId": "883a988d-b207-4b98-cb87-2356819c2718"
      },
      "execution_count": 75,
      "outputs": [
        {
          "output_type": "execute_result",
          "data": {
            "text/plain": [
              "0.95"
            ]
          },
          "metadata": {},
          "execution_count": 75
        }
      ]
    },
    {
      "cell_type": "code",
      "source": [
        "y_pred = clf.predict(X_test)\n",
        "y_pred"
      ],
      "metadata": {
        "colab": {
          "base_uri": "https://localhost:8080/"
        },
        "id": "0cXIJsjaImwB",
        "outputId": "e2dd0a4f-9fd6-4b39-c45a-e9ab81a8126a"
      },
      "execution_count": 76,
      "outputs": [
        {
          "output_type": "execute_result",
          "data": {
            "text/plain": [
              "array([0, 0, 1, 1, 1, 1, 1, 0, 0, 1, 0, 0, 1, 1, 0, 1, 0, 0, 0, 0])"
            ]
          },
          "metadata": {},
          "execution_count": 76
        }
      ]
    },
    {
      "cell_type": "code",
      "source": [
        "np.mean(y_pred == y_test)"
      ],
      "metadata": {
        "colab": {
          "base_uri": "https://localhost:8080/"
        },
        "id": "cOXtmAsAIxrt",
        "outputId": "9f55f3d8-78a5-4d08-9088-0e18188e7145"
      },
      "execution_count": 77,
      "outputs": [
        {
          "output_type": "execute_result",
          "data": {
            "text/plain": [
              "0.95"
            ]
          },
          "metadata": {},
          "execution_count": 77
        }
      ]
    },
    {
      "cell_type": "markdown",
      "source": [
        "Evaluation metrics to be implemented:\n",
        "\n",
        "1. Confusion matrix.\n",
        "2. ROC Curve.\n",
        "3. Area under curve."
      ],
      "metadata": {
        "id": "P5tWN9rQI5fJ"
      }
    },
    {
      "cell_type": "code",
      "source": [
        "from sklearn.metrics import ConfusionMatrixDisplay\n",
        "from sklearn.metrics import roc_curve\n",
        "from sklearn.metrics import roc_auc_score\n",
        "\n",
        "ConfusionMatrixDisplay.from_estimator(estimator = clf, X = X, y = y)"
      ],
      "metadata": {
        "colab": {
          "base_uri": "https://localhost:8080/",
          "height": 353
        },
        "id": "kSaTjc0ZJWVm",
        "outputId": "a10b0399-472b-4ec2-eb39-02d28c121913"
      },
      "execution_count": 78,
      "outputs": [
        {
          "output_type": "stream",
          "name": "stderr",
          "text": [
            "/usr/local/lib/python3.8/dist-packages/sklearn/base.py:443: UserWarning: X has feature names, but LogisticRegression was fitted without feature names\n",
            "  warnings.warn(\n"
          ]
        },
        {
          "output_type": "execute_result",
          "data": {
            "text/plain": [
              "<sklearn.metrics._plot.confusion_matrix.ConfusionMatrixDisplay at 0x7f65819e83d0>"
            ]
          },
          "metadata": {},
          "execution_count": 78
        },
        {
          "output_type": "display_data",
          "data": {
            "text/plain": [
              "<Figure size 432x288 with 2 Axes>"
            ],
            "image/png": "[encoded data removed]"
          },
          "metadata": {
            "needs_background": "light"
          }
        }
      ]
    },
    {
      "cell_type": "code",
      "source": [
        "y_pred = clf.predict(X_test)\n",
        "\n",
        "ConfusionMatrixDisplay.from_predictions(y_true = y_test, y_pred = y_pred)"
      ],
      "metadata": {
        "colab": {
          "base_uri": "https://localhost:8080/",
          "height": 301
        },
        "id": "mcUvjhnaKDrq",
        "outputId": "2c24fb52-2d58-4e95-8288-76442b1d6846"
      },
      "execution_count": 79,
      "outputs": [
        {
          "output_type": "execute_result",
          "data": {
            "text/plain": [
              "<sklearn.metrics._plot.confusion_matrix.ConfusionMatrixDisplay at 0x7f6580b1a760>"
            ]
          },
          "metadata": {},
          "execution_count": 79
        },
        {
          "output_type": "display_data",
          "data": {
            "text/plain": [
              "<Figure size 432x288 with 2 Axes>"
            ],
            "image/png": "[encoded data removed]"
          },
          "metadata": {
            "needs_background": "light"
          }
        }
      ]
    },
    {
      "cell_type": "code",
      "source": [
        "# Create a function for plotting ROC curves.\n",
        "\n",
        "def plot_roc_curve(fpr, tpr):\n",
        "  \"\"\"\n",
        "  Plots an ROC curve given the false-positive rate (fpr)\n",
        "  and the true-positive rate (tpr) of a model.\n",
        "  \"\"\"\n",
        "\n",
        "  # Plot the ROC curve:\n",
        "  plt.plot(fpr, tpr, color = \"orange\", label = \"ROC\")\n",
        "  # Plot line with no predictive baseline to compare our model to an arbitrary model that predicts nothing:\n",
        "  plt.plot([0, 1], [0, 1], color = \"darkblue\", linestyle = \"--\", label = \"Guessing\")\n",
        "  # Customize the plot:\n",
        "  plt.xlabel(\"False-positive rate (FPR)\")\n",
        "  plt.ylabel(\"True-positive rate (TPR)\")\n",
        "  plt.title(\"Receiver Operating Characteristic (ROC) Curve\")\n",
        "  plt.show()\n",
        "\n",
        "y_probs = clf.predict_proba(X_test)\n",
        "\n",
        "# Getting probabilities only for positive class (predicted '1') using slicing.\n",
        "\n",
        "y_probs_positive = y_probs[:, 1]\n",
        "\n",
        "# Calculate FPR, TPR and thresholds:\n",
        "\n",
        "fpr, tpr, thresholds = roc_curve(y_test, y_probs_positive)\n",
        "\n",
        "plot_roc_curve(fpr, tpr)"
      ],
      "metadata": {
        "id": "4Ka8Gr6sKYW1",
        "colab": {
          "base_uri": "https://localhost:8080/",
          "height": 295
        },
        "outputId": "1a045444-f5f3-4deb-8014-63e7cb3701d5"
      },
      "execution_count": 80,
      "outputs": [
        {
          "output_type": "display_data",
          "data": {
            "text/plain": [
              "<Figure size 432x288 with 1 Axes>"
            ],
            "image/png": "[encoded data removed]"
          },
          "metadata": {
            "needs_background": "light"
          }
        }
      ]
    },
    {
      "cell_type": "code",
      "source": [
        "# Area under curve score:\n",
        "\n",
        "roc_auc_score(y_test, y_probs_positive)"
      ],
      "metadata": {
        "colab": {
          "base_uri": "https://localhost:8080/"
        },
        "id": "iltZs4llya4f",
        "outputId": "8d605bf5-7735-4891-c843-80e8be9e7422"
      },
      "execution_count": 81,
      "outputs": [
        {
          "output_type": "execute_result",
          "data": {
            "text/plain": [
              "0.9400000000000001"
            ]
          },
          "metadata": {},
          "execution_count": 81
        }
      ]
    },
    {
      "cell_type": "code",
      "source": [
        "from sklearn.metrics import classification_report\n",
        "\n",
        "print(classification_report(y_test, y_pred))"
      ],
      "metadata": {
        "colab": {
          "base_uri": "https://localhost:8080/"
        },
        "id": "S4Cw7vmDhII7",
        "outputId": "7520b62c-deb8-4a2b-8867-c514499bde7b"
      },
      "execution_count": 82,
      "outputs": [
        {
          "output_type": "stream",
          "name": "stdout",
          "text": [
            "              precision    recall  f1-score   support\n",
            "\n",
            "           0       0.91      1.00      0.95        10\n",
            "           1       1.00      0.90      0.95        10\n",
            "\n",
            "    accuracy                           0.95        20\n",
            "   macro avg       0.95      0.95      0.95        20\n",
            "weighted avg       0.95      0.95      0.95        20\n",
            "\n"
          ]
        }
      ]
    },
    {
      "cell_type": "markdown",
      "source": [
        "#### 2. SVM"
      ],
      "metadata": {
        "id": "-HqWHvkczKTN"
      }
    },
    {
      "cell_type": "code",
      "source": [
        "from sklearn import svm\n",
        "\n",
        " # Features: ASR_Error, IntentError, Duration and Gender.\n",
        " # Target: Purchase.\n",
        "X = datadf.drop(\"Purchase\", axis = 1)\n",
        "y = datadf[\"Purchase\"]"
      ],
      "metadata": {
        "id": "yYI4Sx35X9Cg"
      },
      "execution_count": 18,
      "outputs": []
    },
    {
      "cell_type": "code",
      "source": [
        "datadf.head()"
      ],
      "metadata": {
        "colab": {
          "base_uri": "https://localhost:8080/",
          "height": 206
        },
        "id": "kMrsGgLzYIjz",
        "outputId": "ed111a36-4fbe-45a8-d58e-142eb618d430"
      },
      "execution_count": 19,
      "outputs": [
        {
          "output_type": "execute_result",
          "data": {
            "text/plain": [
              "   Purchase  SUS  Duration  Gender  ASR_Error  Intent_Error\n",
              "0         1   84       254       0          3             2\n",
              "1         0   58       247       0          6             9\n",
              "2         0   56       125       1          6             8\n",
              "3         0   55        22       0         11             7\n",
              "4         1   95       262       0          2             3"
            ],
            "text/html": [
              "\n",
              "  <div id=\"df-c57947f0-7aac-4c4e-9796-e8f34f1a7943\">\n",
              "    <div class=\"colab-df-container\">\n",
              "      <div>\n",
              "<style scoped>\n",
              "    .dataframe tbody tr th:only-of-type {\n",
              "        vertical-align: middle;\n",
              "    }\n",
              "\n",
              "    .dataframe tbody tr th {\n",
              "        vertical-align: top;\n",
              "    }\n",
              "\n",
              "    .dataframe thead th {\n",
              "        text-align: right;\n",
              "    }\n",
              "</style>\n",
              "<table border=\"1\" class=\"dataframe\">\n",
              "  <thead>\n",
              "    <tr style=\"text-align: right;\">\n",
              "      <th></th>\n",
              "      <th>Purchase</th>\n",
              "      <th>SUS</th>\n",
              "      <th>Duration</th>\n",
              "      <th>Gender</th>\n",
              "      <th>ASR_Error</th>\n",
              "      <th>Intent_Error</th>\n",
              "    </tr>\n",
              "  </thead>\n",
              "  <tbody>\n",
              "    <tr>\n",
              "      <th>0</th>\n",
              "      <td>1</td>\n",
              "      <td>84</td>\n",
              "      <td>254</td>\n",
              "      <td>0</td>\n",
              "      <td>3</td>\n",
              "      <td>2</td>\n",
              "    </tr>\n",
              "    <tr>\n",
              "      <th>1</th>\n",
              "      <td>0</td>\n",
              "      <td>58</td>\n",
              "      <td>247</td>\n",
              "      <td>0</td>\n",
              "      <td>6</td>\n",
              "      <td>9</td>\n",
              "    </tr>\n",
              "    <tr>\n",
              "      <th>2</th>\n",
              "      <td>0</td>\n",
              "      <td>56</td>\n",
              "      <td>125</td>\n",
              "      <td>1</td>\n",
              "      <td>6</td>\n",
              "      <td>8</td>\n",
              "    </tr>\n",
              "    <tr>\n",
              "      <th>3</th>\n",
              "      <td>0</td>\n",
              "      <td>55</td>\n",
              "      <td>22</td>\n",
              "      <td>0</td>\n",
              "      <td>11</td>\n",
              "      <td>7</td>\n",
              "    </tr>\n",
              "    <tr>\n",
              "      <th>4</th>\n",
              "      <td>1</td>\n",
              "      <td>95</td>\n",
              "      <td>262</td>\n",
              "      <td>0</td>\n",
              "      <td>2</td>\n",
              "      <td>3</td>\n",
              "    </tr>\n",
              "  </tbody>\n",
              "</table>\n",
              "</div>\n",
              "      <button class=\"colab-df-convert\" onclick=\"convertToInteractive('df-c57947f0-7aac-4c4e-9796-e8f34f1a7943')\"\n",
              "              title=\"Convert this dataframe to an interactive table.\"\n",
              "              style=\"display:none;\">\n",
              "        \n",
              "  <svg xmlns=\"http://www.w3.org/2000/svg\" height=\"24px\"viewBox=\"0 0 24 24\"\n",
              "       width=\"24px\">\n",
              "    <path d=\"M0 0h24v24H0V0z\" fill=\"none\"/>\n",
              "    <path d=\"M18.56 5.44l.94 2.06.94-2.06 2.06-.94-2.06-.94-.94-2.06-.94 2.06-2.06.94zm-11 1L8.5 8.5l.94-2.06 2.06-.94-2.06-.94L8.5 2.5l-.94 2.06-2.06.94zm10 10l.94 2.06.94-2.06 2.06-.94-2.06-.94-.94-2.06-.94 2.06-2.06.94z\"/><path d=\"M17.41 7.96l-1.37-1.37c-.4-.4-.92-.59-1.43-.59-.52 0-1.04.2-1.43.59L10.3 9.45l-7.72 7.72c-.78.78-.78 2.05 0 2.83L4 21.41c.39.39.9.59 1.41.59.51 0 1.02-.2 1.41-.59l7.78-7.78 2.81-2.81c.8-.78.8-2.07 0-2.86zM5.41 20L4 18.59l7.72-7.72 1.47 1.35L5.41 20z\"/>\n",
              "  </svg>\n",
              "      </button>\n",
              "      \n",
              "  <style>\n",
              "    .colab-df-container {\n",
              "      display:flex;\n",
              "      flex-wrap:wrap;\n",
              "      gap: 12px;\n",
              "    }\n",
              "\n",
              "    .colab-df-convert {\n",
              "      background-color: #E8F0FE;\n",
              "      border: none;\n",
              "      border-radius: 50%;\n",
              "      cursor: pointer;\n",
              "      display: none;\n",
              "      fill: #1967D2;\n",
              "      height: 32px;\n",
              "      padding: 0 0 0 0;\n",
              "      width: 32px;\n",
              "    }\n",
              "\n",
              "    .colab-df-convert:hover {\n",
              "      background-color: #E2EBFA;\n",
              "      box-shadow: 0px 1px 2px rgba(60, 64, 67, 0.3), 0px 1px 3px 1px rgba(60, 64, 67, 0.15);\n",
              "      fill: #174EA6;\n",
              "    }\n",
              "\n",
              "    [theme=dark] .colab-df-convert {\n",
              "      background-color: #3B4455;\n",
              "      fill: #D2E3FC;\n",
              "    }\n",
              "\n",
              "    [theme=dark] .colab-df-convert:hover {\n",
              "      background-color: #434B5C;\n",
              "      box-shadow: 0px 1px 3px 1px rgba(0, 0, 0, 0.15);\n",
              "      filter: drop-shadow(0px 1px 2px rgba(0, 0, 0, 0.3));\n",
              "      fill: #FFFFFF;\n",
              "    }\n",
              "  </style>\n",
              "\n",
              "      <script>\n",
              "        const buttonEl =\n",
              "          document.querySelector('#df-c57947f0-7aac-4c4e-9796-e8f34f1a7943 button.colab-df-convert');\n",
              "        buttonEl.style.display =\n",
              "          google.colab.kernel.accessAllowed ? 'block' : 'none';\n",
              "\n",
              "        async function convertToInteractive(key) {\n",
              "          const element = document.querySelector('#df-c57947f0-7aac-4c4e-9796-e8f34f1a7943');\n",
              "          const dataTable =\n",
              "            await google.colab.kernel.invokeFunction('convertToInteractive',\n",
              "                                                     [key], {});\n",
              "          if (!dataTable) return;\n",
              "\n",
              "          const docLinkHtml = 'Like what you see? Visit the ' +\n",
              "            '<a target=\"_blank\" href=https://colab.research.google.com/notebooks/data_table.ipynb>data table notebook</a>'\n",
              "            + ' to learn more about interactive tables.';\n",
              "          element.innerHTML = '';\n",
              "          dataTable['output_type'] = 'display_data';\n",
              "          await google.colab.output.renderOutput(dataTable, element);\n",
              "          const docLink = document.createElement('div');\n",
              "          docLink.innerHTML = docLinkHtml;\n",
              "          element.appendChild(docLink);\n",
              "        }\n",
              "      </script>\n",
              "    </div>\n",
              "  </div>\n",
              "  "
            ]
          },
          "metadata": {},
          "execution_count": 19
        }
      ]
    },
    {
      "cell_type": "code",
      "source": [
        "from sklearn.model_selection import train_test_split\n",
        "\n",
        "np.random.seed(42)\n",
        "X_train, X_test, y_train, y_test = train_test_split(X,\n",
        "                                                    y,\n",
        "                                                    test_size = 0.2)\n",
        "\n",
        "# We must now scale the data:\n",
        "\n",
        "scaler = StandardScaler()\n",
        "X_train = scaler.fit_transform(X_train) # We only want to fit the model into the training data, not the test data.\n",
        "X_test = scaler.transform(X_test)\n",
        "\n",
        "clf = svm.SVC(probability = True)\n",
        "clf.fit(X_train, y_train)"
      ],
      "metadata": {
        "colab": {
          "base_uri": "https://localhost:8080/"
        },
        "id": "1EpUkg6pYJaM",
        "outputId": "84ffd371-dc62-4f01-d242-efdd79430b8f"
      },
      "execution_count": 63,
      "outputs": [
        {
          "output_type": "execute_result",
          "data": {
            "text/plain": [
              "SVC(probability=True)"
            ]
          },
          "metadata": {},
          "execution_count": 63
        }
      ]
    },
    {
      "cell_type": "code",
      "source": [
        "clf.score(X_test, y_test)"
      ],
      "metadata": {
        "colab": {
          "base_uri": "https://localhost:8080/"
        },
        "id": "aa2pWlj6Y-VL",
        "outputId": "7de8a4a9-d805-4695-9a3e-21cf8c90e942"
      },
      "execution_count": 64,
      "outputs": [
        {
          "output_type": "execute_result",
          "data": {
            "text/plain": [
              "0.95"
            ]
          },
          "metadata": {},
          "execution_count": 64
        }
      ]
    },
    {
      "cell_type": "code",
      "source": [
        "y_pred = clf.predict(X_test)\n",
        "y_pred"
      ],
      "metadata": {
        "colab": {
          "base_uri": "https://localhost:8080/"
        },
        "id": "vR64TCwgZLUF",
        "outputId": "fd9be672-9548-4db0-f9f4-91317b6a318d"
      },
      "execution_count": 65,
      "outputs": [
        {
          "output_type": "execute_result",
          "data": {
            "text/plain": [
              "array([0, 0, 1, 1, 1, 1, 1, 0, 0, 1, 0, 0, 1, 1, 0, 1, 0, 0, 0, 0])"
            ]
          },
          "metadata": {},
          "execution_count": 65
        }
      ]
    },
    {
      "cell_type": "code",
      "source": [
        "np.mean(y_pred == y_test)"
      ],
      "metadata": {
        "colab": {
          "base_uri": "https://localhost:8080/"
        },
        "id": "-iJ04rydZRZC",
        "outputId": "a14f75fd-1287-411d-de61-c410b79385c5"
      },
      "execution_count": 66,
      "outputs": [
        {
          "output_type": "execute_result",
          "data": {
            "text/plain": [
              "0.95"
            ]
          },
          "metadata": {},
          "execution_count": 66
        }
      ]
    },
    {
      "cell_type": "markdown",
      "source": [
        "Evaluation metrics to be implemented:\n",
        "\n",
        "1. Confusion matrix.\n",
        "2. ROC Curve.\n",
        "3. Area under curve."
      ],
      "metadata": {
        "id": "NKfgYbZfZT3x"
      }
    },
    {
      "cell_type": "code",
      "source": [
        "ConfusionMatrixDisplay.from_predictions(y_true = y_test, y_pred = y_pred)"
      ],
      "metadata": {
        "colab": {
          "base_uri": "https://localhost:8080/",
          "height": 301
        },
        "id": "g4VT4rl7ZnsK",
        "outputId": "eef45164-4bf4-4a1d-8dd1-0d0d69b9f9e4"
      },
      "execution_count": 67,
      "outputs": [
        {
          "output_type": "execute_result",
          "data": {
            "text/plain": [
              "<sklearn.metrics._plot.confusion_matrix.ConfusionMatrixDisplay at 0x7f6580cc2370>"
            ]
          },
          "metadata": {},
          "execution_count": 67
        },
        {
          "output_type": "display_data",
          "data": {
            "text/plain": [
              "<Figure size 432x288 with 2 Axes>"
            ],
            "image/png": "[encoded data removed]"
          },
          "metadata": {
            "needs_background": "light"
          }
        }
      ]
    },
    {
      "cell_type": "code",
      "source": [
        "# Create a function for plotting ROC curves.\n",
        "\n",
        "def plot_roc_curve(fpr, tpr):\n",
        "  \"\"\"\n",
        "  Plots an ROC curve given the false-positive rate (fpr)\n",
        "  and the true-positive rate (tpr) of a model.\n",
        "  \"\"\"\n",
        "\n",
        "  # Plot the ROC curve:\n",
        "  plt.plot(fpr, tpr, color = \"orange\", label = \"ROC\")\n",
        "  # Plot line with no predictive baseline to compare our model to an arbitrary model that predicts nothing:\n",
        "  plt.plot([0, 1], [0, 1], color = \"darkblue\", linestyle = \"--\", label = \"Guessing\")\n",
        "  # Customize the plot:\n",
        "  plt.xlabel(\"False-positive rate (FPR)\")\n",
        "  plt.ylabel(\"True-positive rate (TPR)\")\n",
        "  plt.title(\"Receiver Operating Characteristic (ROC) Curve\")\n",
        "  plt.show()"
      ],
      "metadata": {
        "id": "LJrPQSp_ZwHl"
      },
      "execution_count": 68,
      "outputs": []
    },
    {
      "cell_type": "code",
      "source": [
        "y_probs = clf.predict_proba(X_test)\n",
        "\n",
        "# Getting probabilities only for positive class (predicted '1') using slicing.\n",
        "\n",
        "y_probs_positive = y_probs[:, 1]\n",
        "\n",
        "# Calculate FPR, TPR and thresholds:\n",
        "\n",
        "fpr, tpr, thresholds = roc_curve(y_test, y_probs_positive)\n",
        "\n",
        "plot_roc_curve(fpr, tpr)"
      ],
      "metadata": {
        "colab": {
          "base_uri": "https://localhost:8080/",
          "height": 295
        },
        "id": "s3fFbQWIZ0xF",
        "outputId": "a5238300-3eee-4f51-a8dd-51f93aeaa33c"
      },
      "execution_count": 69,
      "outputs": [
        {
          "output_type": "display_data",
          "data": {
            "text/plain": [
              "<Figure size 432x288 with 1 Axes>"
            ],
            "image/png": "[encoded data removed]"
          },
          "metadata": {
            "needs_background": "light"
          }
        }
      ]
    },
    {
      "cell_type": "code",
      "source": [
        "# Area under curve score:\n",
        "\n",
        "roc_auc_score(y_test, y_probs_positive)"
      ],
      "metadata": {
        "colab": {
          "base_uri": "https://localhost:8080/"
        },
        "id": "lJUWv3JZZ24I",
        "outputId": "43f3bf8c-6eb3-4438-c7aa-9219d6e4c911"
      },
      "execution_count": 70,
      "outputs": [
        {
          "output_type": "execute_result",
          "data": {
            "text/plain": [
              "0.95"
            ]
          },
          "metadata": {},
          "execution_count": 70
        }
      ]
    },
    {
      "cell_type": "code",
      "source": [
        "from sklearn.metrics import classification_report\n",
        "\n",
        "print(classification_report(y_test, y_pred))"
      ],
      "metadata": {
        "colab": {
          "base_uri": "https://localhost:8080/"
        },
        "id": "arLeAwcQg_wf",
        "outputId": "c9880f27-c8d4-47eb-9d49-9cf7f8132296"
      },
      "execution_count": 71,
      "outputs": [
        {
          "output_type": "stream",
          "name": "stdout",
          "text": [
            "              precision    recall  f1-score   support\n",
            "\n",
            "           0       0.91      1.00      0.95        10\n",
            "           1       1.00      0.90      0.95        10\n",
            "\n",
            "    accuracy                           0.95        20\n",
            "   macro avg       0.95      0.95      0.95        20\n",
            "weighted avg       0.95      0.95      0.95        20\n",
            "\n"
          ]
        }
      ]
    },
    {
      "cell_type": "markdown",
      "source": [
        "#### 3. Naive Bayes."
      ],
      "metadata": {
        "id": "s3UVCXS3aV4M"
      }
    },
    {
      "cell_type": "code",
      "source": [
        "# Implement Gaussian Naive Bayes:\n",
        "\n",
        "from sklearn.model_selection import train_test_split\n",
        "from sklearn.naive_bayes import GaussianNB\n",
        "\n",
        "X = datadf.drop(\"Purchase\", axis = 1)\n",
        "y = datadf[\"Purchase\"]"
      ],
      "metadata": {
        "id": "ZiiEiUhPaZ7I"
      },
      "execution_count": 54,
      "outputs": []
    },
    {
      "cell_type": "code",
      "source": [
        "datadf.head()"
      ],
      "metadata": {
        "colab": {
          "base_uri": "https://localhost:8080/",
          "height": 206
        },
        "id": "zouWpp_ybq58",
        "outputId": "3f103743-5e2b-4b06-e891-ac44de40e95c"
      },
      "execution_count": 55,
      "outputs": [
        {
          "output_type": "execute_result",
          "data": {
            "text/plain": [
              "   Purchase  SUS  Duration  Gender  ASR_Error  Intent_Error\n",
              "0         1   84       254       0          3             2\n",
              "1         0   58       247       0          6             9\n",
              "2         0   56       125       1          6             8\n",
              "3         0   55        22       0         11             7\n",
              "4         1   95       262       0          2             3"
            ],
            "text/html": [
              "\n",
              "  <div id=\"df-302ead22-5603-4d16-9f5a-eeb9e5e11496\">\n",
              "    <div class=\"colab-df-container\">\n",
              "      <div>\n",
              "<style scoped>\n",
              "    .dataframe tbody tr th:only-of-type {\n",
              "        vertical-align: middle;\n",
              "    }\n",
              "\n",
              "    .dataframe tbody tr th {\n",
              "        vertical-align: top;\n",
              "    }\n",
              "\n",
              "    .dataframe thead th {\n",
              "        text-align: right;\n",
              "    }\n",
              "</style>\n",
              "<table border=\"1\" class=\"dataframe\">\n",
              "  <thead>\n",
              "    <tr style=\"text-align: right;\">\n",
              "      <th></th>\n",
              "      <th>Purchase</th>\n",
              "      <th>SUS</th>\n",
              "      <th>Duration</th>\n",
              "      <th>Gender</th>\n",
              "      <th>ASR_Error</th>\n",
              "      <th>Intent_Error</th>\n",
              "    </tr>\n",
              "  </thead>\n",
              "  <tbody>\n",
              "    <tr>\n",
              "      <th>0</th>\n",
              "      <td>1</td>\n",
              "      <td>84</td>\n",
              "      <td>254</td>\n",
              "      <td>0</td>\n",
              "      <td>3</td>\n",
              "      <td>2</td>\n",
              "    </tr>\n",
              "    <tr>\n",
              "      <th>1</th>\n",
              "      <td>0</td>\n",
              "      <td>58</td>\n",
              "      <td>247</td>\n",
              "      <td>0</td>\n",
              "      <td>6</td>\n",
              "      <td>9</td>\n",
              "    </tr>\n",
              "    <tr>\n",
              "      <th>2</th>\n",
              "      <td>0</td>\n",
              "      <td>56</td>\n",
              "      <td>125</td>\n",
              "      <td>1</td>\n",
              "      <td>6</td>\n",
              "      <td>8</td>\n",
              "    </tr>\n",
              "    <tr>\n",
              "      <th>3</th>\n",
              "      <td>0</td>\n",
              "      <td>55</td>\n",
              "      <td>22</td>\n",
              "      <td>0</td>\n",
              "      <td>11</td>\n",
              "      <td>7</td>\n",
              "    </tr>\n",
              "    <tr>\n",
              "      <th>4</th>\n",
              "      <td>1</td>\n",
              "      <td>95</td>\n",
              "      <td>262</td>\n",
              "      <td>0</td>\n",
              "      <td>2</td>\n",
              "      <td>3</td>\n",
              "    </tr>\n",
              "  </tbody>\n",
              "</table>\n",
              "</div>\n",
              "      <button class=\"colab-df-convert\" onclick=\"convertToInteractive('df-302ead22-5603-4d16-9f5a-eeb9e5e11496')\"\n",
              "              title=\"Convert this dataframe to an interactive table.\"\n",
              "              style=\"display:none;\">\n",
              "        \n",
              "  <svg xmlns=\"http://www.w3.org/2000/svg\" height=\"24px\"viewBox=\"0 0 24 24\"\n",
              "       width=\"24px\">\n",
              "    <path d=\"M0 0h24v24H0V0z\" fill=\"none\"/>\n",
              "    <path d=\"M18.56 5.44l.94 2.06.94-2.06 2.06-.94-2.06-.94-.94-2.06-.94 2.06-2.06.94zm-11 1L8.5 8.5l.94-2.06 2.06-.94-2.06-.94L8.5 2.5l-.94 2.06-2.06.94zm10 10l.94 2.06.94-2.06 2.06-.94-2.06-.94-.94-2.06-.94 2.06-2.06.94z\"/><path d=\"M17.41 7.96l-1.37-1.37c-.4-.4-.92-.59-1.43-.59-.52 0-1.04.2-1.43.59L10.3 9.45l-7.72 7.72c-.78.78-.78 2.05 0 2.83L4 21.41c.39.39.9.59 1.41.59.51 0 1.02-.2 1.41-.59l7.78-7.78 2.81-2.81c.8-.78.8-2.07 0-2.86zM5.41 20L4 18.59l7.72-7.72 1.47 1.35L5.41 20z\"/>\n",
              "  </svg>\n",
              "      </button>\n",
              "      \n",
              "  <style>\n",
              "    .colab-df-container {\n",
              "      display:flex;\n",
              "      flex-wrap:wrap;\n",
              "      gap: 12px;\n",
              "    }\n",
              "\n",
              "    .colab-df-convert {\n",
              "      background-color: #E8F0FE;\n",
              "      border: none;\n",
              "      border-radius: 50%;\n",
              "      cursor: pointer;\n",
              "      display: none;\n",
              "      fill: #1967D2;\n",
              "      height: 32px;\n",
              "      padding: 0 0 0 0;\n",
              "      width: 32px;\n",
              "    }\n",
              "\n",
              "    .colab-df-convert:hover {\n",
              "      background-color: #E2EBFA;\n",
              "      box-shadow: 0px 1px 2px rgba(60, 64, 67, 0.3), 0px 1px 3px 1px rgba(60, 64, 67, 0.15);\n",
              "      fill: #174EA6;\n",
              "    }\n",
              "\n",
              "    [theme=dark] .colab-df-convert {\n",
              "      background-color: #3B4455;\n",
              "      fill: #D2E3FC;\n",
              "    }\n",
              "\n",
              "    [theme=dark] .colab-df-convert:hover {\n",
              "      background-color: #434B5C;\n",
              "      box-shadow: 0px 1px 3px 1px rgba(0, 0, 0, 0.15);\n",
              "      filter: drop-shadow(0px 1px 2px rgba(0, 0, 0, 0.3));\n",
              "      fill: #FFFFFF;\n",
              "    }\n",
              "  </style>\n",
              "\n",
              "      <script>\n",
              "        const buttonEl =\n",
              "          document.querySelector('#df-302ead22-5603-4d16-9f5a-eeb9e5e11496 button.colab-df-convert');\n",
              "        buttonEl.style.display =\n",
              "          google.colab.kernel.accessAllowed ? 'block' : 'none';\n",
              "\n",
              "        async function convertToInteractive(key) {\n",
              "          const element = document.querySelector('#df-302ead22-5603-4d16-9f5a-eeb9e5e11496');\n",
              "          const dataTable =\n",
              "            await google.colab.kernel.invokeFunction('convertToInteractive',\n",
              "                                                     [key], {});\n",
              "          if (!dataTable) return;\n",
              "\n",
              "          const docLinkHtml = 'Like what you see? Visit the ' +\n",
              "            '<a target=\"_blank\" href=https://colab.research.google.com/notebooks/data_table.ipynb>data table notebook</a>'\n",
              "            + ' to learn more about interactive tables.';\n",
              "          element.innerHTML = '';\n",
              "          dataTable['output_type'] = 'display_data';\n",
              "          await google.colab.output.renderOutput(dataTable, element);\n",
              "          const docLink = document.createElement('div');\n",
              "          docLink.innerHTML = docLinkHtml;\n",
              "          element.appendChild(docLink);\n",
              "        }\n",
              "      </script>\n",
              "    </div>\n",
              "  </div>\n",
              "  "
            ]
          },
          "metadata": {},
          "execution_count": 55
        }
      ]
    },
    {
      "cell_type": "code",
      "source": [
        "X_train, X_test, y_train, y_test = train_test_split(X,\n",
        "                                                    y,\n",
        "                                                    test_size = 0.2)\n",
        "np.random.seed(42)\n",
        "# We must now scale the data:\n",
        "\n",
        "scaler = StandardScaler()\n",
        "X_train = scaler.fit_transform(X_train) # We only want to fit the model into the training data, not the test data.\n",
        "X_test = scaler.transform(X_test)\n",
        "\n",
        "clf = GaussianNB()\n",
        "clf.fit(X_train, y_train)\n",
        "clf.score(X_train, y_train)"
      ],
      "metadata": {
        "colab": {
          "base_uri": "https://localhost:8080/"
        },
        "id": "zXNfE2eobrkH",
        "outputId": "f97b6e9b-0494-41d1-d97e-795837d99fd9"
      },
      "execution_count": 56,
      "outputs": [
        {
          "output_type": "execute_result",
          "data": {
            "text/plain": [
              "0.925"
            ]
          },
          "metadata": {},
          "execution_count": 56
        }
      ]
    },
    {
      "cell_type": "code",
      "source": [
        "y_pred = clf.predict(X_test)"
      ],
      "metadata": {
        "id": "OigSbh9bhxlA"
      },
      "execution_count": 58,
      "outputs": []
    },
    {
      "cell_type": "code",
      "source": [
        "ConfusionMatrixDisplay.from_predictions(y_true = y_test, y_pred = y_pred)"
      ],
      "metadata": {
        "colab": {
          "base_uri": "https://localhost:8080/",
          "height": 301
        },
        "id": "zjJJCBrLcEW-",
        "outputId": "0f7b6d15-4537-4e95-fc23-da8a439427e1"
      },
      "execution_count": 59,
      "outputs": [
        {
          "output_type": "execute_result",
          "data": {
            "text/plain": [
              "<sklearn.metrics._plot.confusion_matrix.ConfusionMatrixDisplay at 0x7f65819e84c0>"
            ]
          },
          "metadata": {},
          "execution_count": 59
        },
        {
          "output_type": "display_data",
          "data": {
            "text/plain": [
              "<Figure size 432x288 with 2 Axes>"
            ],
            "image/png": "[encoded data removed]"
          },
          "metadata": {
            "needs_background": "light"
          }
        }
      ]
    },
    {
      "cell_type": "code",
      "source": [
        "y_probs = clf.predict_proba(X_test)\n",
        "\n",
        "# Getting probabilities only for positive class (predicted '1') using slicing.\n",
        "\n",
        "y_probs_positive = y_probs[:, 1]\n",
        "\n",
        "# Calculate FPR, TPR and thresholds:\n",
        "\n",
        "fpr, tpr, thresholds = roc_curve(y_test, y_probs_positive)\n",
        "\n",
        "plot_roc_curve(fpr, tpr)"
      ],
      "metadata": {
        "colab": {
          "base_uri": "https://localhost:8080/",
          "height": 295
        },
        "id": "Dof5K7UWgoX0",
        "outputId": "74e6cd4a-31b4-4563-861e-18c0e39d26a0"
      },
      "execution_count": 60,
      "outputs": [
        {
          "output_type": "display_data",
          "data": {
            "text/plain": [
              "<Figure size 432x288 with 1 Axes>"
            ],
            "image/png": "[encoded data removed]"
          },
          "metadata": {
            "needs_background": "light"
          }
        }
      ]
    },
    {
      "cell_type": "code",
      "source": [
        "# Area under curve score:\n",
        "\n",
        "roc_auc_score(y_test, y_probs_positive)"
      ],
      "metadata": {
        "colab": {
          "base_uri": "https://localhost:8080/"
        },
        "id": "IjGrpodSgq0i",
        "outputId": "b00a6c9e-2d35-4818-ea83-07511168f0ae"
      },
      "execution_count": 61,
      "outputs": [
        {
          "output_type": "execute_result",
          "data": {
            "text/plain": [
              "0.9400000000000001"
            ]
          },
          "metadata": {},
          "execution_count": 61
        }
      ]
    },
    {
      "cell_type": "code",
      "source": [
        "from sklearn.metrics import classification_report\n",
        "\n",
        "print(classification_report(y_test, y_pred))"
      ],
      "metadata": {
        "colab": {
          "base_uri": "https://localhost:8080/"
        },
        "id": "9nVmVi9WgyGa",
        "outputId": "4b463297-ef03-4d27-cd70-a39e70d40d5b"
      },
      "execution_count": 62,
      "outputs": [
        {
          "output_type": "stream",
          "name": "stdout",
          "text": [
            "              precision    recall  f1-score   support\n",
            "\n",
            "           0       0.91      1.00      0.95        10\n",
            "           1       1.00      0.90      0.95        10\n",
            "\n",
            "    accuracy                           0.95        20\n",
            "   macro avg       0.95      0.95      0.95        20\n",
            "weighted avg       0.95      0.95      0.95        20\n",
            "\n"
          ]
        }
      ]
    },
    {
      "cell_type": "markdown",
      "source": [
        "#### 4. Random Forest."
      ],
      "metadata": {
        "id": "xqX06etPgsmw"
      }
    },
    {
      "cell_type": "code",
      "source": [
        "from sklearn.model_selection import train_test_split\n",
        "from sklearn.ensemble import RandomForestClassifier\n",
        "\n",
        "X = datadf.drop(\"Purchase\", axis = 1)\n",
        "y = datadf[\"Purchase\"]"
      ],
      "metadata": {
        "id": "Ht02rD_EgvhA"
      },
      "execution_count": 37,
      "outputs": []
    },
    {
      "cell_type": "code",
      "source": [
        "datadf.head()"
      ],
      "metadata": {
        "colab": {
          "base_uri": "https://localhost:8080/",
          "height": 206
        },
        "id": "_PbsqSLQhC5S",
        "outputId": "35efa2f8-9e08-4502-c369-024d8c8fd9d4"
      },
      "execution_count": 38,
      "outputs": [
        {
          "output_type": "execute_result",
          "data": {
            "text/plain": [
              "   Purchase  SUS  Duration  Gender  ASR_Error  Intent_Error\n",
              "0         1   84       254       0          3             2\n",
              "1         0   58       247       0          6             9\n",
              "2         0   56       125       1          6             8\n",
              "3         0   55        22       0         11             7\n",
              "4         1   95       262       0          2             3"
            ],
            "text/html": [
              "\n",
              "  <div id=\"df-4ab6e870-bd09-4f61-b469-7450e1a64cce\">\n",
              "    <div class=\"colab-df-container\">\n",
              "      <div>\n",
              "<style scoped>\n",
              "    .dataframe tbody tr th:only-of-type {\n",
              "        vertical-align: middle;\n",
              "    }\n",
              "\n",
              "    .dataframe tbody tr th {\n",
              "        vertical-align: top;\n",
              "    }\n",
              "\n",
              "    .dataframe thead th {\n",
              "        text-align: right;\n",
              "    }\n",
              "</style>\n",
              "<table border=\"1\" class=\"dataframe\">\n",
              "  <thead>\n",
              "    <tr style=\"text-align: right;\">\n",
              "      <th></th>\n",
              "      <th>Purchase</th>\n",
              "      <th>SUS</th>\n",
              "      <th>Duration</th>\n",
              "      <th>Gender</th>\n",
              "      <th>ASR_Error</th>\n",
              "      <th>Intent_Error</th>\n",
              "    </tr>\n",
              "  </thead>\n",
              "  <tbody>\n",
              "    <tr>\n",
              "      <th>0</th>\n",
              "      <td>1</td>\n",
              "      <td>84</td>\n",
              "      <td>254</td>\n",
              "      <td>0</td>\n",
              "      <td>3</td>\n",
              "      <td>2</td>\n",
              "    </tr>\n",
              "    <tr>\n",
              "      <th>1</th>\n",
              "      <td>0</td>\n",
              "      <td>58</td>\n",
              "      <td>247</td>\n",
              "      <td>0</td>\n",
              "      <td>6</td>\n",
              "      <td>9</td>\n",
              "    </tr>\n",
              "    <tr>\n",
              "      <th>2</th>\n",
              "      <td>0</td>\n",
              "      <td>56</td>\n",
              "      <td>125</td>\n",
              "      <td>1</td>\n",
              "      <td>6</td>\n",
              "      <td>8</td>\n",
              "    </tr>\n",
              "    <tr>\n",
              "      <th>3</th>\n",
              "      <td>0</td>\n",
              "      <td>55</td>\n",
              "      <td>22</td>\n",
              "      <td>0</td>\n",
              "      <td>11</td>\n",
              "      <td>7</td>\n",
              "    </tr>\n",
              "    <tr>\n",
              "      <th>4</th>\n",
              "      <td>1</td>\n",
              "      <td>95</td>\n",
              "      <td>262</td>\n",
              "      <td>0</td>\n",
              "      <td>2</td>\n",
              "      <td>3</td>\n",
              "    </tr>\n",
              "  </tbody>\n",
              "</table>\n",
              "</div>\n",
              "      <button class=\"colab-df-convert\" onclick=\"convertToInteractive('df-4ab6e870-bd09-4f61-b469-7450e1a64cce')\"\n",
              "              title=\"Convert this dataframe to an interactive table.\"\n",
              "              style=\"display:none;\">\n",
              "        \n",
              "  <svg xmlns=\"http://www.w3.org/2000/svg\" height=\"24px\"viewBox=\"0 0 24 24\"\n",
              "       width=\"24px\">\n",
              "    <path d=\"M0 0h24v24H0V0z\" fill=\"none\"/>\n",
              "    <path d=\"M18.56 5.44l.94 2.06.94-2.06 2.06-.94-2.06-.94-.94-2.06-.94 2.06-2.06.94zm-11 1L8.5 8.5l.94-2.06 2.06-.94-2.06-.94L8.5 2.5l-.94 2.06-2.06.94zm10 10l.94 2.06.94-2.06 2.06-.94-2.06-.94-.94-2.06-.94 2.06-2.06.94z\"/><path d=\"M17.41 7.96l-1.37-1.37c-.4-.4-.92-.59-1.43-.59-.52 0-1.04.2-1.43.59L10.3 9.45l-7.72 7.72c-.78.78-.78 2.05 0 2.83L4 21.41c.39.39.9.59 1.41.59.51 0 1.02-.2 1.41-.59l7.78-7.78 2.81-2.81c.8-.78.8-2.07 0-2.86zM5.41 20L4 18.59l7.72-7.72 1.47 1.35L5.41 20z\"/>\n",
              "  </svg>\n",
              "      </button>\n",
              "      \n",
              "  <style>\n",
              "    .colab-df-container {\n",
              "      display:flex;\n",
              "      flex-wrap:wrap;\n",
              "      gap: 12px;\n",
              "    }\n",
              "\n",
              "    .colab-df-convert {\n",
              "      background-color: #E8F0FE;\n",
              "      border: none;\n",
              "      border-radius: 50%;\n",
              "      cursor: pointer;\n",
              "      display: none;\n",
              "      fill: #1967D2;\n",
              "      height: 32px;\n",
              "      padding: 0 0 0 0;\n",
              "      width: 32px;\n",
              "    }\n",
              "\n",
              "    .colab-df-convert:hover {\n",
              "      background-color: #E2EBFA;\n",
              "      box-shadow: 0px 1px 2px rgba(60, 64, 67, 0.3), 0px 1px 3px 1px rgba(60, 64, 67, 0.15);\n",
              "      fill: #174EA6;\n",
              "    }\n",
              "\n",
              "    [theme=dark] .colab-df-convert {\n",
              "      background-color: #3B4455;\n",
              "      fill: #D2E3FC;\n",
              "    }\n",
              "\n",
              "    [theme=dark] .colab-df-convert:hover {\n",
              "      background-color: #434B5C;\n",
              "      box-shadow: 0px 1px 3px 1px rgba(0, 0, 0, 0.15);\n",
              "      filter: drop-shadow(0px 1px 2px rgba(0, 0, 0, 0.3));\n",
              "      fill: #FFFFFF;\n",
              "    }\n",
              "  </style>\n",
              "\n",
              "      <script>\n",
              "        const buttonEl =\n",
              "          document.querySelector('#df-4ab6e870-bd09-4f61-b469-7450e1a64cce button.colab-df-convert');\n",
              "        buttonEl.style.display =\n",
              "          google.colab.kernel.accessAllowed ? 'block' : 'none';\n",
              "\n",
              "        async function convertToInteractive(key) {\n",
              "          const element = document.querySelector('#df-4ab6e870-bd09-4f61-b469-7450e1a64cce');\n",
              "          const dataTable =\n",
              "            await google.colab.kernel.invokeFunction('convertToInteractive',\n",
              "                                                     [key], {});\n",
              "          if (!dataTable) return;\n",
              "\n",
              "          const docLinkHtml = 'Like what you see? Visit the ' +\n",
              "            '<a target=\"_blank\" href=https://colab.research.google.com/notebooks/data_table.ipynb>data table notebook</a>'\n",
              "            + ' to learn more about interactive tables.';\n",
              "          element.innerHTML = '';\n",
              "          dataTable['output_type'] = 'display_data';\n",
              "          await google.colab.output.renderOutput(dataTable, element);\n",
              "          const docLink = document.createElement('div');\n",
              "          docLink.innerHTML = docLinkHtml;\n",
              "          element.appendChild(docLink);\n",
              "        }\n",
              "      </script>\n",
              "    </div>\n",
              "  </div>\n",
              "  "
            ]
          },
          "metadata": {},
          "execution_count": 38
        }
      ]
    },
    {
      "cell_type": "code",
      "source": [
        "X_train, X_test, y_train, y_test = train_test_split(X,\n",
        "                                                    y,\n",
        "                                                    test_size = 0.2)\n",
        "np.random.seed(42)\n",
        "clf = RandomForestClassifier()\n",
        "\n",
        "# We must now scale the data:\n",
        "\n",
        "scaler = StandardScaler()\n",
        "X_train = scaler.fit_transform(X_train) # We only want to fit the model into the training data, not the test data.\n",
        "X_test = scaler.transform(X_test)\n",
        "\n",
        "\n",
        "clf.fit(X_train, y_train)\n",
        "clf.score(X_test, y_test)"
      ],
      "metadata": {
        "colab": {
          "base_uri": "https://localhost:8080/"
        },
        "id": "_taMrWj-hD4W",
        "outputId": "7b493d58-39f3-4437-fbd1-b166f1eebca8"
      },
      "execution_count": 46,
      "outputs": [
        {
          "output_type": "execute_result",
          "data": {
            "text/plain": [
              "0.8"
            ]
          },
          "metadata": {},
          "execution_count": 46
        }
      ]
    },
    {
      "cell_type": "code",
      "source": [
        "y_pred = clf.predict(X_test)"
      ],
      "metadata": {
        "id": "dWCKxpfehnjx"
      },
      "execution_count": 47,
      "outputs": []
    },
    {
      "cell_type": "code",
      "source": [
        "from sklearn.metrics import ConfusionMatrixDisplay\n",
        "from sklearn.metrics import roc_curve\n",
        "from sklearn.metrics import roc_auc_score\n",
        "\n",
        "ConfusionMatrixDisplay.from_estimator(estimator = clf, X = X, y = y)"
      ],
      "metadata": {
        "colab": {
          "base_uri": "https://localhost:8080/",
          "height": 353
        },
        "id": "ClciWRZrhWCx",
        "outputId": "08abca33-75ff-4cd1-cb60-117f2ac12f3a"
      },
      "execution_count": 48,
      "outputs": [
        {
          "output_type": "stream",
          "name": "stderr",
          "text": [
            "/usr/local/lib/python3.8/dist-packages/sklearn/base.py:443: UserWarning: X has feature names, but RandomForestClassifier was fitted without feature names\n",
            "  warnings.warn(\n"
          ]
        },
        {
          "output_type": "execute_result",
          "data": {
            "text/plain": [
              "<sklearn.metrics._plot.confusion_matrix.ConfusionMatrixDisplay at 0x7f6582393760>"
            ]
          },
          "metadata": {},
          "execution_count": 48
        },
        {
          "output_type": "display_data",
          "data": {
            "text/plain": [
              "<Figure size 432x288 with 2 Axes>"
            ],
            "image/png": "[encoded data removed]"
          },
          "metadata": {
            "needs_background": "light"
          }
        }
      ]
    },
    {
      "cell_type": "code",
      "source": [
        "ConfusionMatrixDisplay.from_predictions(y_true = y_test, y_pred = y_pred)"
      ],
      "metadata": {
        "colab": {
          "base_uri": "https://localhost:8080/",
          "height": 297
        },
        "id": "9W2OCZJqhhW1",
        "outputId": "ab9f7b0c-8660-4224-8d0e-8e787f73bbc9"
      },
      "execution_count": 49,
      "outputs": [
        {
          "output_type": "execute_result",
          "data": {
            "text/plain": [
              "<sklearn.metrics._plot.confusion_matrix.ConfusionMatrixDisplay at 0x7f65819552e0>"
            ]
          },
          "metadata": {},
          "execution_count": 49
        },
        {
          "output_type": "display_data",
          "data": {
            "text/plain": [
              "<Figure size 432x288 with 2 Axes>"
            ],
            "image/png": "[encoded data removed]"
          },
          "metadata": {
            "needs_background": "light"
          }
        }
      ]
    },
    {
      "cell_type": "code",
      "source": [
        "y_probs = clf.predict_proba(X_test)\n",
        "\n",
        "# Getting probabilities only for positive class (predicted '1') using slicing.\n",
        "\n",
        "y_probs_positive = y_probs[:, 1]\n",
        "\n",
        "# Calculate FPR, TPR and thresholds:\n",
        "\n",
        "fpr, tpr, thresholds = roc_curve(y_test, y_probs_positive)\n",
        "\n",
        "plot_roc_curve(fpr, tpr)"
      ],
      "metadata": {
        "colab": {
          "base_uri": "https://localhost:8080/",
          "height": 295
        },
        "id": "__zzXIboiG3b",
        "outputId": "9e17aca2-ef35-431e-87d2-a367fd4a8580"
      },
      "execution_count": 45,
      "outputs": [
        {
          "output_type": "display_data",
          "data": {
            "text/plain": [
              "<Figure size 432x288 with 1 Axes>"
            ],
            "image/png": "[encoded data removed]"
          },
          "metadata": {
            "needs_background": "light"
          }
        }
      ]
    },
    {
      "cell_type": "code",
      "source": [
        "# Area under curve score:\n",
        "\n",
        "roc_auc_score(y_test, y_probs_positive)"
      ],
      "metadata": {
        "colab": {
          "base_uri": "https://localhost:8080/"
        },
        "id": "dt0UrJhCfviB",
        "outputId": "4133be32-2057-4f42-d198-488c9a84276e"
      },
      "execution_count": 44,
      "outputs": [
        {
          "output_type": "execute_result",
          "data": {
            "text/plain": [
              "0.9400000000000001"
            ]
          },
          "metadata": {},
          "execution_count": 44
        }
      ]
    },
    {
      "cell_type": "code",
      "source": [
        "from sklearn.metrics import classification_report\n",
        "\n",
        "print(classification_report(y_test, y_pred))"
      ],
      "metadata": {
        "colab": {
          "base_uri": "https://localhost:8080/"
        },
        "id": "9daQqiJUgF4D",
        "outputId": "8c52fcaf-a99b-4b94-dc68-a25d16b0a0f2"
      },
      "execution_count": 51,
      "outputs": [
        {
          "output_type": "stream",
          "name": "stdout",
          "text": [
            "              precision    recall  f1-score   support\n",
            "\n",
            "           0       0.92      0.79      0.85        14\n",
            "           1       0.62      0.83      0.71         6\n",
            "\n",
            "    accuracy                           0.80        20\n",
            "   macro avg       0.77      0.81      0.78        20\n",
            "weighted avg       0.83      0.80      0.81        20\n",
            "\n"
          ]
        }
      ]
    },
    {
      "cell_type": "markdown",
      "source": [
        "Based on the four classification estimators and the above\n",
        "metrics, we can see that the SVM and Logistic Regression classifiers have the best overall\n",
        "performance due to the estimator having a score of 0.95 after running on test\n",
        "data. At the same time, however, the Naive Bayes estimator has a better area under\n",
        "curve value, which means that this estimator is better at predicting true positives\n",
        "and true negatives. Out of all estimators, the Random Forest model  has the worst performance,\n",
        "with higher amounts of mislabeling as seen through the confusion matrix\n",
        "for that estimator and a lower accuracy score of 0.80. As such, the Random Forest classifier is not able to predict values\n",
        "as well as the three other estimators, all of which have higher scores on the\n",
        "test data. "
      ],
      "metadata": {
        "id": "VmCqjZNiiMHX"
      }
    },
    {
      "cell_type": "code",
      "source": [],
      "metadata": {
        "id": "VJ9wkFoBCS9f"
      },
      "execution_count": 43,
      "outputs": []
    }
  ]
}